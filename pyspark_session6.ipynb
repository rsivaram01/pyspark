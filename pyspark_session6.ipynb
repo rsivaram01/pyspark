{
 "cells": [
  {
   "cell_type": "code",
   "execution_count": 0,
   "metadata": {
    "application/vnd.databricks.v1+cell": {
     "cellMetadata": {
      "byteLimit": 2048000,
      "rowLimit": 10000
     },
     "inputWidgets": {},
     "nuid": "479c513d-2cd2-4a94-b9f1-7023f58425c7",
     "showTitle": false,
     "tableResultSettingsMap": {},
     "title": ""
    }
   },
   "outputs": [],
   "source": [
    "emp_df = spark.read.option('multiline', True).json(\"/Volumes/sample_cat/default/volume_csv/json_Data/employees.json\")"
   ]
  },
  {
   "cell_type": "code",
   "execution_count": 0,
   "metadata": {
    "application/vnd.databricks.v1+cell": {
     "cellMetadata": {
      "byteLimit": 2048000,
      "rowLimit": 10000
     },
     "inputWidgets": {},
     "nuid": "802662bc-5c95-4c86-a50e-4614a678edd4",
     "showTitle": false,
     "tableResultSettingsMap": {},
     "title": ""
    }
   },
   "outputs": [
    {
     "output_type": "display_data",
     "data": {
      "text/html": [
       "<style scoped>\n",
       "  .table-result-container {\n",
       "    max-height: 300px;\n",
       "    overflow: auto;\n",
       "  }\n",
       "  table, th, td {\n",
       "    border: 1px solid black;\n",
       "    border-collapse: collapse;\n",
       "  }\n",
       "  th, td {\n",
       "    padding: 5px;\n",
       "  }\n",
       "  th {\n",
       "    text-align: left;\n",
       "  }\n",
       "</style><div class='table-result-container'><table class='table-result'><thead style='background-color: white'><tr><th>Employees</th></tr></thead><tbody><tr><td>List(List(romin.k.irani@gmail.com, E1, Romin, Developer, Irani, 408-1234567, Romin Irani, CA, rirani), List(neilrirani@gmail.com, E2, Neil, Developer, Irani, 408-1111111, Neil Irani, CA, nirani), List(tomhanks@gmail.com, E3, Tom, Program Directory, Hanks, 408-2222222, Tom Hanks, CA, thanks))</td></tr></tbody></table></div>"
      ]
     },
     "metadata": {
      "application/vnd.databricks.v1+output": {
       "addedWidgets": {},
       "aggData": [],
       "aggError": "",
       "aggOverflow": false,
       "aggSchema": [],
       "aggSeriesLimitReached": false,
       "aggType": "",
       "arguments": {},
       "columnCustomDisplayInfos": {},
       "data": [
        [
         [
          [
           "romin.k.irani@gmail.com",
           "E1",
           "Romin",
           "Developer",
           "Irani",
           "408-1234567",
           "Romin Irani",
           "CA",
           "rirani"
          ],
          [
           "neilrirani@gmail.com",
           "E2",
           "Neil",
           "Developer",
           "Irani",
           "408-1111111",
           "Neil Irani",
           "CA",
           "nirani"
          ],
          [
           "tomhanks@gmail.com",
           "E3",
           "Tom",
           "Program Directory",
           "Hanks",
           "408-2222222",
           "Tom Hanks",
           "CA",
           "thanks"
          ]
         ]
        ]
       ],
       "datasetInfos": [],
       "dbfsResultPath": null,
       "isJsonSchema": true,
       "metadata": {},
       "overflow": false,
       "plotOptions": {
        "customPlotOptions": {},
        "displayType": "table",
        "pivotAggregation": null,
        "pivotColumns": null,
        "xColumns": null,
        "yColumns": null
       },
       "removedWidgets": [],
       "schema": [
        {
         "metadata": "{}",
         "name": "Employees",
         "type": "{\"containsNull\":true,\"elementType\":{\"fields\":[{\"metadata\":{},\"name\":\"emailAddress\",\"nullable\":true,\"type\":\"string\"},{\"metadata\":{},\"name\":\"employeeCode\",\"nullable\":true,\"type\":\"string\"},{\"metadata\":{},\"name\":\"firstName\",\"nullable\":true,\"type\":\"string\"},{\"metadata\":{},\"name\":\"jobTitleName\",\"nullable\":true,\"type\":\"string\"},{\"metadata\":{},\"name\":\"lastName\",\"nullable\":true,\"type\":\"string\"},{\"metadata\":{},\"name\":\"phoneNumber\",\"nullable\":true,\"type\":\"string\"},{\"metadata\":{},\"name\":\"preferredFullName\",\"nullable\":true,\"type\":\"string\"},{\"metadata\":{},\"name\":\"region\",\"nullable\":true,\"type\":\"string\"},{\"metadata\":{},\"name\":\"userId\",\"nullable\":true,\"type\":\"string\"}],\"type\":\"struct\"},\"type\":\"array\"}"
        }
       ],
       "type": "table"
      }
     },
     "output_type": "display_data"
    }
   ],
   "source": [
    "emp_df.display()"
   ]
  },
  {
   "cell_type": "code",
   "execution_count": 0,
   "metadata": {
    "application/vnd.databricks.v1+cell": {
     "cellMetadata": {
      "byteLimit": 2048000,
      "rowLimit": 10000
     },
     "inputWidgets": {},
     "nuid": "81441d2e-b539-4b01-9d99-e9212930b8ba",
     "showTitle": false,
     "tableResultSettingsMap": {},
     "title": ""
    }
   },
   "outputs": [],
   "source": [
    "from pyspark.sql.functions import *"
   ]
  },
  {
   "cell_type": "code",
   "execution_count": 0,
   "metadata": {
    "application/vnd.databricks.v1+cell": {
     "cellMetadata": {},
     "inputWidgets": {},
     "nuid": "c8324df0-b027-4853-ab74-88635816fc39",
     "showTitle": false,
     "tableResultSettingsMap": {},
     "title": ""
    }
   },
   "outputs": [],
   "source": [
    "# userId  employeeCode firstName lastName preferredFullName jobTitleName emailAddress phoneNumber region\n"
   ]
  },
  {
   "cell_type": "code",
   "execution_count": 0,
   "metadata": {
    "application/vnd.databricks.v1+cell": {
     "cellMetadata": {
      "byteLimit": 2048000,
      "rowLimit": 10000
     },
     "inputWidgets": {},
     "nuid": "ae89cd5c-2b75-4782-b5dd-9687408168b8",
     "showTitle": false,
     "tableResultSettingsMap": {},
     "title": ""
    }
   },
   "outputs": [],
   "source": [
    "emp_df1 = emp_df.withColumn(\"explode_col\", explode(col(\"Employees\")))\\\n",
    "    .withColumn(\"userId\",col(\"explode_col.userId\"))\\\n",
    "    .withColumn(\"employeeCode\", col(\"explode_col.employeeCode\"))\\\n",
    "        .withColumn(\"firstName\", col(\"explode_col.firstName\"))\\\n",
    "        .withColumn(\"lastName\", col(\"explode_col.lastName\"))\\\n",
    "        .withColumn(\"preferredFullName\", col(\"explode_col.preferredFullName\"))\\\n",
    "        .withColumn(\"jobTitleName\", col(\"explode_col.jobTitleName\"))\\\n",
    "        .withColumn(\"emailAddress\", col(\"explode_col.emailAddress\"))\\\n",
    "        .withColumn(\"phoneNumber\", col(\"explode_col.phoneNumber\"))\\\n",
    "        .withColumn(\"region\", col(\"explode_col.region\"))\n",
    "        "
   ]
  },
  {
   "cell_type": "code",
   "execution_count": 0,
   "metadata": {
    "application/vnd.databricks.v1+cell": {
     "cellMetadata": {
      "byteLimit": 2048000,
      "rowLimit": 10000
     },
     "inputWidgets": {},
     "nuid": "367f80d7-c341-4a2c-a7f5-9b427a8068e4",
     "showTitle": false,
     "tableResultSettingsMap": {},
     "title": ""
    }
   },
   "outputs": [],
   "source": [
    "emp_df_clean = emp_df1.drop(\"Employees\").drop(\"explode_col\")"
   ]
  },
  {
   "cell_type": "code",
   "execution_count": 0,
   "metadata": {
    "application/vnd.databricks.v1+cell": {
     "cellMetadata": {
      "byteLimit": 2048000,
      "rowLimit": 10000
     },
     "inputWidgets": {},
     "nuid": "7f938e05-f1cb-48f5-b1cc-0838f91986e7",
     "showTitle": false,
     "tableResultSettingsMap": {},
     "title": ""
    }
   },
   "outputs": [
    {
     "output_type": "display_data",
     "data": {
      "text/html": [
       "<style scoped>\n",
       "  .table-result-container {\n",
       "    max-height: 300px;\n",
       "    overflow: auto;\n",
       "  }\n",
       "  table, th, td {\n",
       "    border: 1px solid black;\n",
       "    border-collapse: collapse;\n",
       "  }\n",
       "  th, td {\n",
       "    padding: 5px;\n",
       "  }\n",
       "  th {\n",
       "    text-align: left;\n",
       "  }\n",
       "</style><div class='table-result-container'><table class='table-result'><thead style='background-color: white'><tr><th>userId</th><th>employeeCode</th><th>firstName</th><th>lastName</th><th>preferredFullName</th><th>jobTitleName</th><th>emailAddress</th><th>phoneNumber</th><th>region</th></tr></thead><tbody><tr><td>rirani</td><td>E1</td><td>Romin</td><td>Irani</td><td>Romin Irani</td><td>Developer</td><td>romin.k.irani@gmail.com</td><td>408-1234567</td><td>CA</td></tr><tr><td>nirani</td><td>E2</td><td>Neil</td><td>Irani</td><td>Neil Irani</td><td>Developer</td><td>neilrirani@gmail.com</td><td>408-1111111</td><td>CA</td></tr><tr><td>thanks</td><td>E3</td><td>Tom</td><td>Hanks</td><td>Tom Hanks</td><td>Program Directory</td><td>tomhanks@gmail.com</td><td>408-2222222</td><td>CA</td></tr></tbody></table></div>"
      ]
     },
     "metadata": {
      "application/vnd.databricks.v1+output": {
       "addedWidgets": {},
       "aggData": [],
       "aggError": "",
       "aggOverflow": false,
       "aggSchema": [],
       "aggSeriesLimitReached": false,
       "aggType": "",
       "arguments": {},
       "columnCustomDisplayInfos": {},
       "data": [
        [
         "rirani",
         "E1",
         "Romin",
         "Irani",
         "Romin Irani",
         "Developer",
         "romin.k.irani@gmail.com",
         "408-1234567",
         "CA"
        ],
        [
         "nirani",
         "E2",
         "Neil",
         "Irani",
         "Neil Irani",
         "Developer",
         "neilrirani@gmail.com",
         "408-1111111",
         "CA"
        ],
        [
         "thanks",
         "E3",
         "Tom",
         "Hanks",
         "Tom Hanks",
         "Program Directory",
         "tomhanks@gmail.com",
         "408-2222222",
         "CA"
        ]
       ],
       "datasetInfos": [],
       "dbfsResultPath": null,
       "isJsonSchema": true,
       "metadata": {},
       "overflow": false,
       "plotOptions": {
        "customPlotOptions": {},
        "displayType": "table",
        "pivotAggregation": null,
        "pivotColumns": null,
        "xColumns": null,
        "yColumns": null
       },
       "removedWidgets": [],
       "schema": [
        {
         "metadata": "{}",
         "name": "userId",
         "type": "\"string\""
        },
        {
         "metadata": "{}",
         "name": "employeeCode",
         "type": "\"string\""
        },
        {
         "metadata": "{}",
         "name": "firstName",
         "type": "\"string\""
        },
        {
         "metadata": "{}",
         "name": "lastName",
         "type": "\"string\""
        },
        {
         "metadata": "{}",
         "name": "preferredFullName",
         "type": "\"string\""
        },
        {
         "metadata": "{}",
         "name": "jobTitleName",
         "type": "\"string\""
        },
        {
         "metadata": "{}",
         "name": "emailAddress",
         "type": "\"string\""
        },
        {
         "metadata": "{}",
         "name": "phoneNumber",
         "type": "\"string\""
        },
        {
         "metadata": "{}",
         "name": "region",
         "type": "\"string\""
        }
       ],
       "type": "table"
      }
     },
     "output_type": "display_data"
    }
   ],
   "source": [
    "emp_df_clean.display()"
   ]
  },
  {
   "cell_type": "code",
   "execution_count": 0,
   "metadata": {
    "application/vnd.databricks.v1+cell": {
     "cellMetadata": {
      "byteLimit": 2048000,
      "rowLimit": 10000
     },
     "inputWidgets": {},
     "nuid": "cbca8a63-c547-4f64-b223-bf86ce158698",
     "showTitle": false,
     "tableResultSettingsMap": {},
     "title": ""
    }
   },
   "outputs": [],
   "source": [
    "emp_df_clean.write.saveAsTable(\"sample_cat.flights.emp_clean\")"
   ]
  },
  {
   "cell_type": "code",
   "execution_count": 0,
   "metadata": {
    "application/vnd.databricks.v1+cell": {
     "cellMetadata": {
      "byteLimit": 2048000,
      "implicitDf": true,
      "rowLimit": 10000
     },
     "inputWidgets": {},
     "nuid": "eeeb2e9d-7b19-4551-af86-88071c0ad738",
     "showTitle": false,
     "tableResultSettingsMap": {},
     "title": ""
    }
   },
   "outputs": [
    {
     "output_type": "display_data",
     "data": {
      "text/html": [
       "<style scoped>\n",
       "  .table-result-container {\n",
       "    max-height: 300px;\n",
       "    overflow: auto;\n",
       "  }\n",
       "  table, th, td {\n",
       "    border: 1px solid black;\n",
       "    border-collapse: collapse;\n",
       "  }\n",
       "  th, td {\n",
       "    padding: 5px;\n",
       "  }\n",
       "  th {\n",
       "    text-align: left;\n",
       "  }\n",
       "</style><div class='table-result-container'><table class='table-result'><thead style='background-color: white'><tr><th>userId</th><th>employeeCode</th><th>firstName</th><th>lastName</th><th>preferredFullName</th><th>jobTitleName</th><th>emailAddress</th><th>phoneNumber</th><th>region</th></tr></thead><tbody><tr><td>rirani</td><td>E1</td><td>Romin</td><td>Irani</td><td>Romin Irani</td><td>Developer</td><td>romin.k.irani@gmail.com</td><td>408-1234567</td><td>CA</td></tr><tr><td>nirani</td><td>E2</td><td>Neil</td><td>Irani</td><td>Neil Irani</td><td>Developer</td><td>neilrirani@gmail.com</td><td>408-1111111</td><td>CA</td></tr><tr><td>thanks</td><td>E3</td><td>Tom</td><td>Hanks</td><td>Tom Hanks</td><td>Program Directory</td><td>tomhanks@gmail.com</td><td>408-2222222</td><td>CA</td></tr></tbody></table></div>"
      ]
     },
     "metadata": {
      "application/vnd.databricks.v1+output": {
       "addedWidgets": {},
       "aggData": [],
       "aggError": "",
       "aggOverflow": false,
       "aggSchema": [],
       "aggSeriesLimitReached": false,
       "aggType": "",
       "arguments": {},
       "columnCustomDisplayInfos": {},
       "data": [
        [
         "rirani",
         "E1",
         "Romin",
         "Irani",
         "Romin Irani",
         "Developer",
         "romin.k.irani@gmail.com",
         "408-1234567",
         "CA"
        ],
        [
         "nirani",
         "E2",
         "Neil",
         "Irani",
         "Neil Irani",
         "Developer",
         "neilrirani@gmail.com",
         "408-1111111",
         "CA"
        ],
        [
         "thanks",
         "E3",
         "Tom",
         "Hanks",
         "Tom Hanks",
         "Program Directory",
         "tomhanks@gmail.com",
         "408-2222222",
         "CA"
        ]
       ],
       "datasetInfos": [
        {
         "name": "_sqldf",
         "schema": {
          "fields": [
           {
            "metadata": {},
            "name": "userId",
            "nullable": true,
            "type": "string"
           },
           {
            "metadata": {},
            "name": "employeeCode",
            "nullable": true,
            "type": "string"
           },
           {
            "metadata": {},
            "name": "firstName",
            "nullable": true,
            "type": "string"
           },
           {
            "metadata": {},
            "name": "lastName",
            "nullable": true,
            "type": "string"
           },
           {
            "metadata": {},
            "name": "preferredFullName",
            "nullable": true,
            "type": "string"
           },
           {
            "metadata": {},
            "name": "jobTitleName",
            "nullable": true,
            "type": "string"
           },
           {
            "metadata": {},
            "name": "emailAddress",
            "nullable": true,
            "type": "string"
           },
           {
            "metadata": {},
            "name": "phoneNumber",
            "nullable": true,
            "type": "string"
           },
           {
            "metadata": {},
            "name": "region",
            "nullable": true,
            "type": "string"
           }
          ],
          "type": "struct"
         },
         "tableIdentifier": null,
         "typeStr": "pyspark.sql.connect.dataframe.DataFrame"
        }
       ],
       "dbfsResultPath": null,
       "isJsonSchema": true,
       "metadata": {
        "createTempViewForImplicitDf": true,
        "dataframeName": "_sqldf",
        "executionCount": 38
       },
       "overflow": false,
       "plotOptions": {
        "customPlotOptions": {},
        "displayType": "table",
        "pivotAggregation": null,
        "pivotColumns": null,
        "xColumns": null,
        "yColumns": null
       },
       "removedWidgets": [],
       "schema": [
        {
         "metadata": "{}",
         "name": "userId",
         "type": "\"string\""
        },
        {
         "metadata": "{}",
         "name": "employeeCode",
         "type": "\"string\""
        },
        {
         "metadata": "{}",
         "name": "firstName",
         "type": "\"string\""
        },
        {
         "metadata": "{}",
         "name": "lastName",
         "type": "\"string\""
        },
        {
         "metadata": "{}",
         "name": "preferredFullName",
         "type": "\"string\""
        },
        {
         "metadata": "{}",
         "name": "jobTitleName",
         "type": "\"string\""
        },
        {
         "metadata": "{}",
         "name": "emailAddress",
         "type": "\"string\""
        },
        {
         "metadata": "{}",
         "name": "phoneNumber",
         "type": "\"string\""
        },
        {
         "metadata": "{}",
         "name": "region",
         "type": "\"string\""
        }
       ],
       "type": "table"
      }
     },
     "output_type": "display_data"
    }
   ],
   "source": [
    "%sql\n",
    "\n",
    "select * from sample_cat.flights.emp_clean"
   ]
  }
 ],
 "metadata": {
  "application/vnd.databricks.v1+notebook": {
   "computePreferences": {
    "hardware": {
     "accelerator": null,
     "gpuPoolId": null,
     "memory": null
    }
   },
   "dashboards": [],
   "environmentMetadata": {
    "base_environment": "",
    "environment_version": "4"
   },
   "inputWidgetPreferences": null,
   "language": "python",
   "notebookMetadata": {
    "mostRecentlyExecutedCommandWithImplicitDF": {
     "commandId": 7694215699152672,
     "dataframes": [
      "_sqldf"
     ]
    },
    "pythonIndentUnit": 4
   },
   "notebookName": "pyspark_session6",
   "widgets": {}
  },
  "language_info": {
   "name": "python"
  }
 },
 "nbformat": 4,
 "nbformat_minor": 0
}
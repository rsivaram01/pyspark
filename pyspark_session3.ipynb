{
 "cells": [
  {
   "cell_type": "code",
   "execution_count": 0,
   "metadata": {
    "application/vnd.databricks.v1+cell": {
     "cellMetadata": {},
     "inputWidgets": {},
     "nuid": "cbf4950d-8257-4838-bd19-4204e9d73db0",
     "showTitle": false,
     "tableResultSettingsMap": {},
     "title": ""
    }
   },
   "outputs": [],
   "source": [
    "fdf1 = spark.read.options(header = True, )"
   ]
  },
  {
   "cell_type": "code",
   "execution_count": 0,
   "metadata": {
    "application/vnd.databricks.v1+cell": {
     "cellMetadata": {
      "byteLimit": 2048000,
      "rowLimit": 10000
     },
     "inputWidgets": {},
     "nuid": "d3cfaebb-10b8-4170-bf37-dac92a16e375",
     "showTitle": false,
     "tableResultSettingsMap": {},
     "title": ""
    }
   },
   "outputs": [],
   "source": [
    "fdf = spark.read.option(\"header\",\"true\")\\\n",
    "                .option(\"inferSchema\",'true')\\\n",
    "                .option(\"nullValues\",'null')\\\n",
    "                .option(\"columnNameOfCurruptRecord\", \"badData\")\\\n",
    "                .csv(\"/Volumes/sample_cat/default/volume_csv/sample_dir/atc_pre_departure_delays_2016.csv\")"
   ]
  },
  {
   "cell_type": "code",
   "execution_count": 0,
   "metadata": {
    "application/vnd.databricks.v1+cell": {
     "cellMetadata": {
      "byteLimit": 2048000,
      "rowLimit": 10000
     },
     "inputWidgets": {},
     "nuid": "c009858a-cc2e-40a1-a9f0-fa2516ef6ce7",
     "showTitle": false,
     "tableResultSettingsMap": {},
     "title": ""
    }
   },
   "outputs": [],
   "source": [
    "fdf.display()"
   ]
  },
  {
   "cell_type": "code",
   "execution_count": 0,
   "metadata": {
    "application/vnd.databricks.v1+cell": {
     "cellMetadata": {},
     "inputWidgets": {},
     "nuid": "828124b0-3ea6-4173-8d53-4a72ce1b196f",
     "showTitle": false,
     "tableResultSettingsMap": {},
     "title": ""
    }
   },
   "outputs": [],
   "source": [
    "# for currupt records it will give value as True\n",
    "# for good records it will the value as False"
   ]
  },
  {
   "cell_type": "code",
   "execution_count": 0,
   "metadata": {
    "application/vnd.databricks.v1+cell": {
     "cellMetadata": {
      "byteLimit": 2048000,
      "rowLimit": 10000
     },
     "inputWidgets": {},
     "nuid": "8ee0ceef-cc55-467f-a090-5a899ea25b80",
     "showTitle": false,
     "tableResultSettingsMap": {},
     "title": ""
    }
   },
   "outputs": [],
   "source": [
    "cols = fdf.columns"
   ]
  },
  {
   "cell_type": "code",
   "execution_count": 0,
   "metadata": {
    "application/vnd.databricks.v1+cell": {
     "cellMetadata": {
      "byteLimit": 2048000,
      "rowLimit": 10000
     },
     "inputWidgets": {},
     "nuid": "64643f9f-15e4-4799-9dee-7898f54c9948",
     "showTitle": false,
     "tableResultSettingsMap": {},
     "title": ""
    }
   },
   "outputs": [
    {
     "output_type": "execute_result",
     "data": {
      "text/plain": [
       "['YEAR',\n",
       " 'MONTH_NUM',\n",
       " 'MONTH_MON',\n",
       " 'FLT_DATE',\n",
       " 'APT_ICAO',\n",
       " 'APT_NAME',\n",
       " 'STATE_NAME',\n",
       " 'FLT_DEP_1',\n",
       " 'FLT_DEP_IFR_2',\n",
       " 'DLY_ATC_PRE_2',\n",
       " 'FLT_DEP_3',\n",
       " 'DLY_ATC_PRE_3']"
      ]
     },
     "execution_count": 20,
     "metadata": {},
     "output_type": "execute_result"
    }
   ],
   "source": [
    "cols"
   ]
  },
  {
   "cell_type": "code",
   "execution_count": 0,
   "metadata": {
    "application/vnd.databricks.v1+cell": {
     "cellMetadata": {},
     "inputWidgets": {},
     "nuid": "61b3e439-ba63-403d-b26c-60faafa00ac0",
     "showTitle": false,
     "tableResultSettingsMap": {},
     "title": ""
    }
   },
   "outputs": [],
   "source": [
    "# we have a dataframe,\n",
    "\n",
    "when I say display i'll be gettting all the fileds\n",
    "\n",
    "I want to get specifc fields only"
   ]
  },
  {
   "cell_type": "code",
   "execution_count": 0,
   "metadata": {
    "application/vnd.databricks.v1+cell": {
     "cellMetadata": {
      "byteLimit": 2048000,
      "rowLimit": 10000
     },
     "inputWidgets": {},
     "nuid": "87b0959c-8084-4b0b-8850-73b5da27890d",
     "showTitle": false,
     "tableResultSettingsMap": {
      "0": {
       "dataGridStateBlob": "{\"version\":1,\"tableState\":{\"columnPinning\":{\"left\":[\"#row_number#\"],\"right\":[]},\"columnSizing\":{},\"columnVisibility\":{}},\"settings\":{\"columns\":{}},\"syncTimestamp\":1760612109317}",
       "filterBlob": "{\"version\":1,\"filterGroups\":[],\"syncTimestamp\":1760612188499}",
       "queryPlanFiltersBlob": "[]",
       "tableResultIndex": 0
      }
     },
     "title": ""
    }
   },
   "outputs": [],
   "source": [
    "fdf.select(\"MONTH_NUM\",\"year\",\"MONTH_MON\").display()"
   ]
  },
  {
   "cell_type": "code",
   "execution_count": 0,
   "metadata": {
    "application/vnd.databricks.v1+cell": {
     "cellMetadata": {
      "byteLimit": 2048000,
      "rowLimit": 10000
     },
     "inputWidgets": {},
     "nuid": "91ca9aab-486d-4f99-922a-00ede68a0d22",
     "showTitle": false,
     "tableResultSettingsMap": {},
     "title": ""
    }
   },
   "outputs": [
    {
     "output_type": "stream",
     "name": "stdout",
     "output_type": "stream",
     "text": [
      "+---------+----+----------------+\n|MONTH_NUM|year|lower(MONTH_MON)|\n+---------+----+----------------+\n|        1|2016|             jan|\n|        1|2016|             jan|\n|        1|2016|             jan|\n|        1|2016|             jan|\n+---------+----+----------------+\nonly showing top 4 rows\n"
     ]
    }
   ],
   "source": [
    "fdf.select(\"MONTH_NUM\",\"year\",lower(\"MONTH_MON\")).show(4)"
   ]
  },
  {
   "cell_type": "code",
   "execution_count": 0,
   "metadata": {
    "application/vnd.databricks.v1+cell": {
     "cellMetadata": {
      "byteLimit": 2048000,
      "rowLimit": 10000
     },
     "inputWidgets": {},
     "nuid": "36127a61-0f6b-487e-8cf1-64c725cd5996",
     "showTitle": false,
     "tableResultSettingsMap": {},
     "title": ""
    }
   },
   "outputs": [
    {
     "output_type": "stream",
     "name": "stdout",
     "output_type": "stream",
     "text": [
      "+----+---------+\n|YEAR|MONTH_MON|\n+----+---------+\n|2016|      JAN|\n|2016|      JAN|\n+----+---------+\nonly showing top 2 rows\n"
     ]
    }
   ],
   "source": [
    "fdf.select(fdf.YEAR,fdf.MONTH_MON).show(2)"
   ]
  },
  {
   "cell_type": "code",
   "execution_count": 0,
   "metadata": {
    "application/vnd.databricks.v1+cell": {
     "cellMetadata": {
      "byteLimit": 2048000,
      "rowLimit": 10000
     },
     "inputWidgets": {},
     "nuid": "af45e49c-41d4-44ee-9c47-6dd97f721411",
     "showTitle": false,
     "tableResultSettingsMap": {},
     "title": ""
    }
   },
   "outputs": [],
   "source": [
    "from pyspark.sql.functions import *"
   ]
  },
  {
   "cell_type": "code",
   "execution_count": 0,
   "metadata": {
    "application/vnd.databricks.v1+cell": {
     "cellMetadata": {
      "byteLimit": 2048000,
      "rowLimit": 10000
     },
     "inputWidgets": {},
     "nuid": "846612e3-93ca-4e3a-80b4-a0d526fd0b94",
     "showTitle": false,
     "tableResultSettingsMap": {},
     "title": ""
    }
   },
   "outputs": [
    {
     "output_type": "stream",
     "name": "stdout",
     "output_type": "stream",
     "text": [
      "+----+-----+\n|YEAR|month|\n+----+-----+\n|2016|  jan|\n|2016|  jan|\n|2016|  jan|\n|2016|  jan|\n|2016|  jan|\n|2016|  jan|\n|2016|  jan|\n|2016|  jan|\n+----+-----+\nonly showing top 8 rows\n"
     ]
    }
   ],
   "source": [
    "fdf.select(fdf[\"YEAR\"],lower(fdf[\"MONTH_MON\"]).alias(\"month\")).show(8)"
   ]
  },
  {
   "cell_type": "code",
   "execution_count": 0,
   "metadata": {
    "application/vnd.databricks.v1+cell": {
     "cellMetadata": {},
     "inputWidgets": {},
     "nuid": "85371c1d-74e7-4918-87c4-61c2aa4ea0ad",
     "showTitle": false,
     "tableResultSettingsMap": {},
     "title": ""
    }
   },
   "outputs": [],
   "source": [
    "# col method"
   ]
  },
  {
   "cell_type": "code",
   "execution_count": 0,
   "metadata": {
    "application/vnd.databricks.v1+cell": {
     "cellMetadata": {
      "byteLimit": 2048000,
      "rowLimit": 10000
     },
     "inputWidgets": {},
     "nuid": "28608fc8-420e-4ea6-b7f9-4d8c74be19fe",
     "showTitle": false,
     "tableResultSettingsMap": {},
     "title": ""
    }
   },
   "outputs": [
    {
     "output_type": "stream",
     "name": "stdout",
     "output_type": "stream",
     "text": [
      "+----+---------+\n|YEAR|MONTH_MON|\n+----+---------+\n|2016|      JAN|\n|2016|      JAN|\n|2016|      JAN|\n|2016|      JAN|\n|2016|      JAN|\n|2016|      JAN|\n|2016|      JAN|\n|2016|      JAN|\n+----+---------+\nonly showing top 8 rows\n"
     ]
    }
   ],
   "source": [
    "fdf.select(col(\"YEAR\"),col(\"MONTH_MON\")).show(8)"
   ]
  },
  {
   "cell_type": "code",
   "execution_count": 0,
   "metadata": {
    "application/vnd.databricks.v1+cell": {
     "cellMetadata": {
      "byteLimit": 2048000,
      "rowLimit": 10000
     },
     "inputWidgets": {},
     "nuid": "a4617553-0341-458a-9368-d6155a7051d3",
     "showTitle": false,
     "tableResultSettingsMap": {},
     "title": ""
    }
   },
   "outputs": [],
   "source": [
    "fdf.display()"
   ]
  },
  {
   "cell_type": "code",
   "execution_count": 0,
   "metadata": {
    "application/vnd.databricks.v1+cell": {
     "cellMetadata": {
      "byteLimit": 2048000,
      "rowLimit": 10000
     },
     "inputWidgets": {},
     "nuid": "06f967d1-efef-4835-9bc8-edc3ecf1abba",
     "showTitle": false,
     "tableResultSettingsMap": {},
     "title": ""
    }
   },
   "outputs": [],
   "source": [
    "fdf_2017 = fdf.filter(fdf[\"year\"] == '2017')"
   ]
  },
  {
   "cell_type": "code",
   "execution_count": 0,
   "metadata": {
    "application/vnd.databricks.v1+cell": {
     "cellMetadata": {
      "byteLimit": 2048000,
      "rowLimit": 10000
     },
     "inputWidgets": {},
     "nuid": "2d4c9c39-a838-402f-bf30-f07182976304",
     "showTitle": false,
     "tableResultSettingsMap": {},
     "title": ""
    }
   },
   "outputs": [
    {
     "output_type": "display_data",
     "data": {
      "text/html": [
       "<style scoped>\n",
       "  .table-result-container {\n",
       "    max-height: 300px;\n",
       "    overflow: auto;\n",
       "  }\n",
       "  table, th, td {\n",
       "    border: 1px solid black;\n",
       "    border-collapse: collapse;\n",
       "  }\n",
       "  th, td {\n",
       "    padding: 5px;\n",
       "  }\n",
       "  th {\n",
       "    text-align: left;\n",
       "  }\n",
       "</style><div class='table-result-container'><table class='table-result'><thead style='background-color: white'><tr><th>YEAR</th><th>MONTH_NUM</th><th>MONTH_MON</th><th>FLT_DATE</th><th>APT_ICAO</th><th>APT_NAME</th><th>STATE_NAME</th><th>FLT_DEP_1</th><th>FLT_DEP_IFR_2</th><th>DLY_ATC_PRE_2</th><th>FLT_DEP_3</th><th>DLY_ATC_PRE_3</th></tr></thead><tbody></tbody></table></div>"
      ]
     },
     "metadata": {
      "application/vnd.databricks.v1+output": {
       "addedWidgets": {},
       "aggData": [],
       "aggError": "",
       "aggOverflow": false,
       "aggSchema": [],
       "aggSeriesLimitReached": false,
       "aggType": "",
       "arguments": {},
       "columnCustomDisplayInfos": {},
       "data": [],
       "datasetInfos": [],
       "dbfsResultPath": null,
       "isJsonSchema": true,
       "metadata": {},
       "overflow": false,
       "plotOptions": {
        "customPlotOptions": {},
        "displayType": "table",
        "pivotAggregation": null,
        "pivotColumns": null,
        "xColumns": null,
        "yColumns": null
       },
       "removedWidgets": [],
       "schema": [
        {
         "metadata": "{}",
         "name": "YEAR",
         "type": "\"integer\""
        },
        {
         "metadata": "{}",
         "name": "MONTH_NUM",
         "type": "\"integer\""
        },
        {
         "metadata": "{}",
         "name": "MONTH_MON",
         "type": "\"string\""
        },
        {
         "metadata": "{\"__detected_date_formats\": \"yyyy-M-d\"}",
         "name": "FLT_DATE",
         "type": "\"date\""
        },
        {
         "metadata": "{}",
         "name": "APT_ICAO",
         "type": "\"string\""
        },
        {
         "metadata": "{}",
         "name": "APT_NAME",
         "type": "\"string\""
        },
        {
         "metadata": "{}",
         "name": "STATE_NAME",
         "type": "\"string\""
        },
        {
         "metadata": "{}",
         "name": "FLT_DEP_1",
         "type": "\"integer\""
        },
        {
         "metadata": "{}",
         "name": "FLT_DEP_IFR_2",
         "type": "\"integer\""
        },
        {
         "metadata": "{}",
         "name": "DLY_ATC_PRE_2",
         "type": "\"integer\""
        },
        {
         "metadata": "{}",
         "name": "FLT_DEP_3",
         "type": "\"integer\""
        },
        {
         "metadata": "{}",
         "name": "DLY_ATC_PRE_3",
         "type": "\"integer\""
        }
       ],
       "type": "table"
      }
     },
     "output_type": "display_data"
    }
   ],
   "source": [
    "fdf_2017.display()"
   ]
  },
  {
   "cell_type": "code",
   "execution_count": 0,
   "metadata": {
    "application/vnd.databricks.v1+cell": {
     "cellMetadata": {
      "byteLimit": 2048000,
      "rowLimit": 10000
     },
     "inputWidgets": {},
     "nuid": "015d5662-8ea7-40d0-873d-f1f85b13f023",
     "showTitle": false,
     "tableResultSettingsMap": {},
     "title": ""
    }
   },
   "outputs": [
    {
     "output_type": "display_data",
     "data": {
      "text/html": [
       "<style scoped>\n",
       "  .table-result-container {\n",
       "    max-height: 300px;\n",
       "    overflow: auto;\n",
       "  }\n",
       "  table, th, td {\n",
       "    border: 1px solid black;\n",
       "    border-collapse: collapse;\n",
       "  }\n",
       "  th, td {\n",
       "    padding: 5px;\n",
       "  }\n",
       "  th {\n",
       "    text-align: left;\n",
       "  }\n",
       "</style><div class='table-result-container'><table class='table-result'><thead style='background-color: white'><tr><th>YEAR</th></tr></thead><tbody><tr><td>2016</td></tr></tbody></table></div>"
      ]
     },
     "metadata": {
      "application/vnd.databricks.v1+output": {
       "addedWidgets": {},
       "aggData": [],
       "aggError": "",
       "aggOverflow": false,
       "aggSchema": [],
       "aggSeriesLimitReached": false,
       "aggType": "",
       "arguments": {},
       "columnCustomDisplayInfos": {},
       "data": [
        [
         2016
        ]
       ],
       "datasetInfos": [],
       "dbfsResultPath": null,
       "isJsonSchema": true,
       "metadata": {},
       "overflow": false,
       "plotOptions": {
        "customPlotOptions": {},
        "displayType": "table",
        "pivotAggregation": null,
        "pivotColumns": null,
        "xColumns": null,
        "yColumns": null
       },
       "removedWidgets": [],
       "schema": [
        {
         "metadata": "{}",
         "name": "YEAR",
         "type": "\"integer\""
        }
       ],
       "type": "table"
      }
     },
     "output_type": "display_data"
    }
   ],
   "source": [
    "fdf.select(\"YEAR\").distinct().display()"
   ]
  },
  {
   "cell_type": "code",
   "execution_count": 0,
   "metadata": {
    "application/vnd.databricks.v1+cell": {
     "cellMetadata": {
      "byteLimit": 2048000,
      "rowLimit": 10000
     },
     "inputWidgets": {},
     "nuid": "a5241e03-cef7-46ea-a6cd-828199c91a85",
     "showTitle": false,
     "tableResultSettingsMap": {},
     "title": ""
    }
   },
   "outputs": [],
   "source": [
    "fdf_uk  = fdf.filter(col(\"STATE_NAME\") == \"United Kingdom\")\n",
    "\n",
    "fdf_uk.display()"
   ]
  },
  {
   "cell_type": "code",
   "execution_count": 0,
   "metadata": {
    "application/vnd.databricks.v1+cell": {
     "cellMetadata": {},
     "inputWidgets": {},
     "nuid": "530358f8-0622-46b2-bee5-a2ab48fbf42b",
     "showTitle": false,
     "tableResultSettingsMap": {},
     "title": ""
    }
   },
   "outputs": [],
   "source": [
    "# i want to filter only good data\n",
    "\n",
    "fdf_good_data = fdf.filter(fdf.badData == False)\n",
    "fdf_bad_data = fdf.filter(fdf.badData == True)"
   ]
  },
  {
   "cell_type": "code",
   "execution_count": 0,
   "metadata": {
    "application/vnd.databricks.v1+cell": {
     "cellMetadata": {
      "byteLimit": 2048000,
      "rowLimit": 10000
     },
     "inputWidgets": {},
     "nuid": "f450a646-515c-438f-a565-c973a1bdd015",
     "showTitle": false,
     "tableResultSettingsMap": {},
     "title": ""
    }
   },
   "outputs": [
    {
     "output_type": "execute_result",
     "data": {
      "text/plain": [
       "96597"
      ]
     },
     "execution_count": 49,
     "metadata": {},
     "output_type": "execute_result"
    }
   ],
   "source": [
    "fdf.count()"
   ]
  },
  {
   "cell_type": "code",
   "execution_count": 0,
   "metadata": {
    "application/vnd.databricks.v1+cell": {
     "cellMetadata": {
      "byteLimit": 2048000,
      "rowLimit": 10000
     },
     "inputWidgets": {},
     "nuid": "73ee6223-8e8a-41b5-9be1-e675f71eb2c6",
     "showTitle": false,
     "tableResultSettingsMap": {},
     "title": ""
    }
   },
   "outputs": [],
   "source": [
    "fdf_de_dup = fdf.dropDuplicates()"
   ]
  },
  {
   "cell_type": "code",
   "execution_count": 0,
   "metadata": {
    "application/vnd.databricks.v1+cell": {
     "cellMetadata": {
      "byteLimit": 2048000,
      "rowLimit": 10000
     },
     "inputWidgets": {},
     "nuid": "2ee3fdf9-7cf8-41b5-9576-e12ef03dc136",
     "showTitle": false,
     "tableResultSettingsMap": {},
     "title": ""
    }
   },
   "outputs": [
    {
     "output_type": "execute_result",
     "data": {
      "text/plain": [
       "96597"
      ]
     },
     "execution_count": 51,
     "metadata": {},
     "output_type": "execute_result"
    }
   ],
   "source": [
    "fdf_de_dup.count()"
   ]
  },
  {
   "cell_type": "code",
   "execution_count": 0,
   "metadata": {
    "application/vnd.databricks.v1+cell": {
     "cellMetadata": {
      "byteLimit": 2048000,
      "rowLimit": 10000
     },
     "inputWidgets": {},
     "nuid": "dfafca0f-dc12-4601-99a0-3afe0921be73",
     "showTitle": false,
     "tableResultSettingsMap": {},
     "title": ""
    }
   },
   "outputs": [
    {
     "output_type": "execute_result",
     "data": {
      "text/plain": [
       "96597"
      ]
     },
     "execution_count": 52,
     "metadata": {},
     "output_type": "execute_result"
    }
   ],
   "source": [
    "fdf.distinct().count()"
   ]
  },
  {
   "cell_type": "code",
   "execution_count": 0,
   "metadata": {
    "application/vnd.databricks.v1+cell": {
     "cellMetadata": {
      "byteLimit": 2048000,
      "rowLimit": 10000
     },
     "inputWidgets": {},
     "nuid": "40b3c652-9c5b-42f6-a0ba-c2809a12a800",
     "showTitle": false,
     "tableResultSettingsMap": {},
     "title": ""
    }
   },
   "outputs": [],
   "source": [
    "fdf.display()"
   ]
  },
  {
   "cell_type": "code",
   "execution_count": 0,
   "metadata": {
    "application/vnd.databricks.v1+cell": {
     "cellMetadata": {
      "byteLimit": 2048000,
      "rowLimit": 10000
     },
     "inputWidgets": {},
     "nuid": "85ed3f48-6a0a-4c3b-83aa-ef3923ed64f9",
     "showTitle": false,
     "tableResultSettingsMap": {
      "0": {
       "dataGridStateBlob": "{\"version\":1,\"tableState\":{\"columnPinning\":{\"left\":[\"#row_number#\"],\"right\":[]},\"columnSizing\":{},\"columnVisibility\":{}},\"settings\":{\"columns\":{}},\"syncTimestamp\":1760613363984}",
       "filterBlob": null,
       "queryPlanFiltersBlob": null,
       "tableResultIndex": 0
      }
     },
     "title": ""
    }
   },
   "outputs": [
    {
     "output_type": "display_data",
     "data": {
      "text/html": [
       "<style scoped>\n",
       "  .table-result-container {\n",
       "    max-height: 300px;\n",
       "    overflow: auto;\n",
       "  }\n",
       "  table, th, td {\n",
       "    border: 1px solid black;\n",
       "    border-collapse: collapse;\n",
       "  }\n",
       "  th, td {\n",
       "    padding: 5px;\n",
       "  }\n",
       "  th {\n",
       "    text-align: left;\n",
       "  }\n",
       "</style><div class='table-result-container'><table class='table-result'><thead style='background-color: white'><tr><th>STATE_NAME</th><th>count</th></tr></thead><tbody><tr><td>Switzerland</td><td>1056</td></tr><tr><td>Croatia</td><td>512</td></tr><tr><td>Poland</td><td>5214</td></tr><tr><td>Italy</td><td>4744</td></tr><tr><td>Slovenia</td><td>970</td></tr><tr><td>Belgium</td><td>1830</td></tr><tr><td>Ireland</td><td>2850</td></tr><tr><td>Montenegro</td><td>366</td></tr><tr><td>Luxembourg</td><td>366</td></tr><tr><td>Germany</td><td>5856</td></tr><tr><td>Lithuania</td><td>1418</td></tr><tr><td>Denmark</td><td>366</td></tr><tr><td>Serbia</td><td>366</td></tr><tr><td>Sweden</td><td>1098</td></tr><tr><td>Türkiye</td><td>1830</td></tr><tr><td>Georgia</td><td>366</td></tr><tr><td>Malta</td><td>366</td></tr><tr><td>Armenia</td><td>366</td></tr><tr><td>Austria</td><td>2175</td></tr><tr><td>United Kingdom</td><td>6567</td></tr><tr><td>Netherlands</td><td>1462</td></tr><tr><td>Norway</td><td>1830</td></tr><tr><td>Finland</td><td>366</td></tr><tr><td>Spain</td><td>17083</td></tr><tr><td>The former Yugoslav Republic of Macedonia</td><td>366</td></tr><tr><td>France</td><td>22063</td></tr><tr><td>Portugal</td><td>3641</td></tr><tr><td>Bosnia and Herzegovina</td><td>366</td></tr><tr><td>Hungary</td><td>366</td></tr><tr><td>Moldova</td><td>366</td></tr><tr><td>Estonia</td><td>724</td></tr><tr><td>Romania</td><td>723</td></tr><tr><td>Cyprus</td><td>732</td></tr><tr><td>Czech Republic</td><td>1417</td></tr><tr><td>Ukraine</td><td>366</td></tr><tr><td>Bulgaria</td><td>366</td></tr><tr><td>Greece</td><td>4570</td></tr><tr><td>Latvia</td><td>376</td></tr><tr><td>Slovakia</td><td>366</td></tr><tr><td>Albania</td><td>366</td></tr></tbody></table></div>"
      ]
     },
     "metadata": {
      "application/vnd.databricks.v1+output": {
       "addedWidgets": {},
       "aggData": [],
       "aggError": "",
       "aggOverflow": false,
       "aggSchema": [],
       "aggSeriesLimitReached": false,
       "aggType": "",
       "arguments": {},
       "columnCustomDisplayInfos": {},
       "data": [
        [
         "Switzerland",
         1056
        ],
        [
         "Croatia",
         512
        ],
        [
         "Poland",
         5214
        ],
        [
         "Italy",
         4744
        ],
        [
         "Slovenia",
         970
        ],
        [
         "Belgium",
         1830
        ],
        [
         "Ireland",
         2850
        ],
        [
         "Montenegro",
         366
        ],
        [
         "Luxembourg",
         366
        ],
        [
         "Germany",
         5856
        ],
        [
         "Lithuania",
         1418
        ],
        [
         "Denmark",
         366
        ],
        [
         "Serbia",
         366
        ],
        [
         "Sweden",
         1098
        ],
        [
         "Türkiye",
         1830
        ],
        [
         "Georgia",
         366
        ],
        [
         "Malta",
         366
        ],
        [
         "Armenia",
         366
        ],
        [
         "Austria",
         2175
        ],
        [
         "United Kingdom",
         6567
        ],
        [
         "Netherlands",
         1462
        ],
        [
         "Norway",
         1830
        ],
        [
         "Finland",
         366
        ],
        [
         "Spain",
         17083
        ],
        [
         "The former Yugoslav Republic of Macedonia",
         366
        ],
        [
         "France",
         22063
        ],
        [
         "Portugal",
         3641
        ],
        [
         "Bosnia and Herzegovina",
         366
        ],
        [
         "Hungary",
         366
        ],
        [
         "Moldova",
         366
        ],
        [
         "Estonia",
         724
        ],
        [
         "Romania",
         723
        ],
        [
         "Cyprus",
         732
        ],
        [
         "Czech Republic",
         1417
        ],
        [
         "Ukraine",
         366
        ],
        [
         "Bulgaria",
         366
        ],
        [
         "Greece",
         4570
        ],
        [
         "Latvia",
         376
        ],
        [
         "Slovakia",
         366
        ],
        [
         "Albania",
         366
        ]
       ],
       "datasetInfos": [],
       "dbfsResultPath": null,
       "isJsonSchema": true,
       "metadata": {},
       "overflow": false,
       "plotOptions": {
        "customPlotOptions": {},
        "displayType": "table",
        "pivotAggregation": null,
        "pivotColumns": null,
        "xColumns": null,
        "yColumns": null
       },
       "removedWidgets": [],
       "schema": [
        {
         "metadata": "{}",
         "name": "STATE_NAME",
         "type": "\"string\""
        },
        {
         "metadata": "{}",
         "name": "count",
         "type": "\"long\""
        }
       ],
       "type": "table"
      }
     },
     "output_type": "display_data"
    }
   ],
   "source": [
    "fdf.groupBy(\"STATE_NAME\").count().display()"
   ]
  },
  {
   "cell_type": "code",
   "execution_count": 0,
   "metadata": {
    "application/vnd.databricks.v1+cell": {
     "cellMetadata": {},
     "inputWidgets": {},
     "nuid": "994e4bde-866e-4c3f-a329-ea07e1a5e179",
     "showTitle": false,
     "tableResultSettingsMap": {},
     "title": ""
    }
   },
   "outputs": [],
   "source": [
    "%sql\n",
    "\n",
    "select state_name,count() from table_name group by state_name"
   ]
  },
  {
   "cell_type": "code",
   "execution_count": 0,
   "metadata": {
    "application/vnd.databricks.v1+cell": {
     "cellMetadata": {},
     "inputWidgets": {},
     "nuid": "bd0dde81-a79d-4b63-bcd9-1aec82f3798e",
     "showTitle": false,
     "tableResultSettingsMap": {},
     "title": ""
    }
   },
   "outputs": [],
   "source": [
    "# I want to drop null values records in my dataset\n",
    "\n",
    "# dropna()"
   ]
  },
  {
   "cell_type": "code",
   "execution_count": 0,
   "metadata": {
    "application/vnd.databricks.v1+cell": {
     "cellMetadata": {
      "byteLimit": 2048000,
      "rowLimit": 10000
     },
     "inputWidgets": {},
     "nuid": "c22141d8-0d06-4abd-8f08-6ce80b205e8d",
     "showTitle": false,
     "tableResultSettingsMap": {},
     "title": ""
    }
   },
   "outputs": [],
   "source": [
    "fdf.display()"
   ]
  },
  {
   "cell_type": "code",
   "execution_count": 0,
   "metadata": {
    "application/vnd.databricks.v1+cell": {
     "cellMetadata": {
      "byteLimit": 2048000,
      "rowLimit": 10000
     },
     "inputWidgets": {},
     "nuid": "592e32c5-5b5a-4aa9-b49c-2f5cdcddee15",
     "showTitle": false,
     "tableResultSettingsMap": {},
     "title": ""
    }
   },
   "outputs": [],
   "source": [
    "fdf_non_null = fdf.dropna()"
   ]
  },
  {
   "cell_type": "code",
   "execution_count": 0,
   "metadata": {
    "application/vnd.databricks.v1+cell": {
     "cellMetadata": {
      "byteLimit": 2048000,
      "rowLimit": 10000
     },
     "inputWidgets": {},
     "nuid": "a378ff94-add2-4e81-a81f-563c439fefe9",
     "showTitle": false,
     "tableResultSettingsMap": {},
     "title": ""
    }
   },
   "outputs": [],
   "source": [
    "fdf_non_null.display()"
   ]
  },
  {
   "cell_type": "code",
   "execution_count": 0,
   "metadata": {
    "application/vnd.databricks.v1+cell": {
     "cellMetadata": {},
     "inputWidgets": {},
     "nuid": "1d363054-57d5-4e46-a20c-295adb83a4fc",
     "showTitle": false,
     "tableResultSettingsMap": {},
     "title": ""
    }
   },
   "outputs": [],
   "source": []
  },
  {
   "cell_type": "code",
   "execution_count": 0,
   "metadata": {
    "application/vnd.databricks.v1+cell": {
     "cellMetadata": {},
     "inputWidgets": {},
     "nuid": "330461dd-b879-4bb9-9f58-4bd74cee8e03",
     "showTitle": false,
     "tableResultSettingsMap": {},
     "title": ""
    }
   },
   "outputs": [],
   "source": [
    "api concept---> we hit api using python --> we get data ---> we create datframes ---> we write that to table in databricks \n",
    "\n",
    "python, requets, pandas, pyspark"
   ]
  }
 ],
 "metadata": {
  "application/vnd.databricks.v1+notebook": {
   "computePreferences": {
    "hardware": {
     "accelerator": null,
     "gpuPoolId": null,
     "memory": null
    }
   },
   "dashboards": [],
   "environmentMetadata": {
    "base_environment": "",
    "environment_version": "4"
   },
   "inputWidgetPreferences": null,
   "language": "python",
   "notebookMetadata": {
    "pythonIndentUnit": 4
   },
   "notebookName": "pyspark_session3",
   "widgets": {}
  },
  "language_info": {
   "name": "python"
  }
 },
 "nbformat": 4,
 "nbformat_minor": 0
}
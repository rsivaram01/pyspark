{
 "cells": [
  {
   "cell_type": "code",
   "execution_count": 0,
   "metadata": {
    "application/vnd.databricks.v1+cell": {
     "cellMetadata": {
      "byteLimit": 2048000,
      "rowLimit": 10000
     },
     "inputWidgets": {},
     "nuid": "036e5aa0-14a4-44ea-b2d3-64b38b03e5c6",
     "showTitle": false,
     "tableResultSettingsMap": {},
     "title": ""
    }
   },
   "outputs": [],
   "source": [
    "emp_df = spark.read.option(\"header\",True)\\\n",
    "                    .option(\"inferSchema\",True)\\\n",
    "                    .csv('/Volumes/sample_cat/default/volume_csv/emp_dataset/employees.csv')"
   ]
  },
  {
   "cell_type": "code",
   "execution_count": 0,
   "metadata": {
    "application/vnd.databricks.v1+cell": {
     "cellMetadata": {
      "byteLimit": 2048000,
      "rowLimit": 10000
     },
     "inputWidgets": {},
     "nuid": "4aae419d-dab1-4996-bad1-744b64e31064",
     "showTitle": false,
     "tableResultSettingsMap": {},
     "title": ""
    }
   },
   "outputs": [
    {
     "output_type": "stream",
     "name": "stdout",
     "output_type": "stream",
     "text": [
      "root\n |-- EMPLOYEE_ID: integer (nullable = true)\n |-- FIRST_NAME: string (nullable = true)\n |-- LAST_NAME: string (nullable = true)\n |-- EMAIL: string (nullable = true)\n |-- PHONE_NUMBER: string (nullable = true)\n |-- HIRE_DATE: string (nullable = true)\n |-- JOB_ID: string (nullable = true)\n |-- SALARY: integer (nullable = true)\n |-- COMMISSION_PCT: string (nullable = true)\n |-- MANAGER_ID: string (nullable = true)\n |-- DEPARTMENT_ID: integer (nullable = true)\n\n"
     ]
    }
   ],
   "source": [
    "emp_df.printSchema()"
   ]
  },
  {
   "cell_type": "code",
   "execution_count": 0,
   "metadata": {
    "application/vnd.databricks.v1+cell": {
     "cellMetadata": {
      "byteLimit": 2048000,
      "rowLimit": 10000
     },
     "inputWidgets": {},
     "nuid": "cb02dd5b-8206-4c9a-b648-3d72fa3dd9dd",
     "showTitle": false,
     "tableResultSettingsMap": {},
     "title": ""
    }
   },
   "outputs": [],
   "source": [
    "emp_schema = emp_df.schema"
   ]
  },
  {
   "cell_type": "code",
   "execution_count": 0,
   "metadata": {
    "application/vnd.databricks.v1+cell": {
     "cellMetadata": {
      "byteLimit": 2048000,
      "rowLimit": 10000
     },
     "inputWidgets": {},
     "nuid": "45f1852e-6c22-4ba4-bc79-12ceb368ebf1",
     "showTitle": false,
     "tableResultSettingsMap": {},
     "title": ""
    }
   },
   "outputs": [
    {
     "output_type": "execute_result",
     "data": {
      "text/plain": [
       "StructType([StructField('EMPLOYEE_ID', IntegerType(), True), StructField('FIRST_NAME', StringType(), True), StructField('LAST_NAME', StringType(), True), StructField('EMAIL', StringType(), True), StructField('PHONE_NUMBER', StringType(), True), StructField('HIRE_DATE', StringType(), True), StructField('JOB_ID', StringType(), True), StructField('SALARY', IntegerType(), True), StructField('COMMISSION_PCT', StringType(), True), StructField('MANAGER_ID', StringType(), True), StructField('DEPARTMENT_ID', IntegerType(), True)])"
      ]
     },
     "execution_count": 11,
     "metadata": {},
     "output_type": "execute_result"
    }
   ],
   "source": [
    "emp_schema"
   ]
  },
  {
   "cell_type": "code",
   "execution_count": 0,
   "metadata": {
    "application/vnd.databricks.v1+cell": {
     "cellMetadata": {
      "byteLimit": 2048000,
      "rowLimit": 10000
     },
     "inputWidgets": {},
     "nuid": "191fbeae-06d3-4d0c-966a-7e066715b80c",
     "showTitle": false,
     "tableResultSettingsMap": {},
     "title": ""
    }
   },
   "outputs": [
    {
     "output_type": "execute_result",
     "data": {
      "text/plain": [
       "<bound method DataFrame.describe of DataFrame[EMPLOYEE_ID: int, FIRST_NAME: string, LAST_NAME: string, EMAIL: string, PHONE_NUMBER: string, HIRE_DATE: string, JOB_ID: string, SALARY: int, COMMISSION_PCT: string, MANAGER_ID: string, DEPARTMENT_ID: int]>"
      ]
     },
     "execution_count": 5,
     "metadata": {},
     "output_type": "execute_result"
    }
   ],
   "source": [
    "emp_df.describe"
   ]
  },
  {
   "cell_type": "code",
   "execution_count": 0,
   "metadata": {
    "application/vnd.databricks.v1+cell": {
     "cellMetadata": {
      "byteLimit": 2048000,
      "rowLimit": 10000
     },
     "inputWidgets": {},
     "nuid": "7dfa8149-a681-4d24-9625-b8c0c85a830b",
     "showTitle": false,
     "tableResultSettingsMap": {},
     "title": ""
    }
   },
   "outputs": [],
   "source": [
    "cols = emp_df.columns"
   ]
  },
  {
   "cell_type": "code",
   "execution_count": 0,
   "metadata": {
    "application/vnd.databricks.v1+cell": {
     "cellMetadata": {
      "byteLimit": 2048000,
      "rowLimit": 10000
     },
     "inputWidgets": {},
     "nuid": "caf2c703-4772-4d4f-bcad-b674d142d9f4",
     "showTitle": false,
     "tableResultSettingsMap": {},
     "title": ""
    }
   },
   "outputs": [
    {
     "output_type": "execute_result",
     "data": {
      "text/plain": [
       "['EMPLOYEE_ID',\n",
       " 'FIRST_NAME',\n",
       " 'LAST_NAME',\n",
       " 'EMAIL',\n",
       " 'PHONE_NUMBER',\n",
       " 'HIRE_DATE',\n",
       " 'JOB_ID',\n",
       " 'SALARY',\n",
       " 'COMMISSION_PCT',\n",
       " 'MANAGER_ID',\n",
       " 'DEPARTMENT_ID']"
      ]
     },
     "execution_count": 9,
     "metadata": {},
     "output_type": "execute_result"
    }
   ],
   "source": [
    "cols"
   ]
  },
  {
   "cell_type": "code",
   "execution_count": 0,
   "metadata": {
    "application/vnd.databricks.v1+cell": {
     "cellMetadata": {
      "byteLimit": 2048000,
      "rowLimit": 10000
     },
     "inputWidgets": {},
     "nuid": "70ae1493-828b-4bf3-a3ea-18a6a256bceb",
     "showTitle": false,
     "tableResultSettingsMap": {},
     "title": ""
    }
   },
   "outputs": [],
   "source": [
    "emp_df1 = emp_df.drop(\"COMMISSION_PCT\")"
   ]
  },
  {
   "cell_type": "code",
   "execution_count": 0,
   "metadata": {
    "application/vnd.databricks.v1+cell": {
     "cellMetadata": {
      "byteLimit": 2048000,
      "rowLimit": 10000
     },
     "inputWidgets": {},
     "nuid": "a5f831bb-7e3a-4ac9-8f62-914a58cf7d6f",
     "showTitle": false,
     "tableResultSettingsMap": {},
     "title": ""
    }
   },
   "outputs": [
    {
     "output_type": "stream",
     "name": "stdout",
     "output_type": "stream",
     "text": [
      "root\n |-- EMPLOYEE_ID: integer (nullable = true)\n |-- FIRST_NAME: string (nullable = true)\n |-- LAST_NAME: string (nullable = true)\n |-- EMAIL: string (nullable = true)\n |-- PHONE_NUMBER: string (nullable = true)\n |-- HIRE_DATE: string (nullable = true)\n |-- JOB_ID: string (nullable = true)\n |-- SALARY: integer (nullable = true)\n |-- MANAGER_ID: string (nullable = true)\n |-- DEPARTMENT_ID: integer (nullable = true)\n\n"
     ]
    }
   ],
   "source": [
    "emp_df1.printSchema()"
   ]
  },
  {
   "cell_type": "code",
   "execution_count": 0,
   "metadata": {
    "application/vnd.databricks.v1+cell": {
     "cellMetadata": {
      "byteLimit": 2048000,
      "rowLimit": 10000
     },
     "inputWidgets": {},
     "nuid": "7e77ae48-33d6-4446-93ad-54cd762f6783",
     "showTitle": false,
     "tableResultSettingsMap": {},
     "title": ""
    }
   },
   "outputs": [
    {
     "output_type": "display_data",
     "data": {
      "text/html": [
       "<style scoped>\n",
       "  .table-result-container {\n",
       "    max-height: 300px;\n",
       "    overflow: auto;\n",
       "  }\n",
       "  table, th, td {\n",
       "    border: 1px solid black;\n",
       "    border-collapse: collapse;\n",
       "  }\n",
       "  th, td {\n",
       "    padding: 5px;\n",
       "  }\n",
       "  th {\n",
       "    text-align: left;\n",
       "  }\n",
       "</style><div class='table-result-container'><table class='table-result'><thead style='background-color: white'><tr><th>EMPLOYEE_ID</th><th>FIRST_NAME</th><th>LAST_NAME</th><th>EMAIL</th><th>PHONE_NUMBER</th><th>HIRE_DATE</th><th>JOB_ID</th><th>SALARY</th><th>COMMISSION_PCT</th><th>MANAGER_ID</th><th>DEPARTMENT_ID</th></tr></thead><tbody><tr><td>198</td><td>Donald</td><td>OConnell</td><td>DOCONNEL</td><td>650.507.9833</td><td>21-JUN-07</td><td>SH_CLERK</td><td>2600</td><td> - </td><td>124</td><td>50</td></tr><tr><td>199</td><td>Douglas</td><td>Grant</td><td>DGRANT</td><td>650.507.9844</td><td>13-JAN-08</td><td>SH_CLERK</td><td>2600</td><td> - </td><td>124</td><td>50</td></tr><tr><td>200</td><td>Jennifer</td><td>Whalen</td><td>JWHALEN</td><td>515.123.4444</td><td>17-SEP-03</td><td>AD_ASST</td><td>4400</td><td> - </td><td>101</td><td>10</td></tr><tr><td>201</td><td>Michael</td><td>Hartstein</td><td>MHARTSTE</td><td>515.123.5555</td><td>17-FEB-04</td><td>MK_MAN</td><td>13000</td><td> - </td><td>100</td><td>20</td></tr><tr><td>202</td><td>Pat</td><td>Fay</td><td>PFAY</td><td>603.123.6666</td><td>17-AUG-05</td><td>MK_REP</td><td>6000</td><td> - </td><td>201</td><td>20</td></tr><tr><td>203</td><td>Susan</td><td>Mavris</td><td>SMAVRIS</td><td>515.123.7777</td><td>07-JUN-02</td><td>HR_REP</td><td>6500</td><td> - </td><td>101</td><td>40</td></tr><tr><td>204</td><td>Hermann</td><td>Baer</td><td>HBAER</td><td>515.123.8888</td><td>07-JUN-02</td><td>PR_REP</td><td>10000</td><td> - </td><td>101</td><td>70</td></tr><tr><td>205</td><td>Shelley</td><td>Higgins</td><td>SHIGGINS</td><td>515.123.8080</td><td>07-JUN-02</td><td>AC_MGR</td><td>12008</td><td> - </td><td>101</td><td>110</td></tr><tr><td>206</td><td>William</td><td>Gietz</td><td>WGIETZ</td><td>515.123.8181</td><td>07-JUN-02</td><td>AC_ACCOUNT</td><td>8300</td><td> - </td><td>205</td><td>110</td></tr><tr><td>100</td><td>Steven</td><td>King</td><td>SKING</td><td>515.123.4567</td><td>17-JUN-03</td><td>AD_PRES</td><td>24000</td><td> - </td><td> - </td><td>90</td></tr><tr><td>101</td><td>Neena</td><td>Kochhar</td><td>NKOCHHAR</td><td>515.123.4568</td><td>21-SEP-05</td><td>AD_VP</td><td>17000</td><td> - </td><td>100</td><td>90</td></tr><tr><td>102</td><td>Lex</td><td>De Haan</td><td>LDEHAAN</td><td>515.123.4569</td><td>13-JAN-01</td><td>AD_VP</td><td>17000</td><td> - </td><td>100</td><td>90</td></tr><tr><td>103</td><td>Alexander</td><td>Hunold</td><td>AHUNOLD</td><td>590.423.4567</td><td>03-JAN-06</td><td>IT_PROG</td><td>9000</td><td> - </td><td>102</td><td>60</td></tr><tr><td>104</td><td>Bruce</td><td>Ernst</td><td>BERNST</td><td>590.423.4568</td><td>21-MAY-07</td><td>IT_PROG</td><td>6000</td><td> - </td><td>103</td><td>60</td></tr><tr><td>105</td><td>David</td><td>Austin</td><td>DAUSTIN</td><td>590.423.4569</td><td>25-JUN-05</td><td>IT_PROG</td><td>4800</td><td> - </td><td>103</td><td>60</td></tr><tr><td>106</td><td>Valli</td><td>Pataballa</td><td>VPATABAL</td><td>590.423.4560</td><td>05-FEB-06</td><td>IT_PROG</td><td>4800</td><td> - </td><td>103</td><td>60</td></tr><tr><td>107</td><td>Diana</td><td>Lorentz</td><td>DLORENTZ</td><td>590.423.5567</td><td>07-FEB-07</td><td>IT_PROG</td><td>4200</td><td> - </td><td>103</td><td>60</td></tr><tr><td>108</td><td>Nancy</td><td>Greenberg</td><td>NGREENBE</td><td>515.124.4569</td><td>17-AUG-02</td><td>FI_MGR</td><td>12008</td><td> - </td><td>101</td><td>100</td></tr><tr><td>109</td><td>Daniel</td><td>Faviet</td><td>DFAVIET</td><td>515.124.4169</td><td>16-AUG-02</td><td>FI_ACCOUNT</td><td>9000</td><td> - </td><td>108</td><td>100</td></tr><tr><td>110</td><td>John</td><td>Chen</td><td>JCHEN</td><td>515.124.4269</td><td>28-SEP-05</td><td>FI_ACCOUNT</td><td>8200</td><td> - </td><td>108</td><td>100</td></tr><tr><td>111</td><td>Ismael</td><td>Sciarra</td><td>ISCIARRA</td><td>515.124.4369</td><td>30-SEP-05</td><td>FI_ACCOUNT</td><td>7700</td><td> - </td><td>108</td><td>100</td></tr><tr><td>112</td><td>Jose Manuel</td><td>Urman</td><td>JMURMAN</td><td>515.124.4469</td><td>07-MAR-06</td><td>FI_ACCOUNT</td><td>7800</td><td> - </td><td>108</td><td>100</td></tr><tr><td>113</td><td>Luis</td><td>Popp</td><td>LPOPP</td><td>515.124.4567</td><td>07-DEC-07</td><td>FI_ACCOUNT</td><td>6900</td><td> - </td><td>108</td><td>100</td></tr><tr><td>114</td><td>Den</td><td>Raphaely</td><td>DRAPHEAL</td><td>515.127.4561</td><td>07-DEC-02</td><td>PU_MAN</td><td>11000</td><td> - </td><td>100</td><td>30</td></tr><tr><td>115</td><td>Alexander</td><td>Khoo</td><td>AKHOO</td><td>515.127.4562</td><td>18-MAY-03</td><td>PU_CLERK</td><td>3100</td><td> - </td><td>114</td><td>30</td></tr><tr><td>116</td><td>Shelli</td><td>Baida</td><td>SBAIDA</td><td>515.127.4563</td><td>24-DEC-05</td><td>PU_CLERK</td><td>2900</td><td> - </td><td>114</td><td>30</td></tr><tr><td>117</td><td>Sigal</td><td>Tobias</td><td>STOBIAS</td><td>515.127.4564</td><td>24-JUL-05</td><td>PU_CLERK</td><td>2800</td><td> - </td><td>114</td><td>30</td></tr><tr><td>118</td><td>Guy</td><td>Himuro</td><td>GHIMURO</td><td>515.127.4565</td><td>15-NOV-06</td><td>PU_CLERK</td><td>2600</td><td> - </td><td>114</td><td>30</td></tr><tr><td>119</td><td>Karen</td><td>Colmenares</td><td>KCOLMENA</td><td>515.127.4566</td><td>10-AUG-07</td><td>PU_CLERK</td><td>2500</td><td> - </td><td>114</td><td>30</td></tr><tr><td>120</td><td>Matthew</td><td>Weiss</td><td>MWEISS</td><td>650.123.1234</td><td>18-JUL-04</td><td>ST_MAN</td><td>8000</td><td> - </td><td>100</td><td>50</td></tr><tr><td>121</td><td>Adam</td><td>Fripp</td><td>AFRIPP</td><td>650.123.2234</td><td>10-APR-05</td><td>ST_MAN</td><td>8200</td><td> - </td><td>100</td><td>50</td></tr><tr><td>122</td><td>Payam</td><td>Kaufling</td><td>PKAUFLIN</td><td>650.123.3234</td><td>01-MAY-03</td><td>ST_MAN</td><td>7900</td><td> - </td><td>100</td><td>50</td></tr><tr><td>123</td><td>Shanta</td><td>Vollman</td><td>SVOLLMAN</td><td>650.123.4234</td><td>10-OCT-05</td><td>ST_MAN</td><td>6500</td><td> - </td><td>100</td><td>50</td></tr><tr><td>124</td><td>Kevin</td><td>Mourgos</td><td>KMOURGOS</td><td>650.123.5234</td><td>16-NOV-07</td><td>ST_MAN</td><td>5800</td><td> - </td><td>100</td><td>50</td></tr><tr><td>125</td><td>Julia</td><td>Nayer</td><td>JNAYER</td><td>650.124.1214</td><td>16-JUL-05</td><td>ST_CLERK</td><td>3200</td><td> - </td><td>120</td><td>50</td></tr><tr><td>126</td><td>Irene</td><td>Mikkilineni</td><td>IMIKKILI</td><td>650.124.1224</td><td>28-SEP-06</td><td>ST_CLERK</td><td>2700</td><td> - </td><td>120</td><td>50</td></tr><tr><td>127</td><td>James</td><td>Landry</td><td>JLANDRY</td><td>650.124.1334</td><td>14-JAN-07</td><td>ST_CLERK</td><td>2400</td><td> - </td><td>120</td><td>50</td></tr><tr><td>128</td><td>Steven</td><td>Markle</td><td>SMARKLE</td><td>650.124.1434</td><td>08-MAR-08</td><td>ST_CLERK</td><td>2200</td><td> - </td><td>120</td><td>50</td></tr><tr><td>129</td><td>Laura</td><td>Bissot</td><td>LBISSOT</td><td>650.124.5234</td><td>20-AUG-05</td><td>ST_CLERK</td><td>3300</td><td> - </td><td>121</td><td>50</td></tr><tr><td>130</td><td>Mozhe</td><td>Atkinson</td><td>MATKINSO</td><td>650.124.6234</td><td>30-OCT-05</td><td>ST_CLERK</td><td>2800</td><td> - </td><td>121</td><td>50</td></tr><tr><td>131</td><td>James</td><td>Marlow</td><td>JAMRLOW</td><td>650.124.7234</td><td>16-FEB-05</td><td>ST_CLERK</td><td>2500</td><td> - </td><td>121</td><td>50</td></tr><tr><td>132</td><td>TJ</td><td>Olson</td><td>TJOLSON</td><td>650.124.8234</td><td>10-APR-07</td><td>ST_CLERK</td><td>2100</td><td> - </td><td>121</td><td>50</td></tr><tr><td>133</td><td>Jason</td><td>Mallin</td><td>JMALLIN</td><td>650.127.1934</td><td>14-JUN-04</td><td>ST_CLERK</td><td>3300</td><td> - </td><td>122</td><td>50</td></tr><tr><td>134</td><td>Michael</td><td>Rogers</td><td>MROGERS</td><td>650.127.1834</td><td>26-AUG-06</td><td>ST_CLERK</td><td>2900</td><td> - </td><td>122</td><td>50</td></tr><tr><td>135</td><td>Ki</td><td>Gee</td><td>KGEE</td><td>650.127.1734</td><td>12-DEC-07</td><td>ST_CLERK</td><td>2400</td><td> - </td><td>122</td><td>50</td></tr><tr><td>136</td><td>Hazel</td><td>Philtanker</td><td>HPHILTAN</td><td>650.127.1634</td><td>06-FEB-08</td><td>ST_CLERK</td><td>2200</td><td> - </td><td>122</td><td>50</td></tr><tr><td>137</td><td>Renske</td><td>Ladwig</td><td>RLADWIG</td><td>650.121.1234</td><td>14-JUL-03</td><td>ST_CLERK</td><td>3600</td><td> - </td><td>123</td><td>50</td></tr><tr><td>138</td><td>Stephen</td><td>Stiles</td><td>SSTILES</td><td>650.121.2034</td><td>26-OCT-05</td><td>ST_CLERK</td><td>3200</td><td> - </td><td>123</td><td>50</td></tr><tr><td>139</td><td>John</td><td>Seo</td><td>JSEO</td><td>650.121.2019</td><td>12-FEB-06</td><td>ST_CLERK</td><td>2700</td><td> - </td><td>123</td><td>50</td></tr><tr><td>140</td><td>Joshua</td><td>Patel</td><td>JPATEL</td><td>650.121.1834</td><td>06-APR-06</td><td>ST_CLERK</td><td>2500</td><td> - </td><td>123</td><td>50</td></tr></tbody></table></div>"
      ]
     },
     "metadata": {
      "application/vnd.databricks.v1+output": {
       "addedWidgets": {},
       "aggData": [],
       "aggError": "",
       "aggOverflow": false,
       "aggSchema": [],
       "aggSeriesLimitReached": false,
       "aggType": "",
       "arguments": {},
       "columnCustomDisplayInfos": {},
       "data": [
        [
         198,
         "Donald",
         "OConnell",
         "DOCONNEL",
         "650.507.9833",
         "21-JUN-07",
         "SH_CLERK",
         2600,
         " - ",
         "124",
         50
        ],
        [
         199,
         "Douglas",
         "Grant",
         "DGRANT",
         "650.507.9844",
         "13-JAN-08",
         "SH_CLERK",
         2600,
         " - ",
         "124",
         50
        ],
        [
         200,
         "Jennifer",
         "Whalen",
         "JWHALEN",
         "515.123.4444",
         "17-SEP-03",
         "AD_ASST",
         4400,
         " - ",
         "101",
         10
        ],
        [
         201,
         "Michael",
         "Hartstein",
         "MHARTSTE",
         "515.123.5555",
         "17-FEB-04",
         "MK_MAN",
         13000,
         " - ",
         "100",
         20
        ],
        [
         202,
         "Pat",
         "Fay",
         "PFAY",
         "603.123.6666",
         "17-AUG-05",
         "MK_REP",
         6000,
         " - ",
         "201",
         20
        ],
        [
         203,
         "Susan",
         "Mavris",
         "SMAVRIS",
         "515.123.7777",
         "07-JUN-02",
         "HR_REP",
         6500,
         " - ",
         "101",
         40
        ],
        [
         204,
         "Hermann",
         "Baer",
         "HBAER",
         "515.123.8888",
         "07-JUN-02",
         "PR_REP",
         10000,
         " - ",
         "101",
         70
        ],
        [
         205,
         "Shelley",
         "Higgins",
         "SHIGGINS",
         "515.123.8080",
         "07-JUN-02",
         "AC_MGR",
         12008,
         " - ",
         "101",
         110
        ],
        [
         206,
         "William",
         "Gietz",
         "WGIETZ",
         "515.123.8181",
         "07-JUN-02",
         "AC_ACCOUNT",
         8300,
         " - ",
         "205",
         110
        ],
        [
         100,
         "Steven",
         "King",
         "SKING",
         "515.123.4567",
         "17-JUN-03",
         "AD_PRES",
         24000,
         " - ",
         " - ",
         90
        ],
        [
         101,
         "Neena",
         "Kochhar",
         "NKOCHHAR",
         "515.123.4568",
         "21-SEP-05",
         "AD_VP",
         17000,
         " - ",
         "100",
         90
        ],
        [
         102,
         "Lex",
         "De Haan",
         "LDEHAAN",
         "515.123.4569",
         "13-JAN-01",
         "AD_VP",
         17000,
         " - ",
         "100",
         90
        ],
        [
         103,
         "Alexander",
         "Hunold",
         "AHUNOLD",
         "590.423.4567",
         "03-JAN-06",
         "IT_PROG",
         9000,
         " - ",
         "102",
         60
        ],
        [
         104,
         "Bruce",
         "Ernst",
         "BERNST",
         "590.423.4568",
         "21-MAY-07",
         "IT_PROG",
         6000,
         " - ",
         "103",
         60
        ],
        [
         105,
         "David",
         "Austin",
         "DAUSTIN",
         "590.423.4569",
         "25-JUN-05",
         "IT_PROG",
         4800,
         " - ",
         "103",
         60
        ],
        [
         106,
         "Valli",
         "Pataballa",
         "VPATABAL",
         "590.423.4560",
         "05-FEB-06",
         "IT_PROG",
         4800,
         " - ",
         "103",
         60
        ],
        [
         107,
         "Diana",
         "Lorentz",
         "DLORENTZ",
         "590.423.5567",
         "07-FEB-07",
         "IT_PROG",
         4200,
         " - ",
         "103",
         60
        ],
        [
         108,
         "Nancy",
         "Greenberg",
         "NGREENBE",
         "515.124.4569",
         "17-AUG-02",
         "FI_MGR",
         12008,
         " - ",
         "101",
         100
        ],
        [
         109,
         "Daniel",
         "Faviet",
         "DFAVIET",
         "515.124.4169",
         "16-AUG-02",
         "FI_ACCOUNT",
         9000,
         " - ",
         "108",
         100
        ],
        [
         110,
         "John",
         "Chen",
         "JCHEN",
         "515.124.4269",
         "28-SEP-05",
         "FI_ACCOUNT",
         8200,
         " - ",
         "108",
         100
        ],
        [
         111,
         "Ismael",
         "Sciarra",
         "ISCIARRA",
         "515.124.4369",
         "30-SEP-05",
         "FI_ACCOUNT",
         7700,
         " - ",
         "108",
         100
        ],
        [
         112,
         "Jose Manuel",
         "Urman",
         "JMURMAN",
         "515.124.4469",
         "07-MAR-06",
         "FI_ACCOUNT",
         7800,
         " - ",
         "108",
         100
        ],
        [
         113,
         "Luis",
         "Popp",
         "LPOPP",
         "515.124.4567",
         "07-DEC-07",
         "FI_ACCOUNT",
         6900,
         " - ",
         "108",
         100
        ],
        [
         114,
         "Den",
         "Raphaely",
         "DRAPHEAL",
         "515.127.4561",
         "07-DEC-02",
         "PU_MAN",
         11000,
         " - ",
         "100",
         30
        ],
        [
         115,
         "Alexander",
         "Khoo",
         "AKHOO",
         "515.127.4562",
         "18-MAY-03",
         "PU_CLERK",
         3100,
         " - ",
         "114",
         30
        ],
        [
         116,
         "Shelli",
         "Baida",
         "SBAIDA",
         "515.127.4563",
         "24-DEC-05",
         "PU_CLERK",
         2900,
         " - ",
         "114",
         30
        ],
        [
         117,
         "Sigal",
         "Tobias",
         "STOBIAS",
         "515.127.4564",
         "24-JUL-05",
         "PU_CLERK",
         2800,
         " - ",
         "114",
         30
        ],
        [
         118,
         "Guy",
         "Himuro",
         "GHIMURO",
         "515.127.4565",
         "15-NOV-06",
         "PU_CLERK",
         2600,
         " - ",
         "114",
         30
        ],
        [
         119,
         "Karen",
         "Colmenares",
         "KCOLMENA",
         "515.127.4566",
         "10-AUG-07",
         "PU_CLERK",
         2500,
         " - ",
         "114",
         30
        ],
        [
         120,
         "Matthew",
         "Weiss",
         "MWEISS",
         "650.123.1234",
         "18-JUL-04",
         "ST_MAN",
         8000,
         " - ",
         "100",
         50
        ],
        [
         121,
         "Adam",
         "Fripp",
         "AFRIPP",
         "650.123.2234",
         "10-APR-05",
         "ST_MAN",
         8200,
         " - ",
         "100",
         50
        ],
        [
         122,
         "Payam",
         "Kaufling",
         "PKAUFLIN",
         "650.123.3234",
         "01-MAY-03",
         "ST_MAN",
         7900,
         " - ",
         "100",
         50
        ],
        [
         123,
         "Shanta",
         "Vollman",
         "SVOLLMAN",
         "650.123.4234",
         "10-OCT-05",
         "ST_MAN",
         6500,
         " - ",
         "100",
         50
        ],
        [
         124,
         "Kevin",
         "Mourgos",
         "KMOURGOS",
         "650.123.5234",
         "16-NOV-07",
         "ST_MAN",
         5800,
         " - ",
         "100",
         50
        ],
        [
         125,
         "Julia",
         "Nayer",
         "JNAYER",
         "650.124.1214",
         "16-JUL-05",
         "ST_CLERK",
         3200,
         " - ",
         "120",
         50
        ],
        [
         126,
         "Irene",
         "Mikkilineni",
         "IMIKKILI",
         "650.124.1224",
         "28-SEP-06",
         "ST_CLERK",
         2700,
         " - ",
         "120",
         50
        ],
        [
         127,
         "James",
         "Landry",
         "JLANDRY",
         "650.124.1334",
         "14-JAN-07",
         "ST_CLERK",
         2400,
         " - ",
         "120",
         50
        ],
        [
         128,
         "Steven",
         "Markle",
         "SMARKLE",
         "650.124.1434",
         "08-MAR-08",
         "ST_CLERK",
         2200,
         " - ",
         "120",
         50
        ],
        [
         129,
         "Laura",
         "Bissot",
         "LBISSOT",
         "650.124.5234",
         "20-AUG-05",
         "ST_CLERK",
         3300,
         " - ",
         "121",
         50
        ],
        [
         130,
         "Mozhe",
         "Atkinson",
         "MATKINSO",
         "650.124.6234",
         "30-OCT-05",
         "ST_CLERK",
         2800,
         " - ",
         "121",
         50
        ],
        [
         131,
         "James",
         "Marlow",
         "JAMRLOW",
         "650.124.7234",
         "16-FEB-05",
         "ST_CLERK",
         2500,
         " - ",
         "121",
         50
        ],
        [
         132,
         "TJ",
         "Olson",
         "TJOLSON",
         "650.124.8234",
         "10-APR-07",
         "ST_CLERK",
         2100,
         " - ",
         "121",
         50
        ],
        [
         133,
         "Jason",
         "Mallin",
         "JMALLIN",
         "650.127.1934",
         "14-JUN-04",
         "ST_CLERK",
         3300,
         " - ",
         "122",
         50
        ],
        [
         134,
         "Michael",
         "Rogers",
         "MROGERS",
         "650.127.1834",
         "26-AUG-06",
         "ST_CLERK",
         2900,
         " - ",
         "122",
         50
        ],
        [
         135,
         "Ki",
         "Gee",
         "KGEE",
         "650.127.1734",
         "12-DEC-07",
         "ST_CLERK",
         2400,
         " - ",
         "122",
         50
        ],
        [
         136,
         "Hazel",
         "Philtanker",
         "HPHILTAN",
         "650.127.1634",
         "06-FEB-08",
         "ST_CLERK",
         2200,
         " - ",
         "122",
         50
        ],
        [
         137,
         "Renske",
         "Ladwig",
         "RLADWIG",
         "650.121.1234",
         "14-JUL-03",
         "ST_CLERK",
         3600,
         " - ",
         "123",
         50
        ],
        [
         138,
         "Stephen",
         "Stiles",
         "SSTILES",
         "650.121.2034",
         "26-OCT-05",
         "ST_CLERK",
         3200,
         " - ",
         "123",
         50
        ],
        [
         139,
         "John",
         "Seo",
         "JSEO",
         "650.121.2019",
         "12-FEB-06",
         "ST_CLERK",
         2700,
         " - ",
         "123",
         50
        ],
        [
         140,
         "Joshua",
         "Patel",
         "JPATEL",
         "650.121.1834",
         "06-APR-06",
         "ST_CLERK",
         2500,
         " - ",
         "123",
         50
        ]
       ],
       "datasetInfos": [],
       "dbfsResultPath": null,
       "isJsonSchema": true,
       "metadata": {},
       "overflow": false,
       "plotOptions": {
        "customPlotOptions": {},
        "displayType": "table",
        "pivotAggregation": null,
        "pivotColumns": null,
        "xColumns": null,
        "yColumns": null
       },
       "removedWidgets": [],
       "schema": [
        {
         "metadata": "{}",
         "name": "EMPLOYEE_ID",
         "type": "\"integer\""
        },
        {
         "metadata": "{}",
         "name": "FIRST_NAME",
         "type": "\"string\""
        },
        {
         "metadata": "{}",
         "name": "LAST_NAME",
         "type": "\"string\""
        },
        {
         "metadata": "{}",
         "name": "EMAIL",
         "type": "\"string\""
        },
        {
         "metadata": "{}",
         "name": "PHONE_NUMBER",
         "type": "\"string\""
        },
        {
         "metadata": "{}",
         "name": "HIRE_DATE",
         "type": "\"string\""
        },
        {
         "metadata": "{}",
         "name": "JOB_ID",
         "type": "\"string\""
        },
        {
         "metadata": "{}",
         "name": "SALARY",
         "type": "\"integer\""
        },
        {
         "metadata": "{}",
         "name": "COMMISSION_PCT",
         "type": "\"string\""
        },
        {
         "metadata": "{}",
         "name": "MANAGER_ID",
         "type": "\"string\""
        },
        {
         "metadata": "{}",
         "name": "DEPARTMENT_ID",
         "type": "\"integer\""
        }
       ],
       "type": "table"
      }
     },
     "output_type": "display_data"
    }
   ],
   "source": [
    "emp_df.display()"
   ]
  },
  {
   "cell_type": "code",
   "execution_count": 0,
   "metadata": {
    "application/vnd.databricks.v1+cell": {
     "cellMetadata": {
      "byteLimit": 2048000,
      "rowLimit": 10000
     },
     "inputWidgets": {},
     "nuid": "db9249ab-0024-4969-9efa-c4a96b0ff526",
     "showTitle": false,
     "tableResultSettingsMap": {},
     "title": ""
    }
   },
   "outputs": [],
   "source": [
    "# how to rename a column in dataframe\n",
    "\n",
    "# .withColumnRenamed()\n",
    "\n",
    "emp_df2 = emp_df.withColumnRenamed(\"SALARY\",\"EMP_SALARY\")\\\n",
    "                .withColumnRenamed(\"FIRST_NAME\",\"F_NAME\")"
   ]
  },
  {
   "cell_type": "code",
   "execution_count": 0,
   "metadata": {
    "application/vnd.databricks.v1+cell": {
     "cellMetadata": {
      "byteLimit": 2048000,
      "rowLimit": 10000
     },
     "inputWidgets": {},
     "nuid": "bf792729-d01b-4ed5-a862-47d01528137e",
     "showTitle": false,
     "tableResultSettingsMap": {},
     "title": ""
    }
   },
   "outputs": [
    {
     "output_type": "stream",
     "name": "stdout",
     "output_type": "stream",
     "text": [
      "root\n |-- EMPLOYEE_ID: integer (nullable = true)\n |-- FIRST_NAME: string (nullable = true)\n |-- LAST_NAME: string (nullable = true)\n |-- EMAIL: string (nullable = true)\n |-- PHONE_NUMBER: string (nullable = true)\n |-- HIRE_DATE: string (nullable = true)\n |-- JOB_ID: string (nullable = true)\n |-- SALARY: integer (nullable = true)\n |-- COMMISSION_PCT: string (nullable = true)\n |-- MANAGER_ID: string (nullable = true)\n |-- DEPARTMENT_ID: integer (nullable = true)\n\n"
     ]
    }
   ],
   "source": [
    "emp_df.printSchema()"
   ]
  },
  {
   "cell_type": "code",
   "execution_count": 0,
   "metadata": {
    "application/vnd.databricks.v1+cell": {
     "cellMetadata": {
      "byteLimit": 2048000,
      "rowLimit": 10000
     },
     "inputWidgets": {},
     "nuid": "dbabad11-aec0-45d6-a73f-a76348a61e7e",
     "showTitle": false,
     "tableResultSettingsMap": {},
     "title": ""
    }
   },
   "outputs": [
    {
     "output_type": "stream",
     "name": "stdout",
     "output_type": "stream",
     "text": [
      "root\n |-- EMPLOYEE_ID: integer (nullable = true)\n |-- FIRST_NAME: string (nullable = true)\n |-- LAST_NAME: string (nullable = true)\n |-- EMAIL: string (nullable = true)\n |-- PHONE_NUMBER: string (nullable = true)\n |-- HIRE_DATE: string (nullable = true)\n |-- JOB_ID: string (nullable = true)\n |-- EMP_SALARY: integer (nullable = true)\n |-- COMMISSION_PCT: string (nullable = true)\n |-- MANAGER_ID: string (nullable = true)\n |-- DEPARTMENT_ID: integer (nullable = true)\n\n"
     ]
    }
   ],
   "source": [
    "emp_df2.printSchema()"
   ]
  },
  {
   "cell_type": "code",
   "execution_count": 0,
   "metadata": {
    "application/vnd.databricks.v1+cell": {
     "cellMetadata": {
      "byteLimit": 2048000,
      "rowLimit": 10000
     },
     "inputWidgets": {},
     "nuid": "23614c2a-0171-4688-aa9b-e8ffb950039d",
     "showTitle": false,
     "tableResultSettingsMap": {},
     "title": ""
    }
   },
   "outputs": [],
   "source": [
    "emp_df = emp_df.drop(\"SALARY\")"
   ]
  },
  {
   "cell_type": "code",
   "execution_count": 0,
   "metadata": {
    "application/vnd.databricks.v1+cell": {
     "cellMetadata": {
      "byteLimit": 2048000,
      "rowLimit": 10000
     },
     "inputWidgets": {},
     "nuid": "68a1aaa5-41b6-4f79-bc14-bebbd777c296",
     "showTitle": false,
     "tableResultSettingsMap": {},
     "title": ""
    }
   },
   "outputs": [
    {
     "output_type": "stream",
     "name": "stdout",
     "output_type": "stream",
     "text": [
      "root\n |-- EMPLOYEE_ID: integer (nullable = true)\n |-- FIRST_NAME: string (nullable = true)\n |-- LAST_NAME: string (nullable = true)\n |-- EMAIL: string (nullable = true)\n |-- PHONE_NUMBER: string (nullable = true)\n |-- HIRE_DATE: string (nullable = true)\n |-- JOB_ID: string (nullable = true)\n |-- COMMISSION_PCT: string (nullable = true)\n |-- MANAGER_ID: string (nullable = true)\n |-- DEPARTMENT_ID: integer (nullable = true)\n\n"
     ]
    }
   ],
   "source": [
    "emp_df.printSchema()"
   ]
  },
  {
   "cell_type": "code",
   "execution_count": 0,
   "metadata": {
    "application/vnd.databricks.v1+cell": {
     "cellMetadata": {
      "byteLimit": 2048000,
      "rowLimit": 10000
     },
     "inputWidgets": {},
     "nuid": "3b89a2ce-8f7a-4dcd-90b2-70e8cc6b31a6",
     "showTitle": false,
     "tableResultSettingsMap": {},
     "title": ""
    }
   },
   "outputs": [],
   "source": [
    "from pyspark.sql.functions import *"
   ]
  },
  {
   "cell_type": "code",
   "execution_count": 0,
   "metadata": {
    "application/vnd.databricks.v1+cell": {
     "cellMetadata": {
      "byteLimit": 2048000,
      "rowLimit": 10000
     },
     "inputWidgets": {},
     "nuid": "d77e69f5-c798-4bc6-a926-e8aa51eed592",
     "showTitle": false,
     "tableResultSettingsMap": {
      "0": {
       "dataGridStateBlob": "{\"version\":1,\"tableState\":{\"columnPinning\":{\"left\":[\"#row_number#\"],\"right\":[]},\"columnSizing\":{},\"columnVisibility\":{}},\"settings\":{\"columns\":{}},\"syncTimestamp\":1761227153586}",
       "filterBlob": null,
       "queryPlanFiltersBlob": null,
       "tableResultIndex": 0
      }
     },
     "title": ""
    }
   },
   "outputs": [
    {
     "output_type": "display_data",
     "data": {
      "text/html": [
       "<style scoped>\n",
       "  .table-result-container {\n",
       "    max-height: 300px;\n",
       "    overflow: auto;\n",
       "  }\n",
       "  table, th, td {\n",
       "    border: 1px solid black;\n",
       "    border-collapse: collapse;\n",
       "  }\n",
       "  th, td {\n",
       "    padding: 5px;\n",
       "  }\n",
       "  th {\n",
       "    text-align: left;\n",
       "  }\n",
       "</style><div class='table-result-container'><table class='table-result'><thead style='background-color: white'><tr><th>D_ID</th></tr></thead><tbody><tr><td>50</td></tr><tr><td>50</td></tr><tr><td>10</td></tr><tr><td>20</td></tr><tr><td>20</td></tr><tr><td>40</td></tr><tr><td>70</td></tr><tr><td>110</td></tr><tr><td>110</td></tr><tr><td>90</td></tr><tr><td>90</td></tr><tr><td>90</td></tr><tr><td>60</td></tr><tr><td>60</td></tr><tr><td>60</td></tr><tr><td>60</td></tr><tr><td>60</td></tr><tr><td>100</td></tr><tr><td>100</td></tr><tr><td>100</td></tr><tr><td>100</td></tr><tr><td>100</td></tr><tr><td>100</td></tr><tr><td>30</td></tr><tr><td>30</td></tr><tr><td>30</td></tr><tr><td>30</td></tr><tr><td>30</td></tr><tr><td>30</td></tr><tr><td>50</td></tr><tr><td>50</td></tr><tr><td>50</td></tr><tr><td>50</td></tr><tr><td>50</td></tr><tr><td>50</td></tr><tr><td>50</td></tr><tr><td>50</td></tr><tr><td>50</td></tr><tr><td>50</td></tr><tr><td>50</td></tr><tr><td>50</td></tr><tr><td>50</td></tr><tr><td>50</td></tr><tr><td>50</td></tr><tr><td>50</td></tr><tr><td>50</td></tr><tr><td>50</td></tr><tr><td>50</td></tr><tr><td>50</td></tr><tr><td>50</td></tr></tbody></table></div>"
      ]
     },
     "metadata": {
      "application/vnd.databricks.v1+output": {
       "addedWidgets": {},
       "aggData": [],
       "aggError": "",
       "aggOverflow": false,
       "aggSchema": [],
       "aggSeriesLimitReached": false,
       "aggType": "",
       "arguments": {},
       "columnCustomDisplayInfos": {},
       "data": [
        [
         50
        ],
        [
         50
        ],
        [
         10
        ],
        [
         20
        ],
        [
         20
        ],
        [
         40
        ],
        [
         70
        ],
        [
         110
        ],
        [
         110
        ],
        [
         90
        ],
        [
         90
        ],
        [
         90
        ],
        [
         60
        ],
        [
         60
        ],
        [
         60
        ],
        [
         60
        ],
        [
         60
        ],
        [
         100
        ],
        [
         100
        ],
        [
         100
        ],
        [
         100
        ],
        [
         100
        ],
        [
         100
        ],
        [
         30
        ],
        [
         30
        ],
        [
         30
        ],
        [
         30
        ],
        [
         30
        ],
        [
         30
        ],
        [
         50
        ],
        [
         50
        ],
        [
         50
        ],
        [
         50
        ],
        [
         50
        ],
        [
         50
        ],
        [
         50
        ],
        [
         50
        ],
        [
         50
        ],
        [
         50
        ],
        [
         50
        ],
        [
         50
        ],
        [
         50
        ],
        [
         50
        ],
        [
         50
        ],
        [
         50
        ],
        [
         50
        ],
        [
         50
        ],
        [
         50
        ],
        [
         50
        ],
        [
         50
        ]
       ],
       "datasetInfos": [],
       "dbfsResultPath": null,
       "isJsonSchema": true,
       "metadata": {},
       "overflow": false,
       "plotOptions": {
        "customPlotOptions": {},
        "displayType": "table",
        "pivotAggregation": null,
        "pivotColumns": null,
        "xColumns": null,
        "yColumns": null
       },
       "removedWidgets": [],
       "schema": [
        {
         "metadata": "{}",
         "name": "D_ID",
         "type": "\"integer\""
        }
       ],
       "type": "table"
      }
     },
     "output_type": "display_data"
    }
   ],
   "source": [
    "# alias \n",
    "\n",
    "emp_df.select(col(\"DEPARTMENT_ID\").alias(\"D_ID\")).display()"
   ]
  },
  {
   "cell_type": "code",
   "execution_count": 0,
   "metadata": {
    "application/vnd.databricks.v1+cell": {
     "cellMetadata": {
      "byteLimit": 2048000,
      "rowLimit": 10000
     },
     "inputWidgets": {},
     "nuid": "5d87f90a-4fac-4d08-9aeb-e233c87787db",
     "showTitle": false,
     "tableResultSettingsMap": {},
     "title": ""
    }
   },
   "outputs": [
    {
     "output_type": "execute_result",
     "data": {
      "text/plain": [
       "Row(EMPLOYEE_ID=198, FIRST_NAME='Donald', LAST_NAME='OConnell', EMAIL='DOCONNEL', PHONE_NUMBER='650.507.9833', HIRE_DATE='21-JUN-07', JOB_ID='SH_CLERK', COMMISSION_PCT=' - ', MANAGER_ID='124', DEPARTMENT_ID=50)"
      ]
     },
     "execution_count": 33,
     "metadata": {},
     "output_type": "execute_result"
    }
   ],
   "source": [
    "# it will give us first row\n",
    "emp_df.first()"
   ]
  },
  {
   "cell_type": "code",
   "execution_count": 0,
   "metadata": {
    "application/vnd.databricks.v1+cell": {
     "cellMetadata": {
      "byteLimit": 2048000,
      "rowLimit": 10000
     },
     "inputWidgets": {},
     "nuid": "0333f9e9-98f0-4a2f-84bf-7a52598ea77d",
     "showTitle": false,
     "tableResultSettingsMap": {},
     "title": ""
    }
   },
   "outputs": [
    {
     "output_type": "execute_result",
     "data": {
      "text/plain": [
       "[Row(EMPLOYEE_ID=198, FIRST_NAME='Donald', LAST_NAME='OConnell', EMAIL='DOCONNEL', PHONE_NUMBER='650.507.9833', HIRE_DATE='21-JUN-07', JOB_ID='SH_CLERK', COMMISSION_PCT=' - ', MANAGER_ID='124', DEPARTMENT_ID=50),\n",
       " Row(EMPLOYEE_ID=199, FIRST_NAME='Douglas', LAST_NAME='Grant', EMAIL='DGRANT', PHONE_NUMBER='650.507.9844', HIRE_DATE='13-JAN-08', JOB_ID='SH_CLERK', COMMISSION_PCT=' - ', MANAGER_ID='124', DEPARTMENT_ID=50),\n",
       " Row(EMPLOYEE_ID=200, FIRST_NAME='Jennifer', LAST_NAME='Whalen', EMAIL='JWHALEN', PHONE_NUMBER='515.123.4444', HIRE_DATE='17-SEP-03', JOB_ID='AD_ASST', COMMISSION_PCT=' - ', MANAGER_ID='101', DEPARTMENT_ID=10)]"
      ]
     },
     "execution_count": 34,
     "metadata": {},
     "output_type": "execute_result"
    }
   ],
   "source": [
    "# it will give us first n rows\n",
    "\n",
    "emp_df.head(3)"
   ]
  },
  {
   "cell_type": "code",
   "execution_count": 0,
   "metadata": {
    "application/vnd.databricks.v1+cell": {
     "cellMetadata": {},
     "inputWidgets": {},
     "nuid": "b7267853-bd43-42a5-bf7b-81003bf4759d",
     "showTitle": false,
     "tableResultSettingsMap": {},
     "title": ""
    }
   },
   "outputs": [],
   "source": [
    "# joins\n",
    "\n",
    "1. left join   ---> matching records in both dataset + records reamin in left dataset\n",
    "2. leftanti   ----> it returns records which are not matching in left side only\n",
    "3. selfjoin   ----> matching records as per the condition\n",
    "4. left semi  ---> inner join only but we will only matching records from left side "
   ]
  },
  {
   "cell_type": "code",
   "execution_count": 0,
   "metadata": {
    "application/vnd.databricks.v1+cell": {
     "cellMetadata": {
      "byteLimit": 2048000,
      "rowLimit": 10000
     },
     "inputWidgets": {},
     "nuid": "1eac6318-45a2-45aa-aaa3-53a48c86d86f",
     "showTitle": false,
     "tableResultSettingsMap": {},
     "title": ""
    }
   },
   "outputs": [],
   "source": [
    "dept_df = spark.read.option(\"header\",True)\\\n",
    "                    .option(\"inferSchema\",True)\\\n",
    "                    .csv(\"/Volumes/sample_cat/default/volume_csv/emp_dataset/departments.csv\")"
   ]
  },
  {
   "cell_type": "code",
   "execution_count": 0,
   "metadata": {
    "application/vnd.databricks.v1+cell": {
     "cellMetadata": {
      "byteLimit": 2048000,
      "rowLimit": 10000
     },
     "inputWidgets": {},
     "nuid": "6782f7c6-9f7c-47f2-b422-bd8d902c9870",
     "showTitle": false,
     "tableResultSettingsMap": {},
     "title": ""
    }
   },
   "outputs": [
    {
     "output_type": "stream",
     "name": "stdout",
     "output_type": "stream",
     "text": [
      "root\n |-- EMPLOYEE_ID: integer (nullable = true)\n |-- FIRST_NAME: string (nullable = true)\n |-- LAST_NAME: string (nullable = true)\n |-- EMAIL: string (nullable = true)\n |-- PHONE_NUMBER: string (nullable = true)\n |-- HIRE_DATE: string (nullable = true)\n |-- JOB_ID: string (nullable = true)\n |-- SALARY: integer (nullable = true)\n |-- COMMISSION_PCT: string (nullable = true)\n |-- MANAGER_ID: string (nullable = true)\n |-- DEPARTMENT_ID: integer (nullable = true)\n\n"
     ]
    }
   ],
   "source": [
    "emp_df.printSchema()"
   ]
  },
  {
   "cell_type": "code",
   "execution_count": 0,
   "metadata": {
    "application/vnd.databricks.v1+cell": {
     "cellMetadata": {
      "byteLimit": 2048000,
      "rowLimit": 10000
     },
     "inputWidgets": {},
     "nuid": "b8827aa6-783f-4d6e-9d9a-97dcdb5f493f",
     "showTitle": false,
     "tableResultSettingsMap": {},
     "title": ""
    }
   },
   "outputs": [
    {
     "output_type": "stream",
     "name": "stdout",
     "output_type": "stream",
     "text": [
      "root\n |-- DEPARTMENT_ID: integer (nullable = true)\n |-- DEPARTMENT_NAME: string (nullable = true)\n |-- MANAGER_ID: string (nullable = true)\n |-- LOCATION_ID: integer (nullable = true)\n\n"
     ]
    }
   ],
   "source": [
    "dept_df.printSchema()"
   ]
  },
  {
   "cell_type": "code",
   "execution_count": 0,
   "metadata": {
    "application/vnd.databricks.v1+cell": {
     "cellMetadata": {
      "byteLimit": 2048000,
      "rowLimit": 10000
     },
     "inputWidgets": {},
     "nuid": "3c3f379e-b42c-4efb-9459-5652e16aea98",
     "showTitle": false,
     "tableResultSettingsMap": {},
     "title": ""
    }
   },
   "outputs": [
    {
     "output_type": "display_data",
     "data": {
      "text/html": [
       "<style scoped>\n",
       "  .table-result-container {\n",
       "    max-height: 300px;\n",
       "    overflow: auto;\n",
       "  }\n",
       "  table, th, td {\n",
       "    border: 1px solid black;\n",
       "    border-collapse: collapse;\n",
       "  }\n",
       "  th, td {\n",
       "    padding: 5px;\n",
       "  }\n",
       "  th {\n",
       "    text-align: left;\n",
       "  }\n",
       "</style><div class='table-result-container'><table class='table-result'><thead style='background-color: white'><tr><th>EMPLOYEE_ID</th><th>FIRST_NAME</th><th>LAST_NAME</th><th>EMAIL</th><th>PHONE_NUMBER</th><th>HIRE_DATE</th><th>JOB_ID</th><th>SALARY</th><th>COMMISSION_PCT</th><th>MANAGER_ID</th><th>DEPARTMENT_ID</th><th>DEPARTMENT_ID</th><th>DEPARTMENT_NAME</th><th>MANAGER_ID</th><th>LOCATION_ID</th></tr></thead><tbody><tr><td>198</td><td>Donald</td><td>OConnell</td><td>DOCONNEL</td><td>650.507.9833</td><td>21-JUN-07</td><td>SH_CLERK</td><td>2600</td><td> - </td><td>124</td><td>50</td><td>50</td><td>Shipping</td><td>121</td><td>1500</td></tr><tr><td>199</td><td>Douglas</td><td>Grant</td><td>DGRANT</td><td>650.507.9844</td><td>13-JAN-08</td><td>SH_CLERK</td><td>2600</td><td> - </td><td>124</td><td>50</td><td>50</td><td>Shipping</td><td>121</td><td>1500</td></tr><tr><td>200</td><td>Jennifer</td><td>Whalen</td><td>JWHALEN</td><td>515.123.4444</td><td>17-SEP-03</td><td>AD_ASST</td><td>4400</td><td> - </td><td>101</td><td>10</td><td>10</td><td>Administration</td><td>200</td><td>1700</td></tr><tr><td>201</td><td>Michael</td><td>Hartstein</td><td>MHARTSTE</td><td>515.123.5555</td><td>17-FEB-04</td><td>MK_MAN</td><td>13000</td><td> - </td><td>100</td><td>20</td><td>20</td><td>Marketing</td><td>201</td><td>1800</td></tr><tr><td>202</td><td>Pat</td><td>Fay</td><td>PFAY</td><td>603.123.6666</td><td>17-AUG-05</td><td>MK_REP</td><td>6000</td><td> - </td><td>201</td><td>20</td><td>20</td><td>Marketing</td><td>201</td><td>1800</td></tr><tr><td>203</td><td>Susan</td><td>Mavris</td><td>SMAVRIS</td><td>515.123.7777</td><td>07-JUN-02</td><td>HR_REP</td><td>6500</td><td> - </td><td>101</td><td>40</td><td>40</td><td>Human Resources</td><td>203</td><td>2400</td></tr><tr><td>204</td><td>Hermann</td><td>Baer</td><td>HBAER</td><td>515.123.8888</td><td>07-JUN-02</td><td>PR_REP</td><td>10000</td><td> - </td><td>101</td><td>70</td><td>70</td><td>Public Relations</td><td>204</td><td>2700</td></tr><tr><td>205</td><td>Shelley</td><td>Higgins</td><td>SHIGGINS</td><td>515.123.8080</td><td>07-JUN-02</td><td>AC_MGR</td><td>12008</td><td> - </td><td>101</td><td>110</td><td>110</td><td>Accounting</td><td>205</td><td>1700</td></tr><tr><td>206</td><td>William</td><td>Gietz</td><td>WGIETZ</td><td>515.123.8181</td><td>07-JUN-02</td><td>AC_ACCOUNT</td><td>8300</td><td> - </td><td>205</td><td>110</td><td>110</td><td>Accounting</td><td>205</td><td>1700</td></tr><tr><td>100</td><td>Steven</td><td>King</td><td>SKING</td><td>515.123.4567</td><td>17-JUN-03</td><td>AD_PRES</td><td>24000</td><td> - </td><td> - </td><td>90</td><td>90</td><td>Executive</td><td>100</td><td>1700</td></tr><tr><td>101</td><td>Neena</td><td>Kochhar</td><td>NKOCHHAR</td><td>515.123.4568</td><td>21-SEP-05</td><td>AD_VP</td><td>17000</td><td> - </td><td>100</td><td>90</td><td>90</td><td>Executive</td><td>100</td><td>1700</td></tr><tr><td>102</td><td>Lex</td><td>De Haan</td><td>LDEHAAN</td><td>515.123.4569</td><td>13-JAN-01</td><td>AD_VP</td><td>17000</td><td> - </td><td>100</td><td>90</td><td>90</td><td>Executive</td><td>100</td><td>1700</td></tr><tr><td>103</td><td>Alexander</td><td>Hunold</td><td>AHUNOLD</td><td>590.423.4567</td><td>03-JAN-06</td><td>IT_PROG</td><td>9000</td><td> - </td><td>102</td><td>60</td><td>60</td><td>IT</td><td>103</td><td>1400</td></tr><tr><td>104</td><td>Bruce</td><td>Ernst</td><td>BERNST</td><td>590.423.4568</td><td>21-MAY-07</td><td>IT_PROG</td><td>6000</td><td> - </td><td>103</td><td>60</td><td>60</td><td>IT</td><td>103</td><td>1400</td></tr><tr><td>105</td><td>David</td><td>Austin</td><td>DAUSTIN</td><td>590.423.4569</td><td>25-JUN-05</td><td>IT_PROG</td><td>4800</td><td> - </td><td>103</td><td>60</td><td>60</td><td>IT</td><td>103</td><td>1400</td></tr><tr><td>106</td><td>Valli</td><td>Pataballa</td><td>VPATABAL</td><td>590.423.4560</td><td>05-FEB-06</td><td>IT_PROG</td><td>4800</td><td> - </td><td>103</td><td>60</td><td>60</td><td>IT</td><td>103</td><td>1400</td></tr><tr><td>107</td><td>Diana</td><td>Lorentz</td><td>DLORENTZ</td><td>590.423.5567</td><td>07-FEB-07</td><td>IT_PROG</td><td>4200</td><td> - </td><td>103</td><td>60</td><td>60</td><td>IT</td><td>103</td><td>1400</td></tr><tr><td>108</td><td>Nancy</td><td>Greenberg</td><td>NGREENBE</td><td>515.124.4569</td><td>17-AUG-02</td><td>FI_MGR</td><td>12008</td><td> - </td><td>101</td><td>100</td><td>100</td><td>Finance</td><td>108</td><td>1700</td></tr><tr><td>109</td><td>Daniel</td><td>Faviet</td><td>DFAVIET</td><td>515.124.4169</td><td>16-AUG-02</td><td>FI_ACCOUNT</td><td>9000</td><td> - </td><td>108</td><td>100</td><td>100</td><td>Finance</td><td>108</td><td>1700</td></tr><tr><td>110</td><td>John</td><td>Chen</td><td>JCHEN</td><td>515.124.4269</td><td>28-SEP-05</td><td>FI_ACCOUNT</td><td>8200</td><td> - </td><td>108</td><td>100</td><td>100</td><td>Finance</td><td>108</td><td>1700</td></tr><tr><td>111</td><td>Ismael</td><td>Sciarra</td><td>ISCIARRA</td><td>515.124.4369</td><td>30-SEP-05</td><td>FI_ACCOUNT</td><td>7700</td><td> - </td><td>108</td><td>100</td><td>100</td><td>Finance</td><td>108</td><td>1700</td></tr><tr><td>112</td><td>Jose Manuel</td><td>Urman</td><td>JMURMAN</td><td>515.124.4469</td><td>07-MAR-06</td><td>FI_ACCOUNT</td><td>7800</td><td> - </td><td>108</td><td>100</td><td>100</td><td>Finance</td><td>108</td><td>1700</td></tr><tr><td>113</td><td>Luis</td><td>Popp</td><td>LPOPP</td><td>515.124.4567</td><td>07-DEC-07</td><td>FI_ACCOUNT</td><td>6900</td><td> - </td><td>108</td><td>100</td><td>100</td><td>Finance</td><td>108</td><td>1700</td></tr><tr><td>114</td><td>Den</td><td>Raphaely</td><td>DRAPHEAL</td><td>515.127.4561</td><td>07-DEC-02</td><td>PU_MAN</td><td>11000</td><td> - </td><td>100</td><td>30</td><td>30</td><td>Purchasing</td><td>114</td><td>1700</td></tr><tr><td>115</td><td>Alexander</td><td>Khoo</td><td>AKHOO</td><td>515.127.4562</td><td>18-MAY-03</td><td>PU_CLERK</td><td>3100</td><td> - </td><td>114</td><td>30</td><td>30</td><td>Purchasing</td><td>114</td><td>1700</td></tr><tr><td>116</td><td>Shelli</td><td>Baida</td><td>SBAIDA</td><td>515.127.4563</td><td>24-DEC-05</td><td>PU_CLERK</td><td>2900</td><td> - </td><td>114</td><td>30</td><td>30</td><td>Purchasing</td><td>114</td><td>1700</td></tr><tr><td>117</td><td>Sigal</td><td>Tobias</td><td>STOBIAS</td><td>515.127.4564</td><td>24-JUL-05</td><td>PU_CLERK</td><td>2800</td><td> - </td><td>114</td><td>30</td><td>30</td><td>Purchasing</td><td>114</td><td>1700</td></tr><tr><td>118</td><td>Guy</td><td>Himuro</td><td>GHIMURO</td><td>515.127.4565</td><td>15-NOV-06</td><td>PU_CLERK</td><td>2600</td><td> - </td><td>114</td><td>30</td><td>30</td><td>Purchasing</td><td>114</td><td>1700</td></tr><tr><td>119</td><td>Karen</td><td>Colmenares</td><td>KCOLMENA</td><td>515.127.4566</td><td>10-AUG-07</td><td>PU_CLERK</td><td>2500</td><td> - </td><td>114</td><td>30</td><td>30</td><td>Purchasing</td><td>114</td><td>1700</td></tr><tr><td>120</td><td>Matthew</td><td>Weiss</td><td>MWEISS</td><td>650.123.1234</td><td>18-JUL-04</td><td>ST_MAN</td><td>8000</td><td> - </td><td>100</td><td>50</td><td>50</td><td>Shipping</td><td>121</td><td>1500</td></tr><tr><td>121</td><td>Adam</td><td>Fripp</td><td>AFRIPP</td><td>650.123.2234</td><td>10-APR-05</td><td>ST_MAN</td><td>8200</td><td> - </td><td>100</td><td>50</td><td>50</td><td>Shipping</td><td>121</td><td>1500</td></tr><tr><td>122</td><td>Payam</td><td>Kaufling</td><td>PKAUFLIN</td><td>650.123.3234</td><td>01-MAY-03</td><td>ST_MAN</td><td>7900</td><td> - </td><td>100</td><td>50</td><td>50</td><td>Shipping</td><td>121</td><td>1500</td></tr><tr><td>123</td><td>Shanta</td><td>Vollman</td><td>SVOLLMAN</td><td>650.123.4234</td><td>10-OCT-05</td><td>ST_MAN</td><td>6500</td><td> - </td><td>100</td><td>50</td><td>50</td><td>Shipping</td><td>121</td><td>1500</td></tr><tr><td>124</td><td>Kevin</td><td>Mourgos</td><td>KMOURGOS</td><td>650.123.5234</td><td>16-NOV-07</td><td>ST_MAN</td><td>5800</td><td> - </td><td>100</td><td>50</td><td>50</td><td>Shipping</td><td>121</td><td>1500</td></tr><tr><td>125</td><td>Julia</td><td>Nayer</td><td>JNAYER</td><td>650.124.1214</td><td>16-JUL-05</td><td>ST_CLERK</td><td>3200</td><td> - </td><td>120</td><td>50</td><td>50</td><td>Shipping</td><td>121</td><td>1500</td></tr><tr><td>126</td><td>Irene</td><td>Mikkilineni</td><td>IMIKKILI</td><td>650.124.1224</td><td>28-SEP-06</td><td>ST_CLERK</td><td>2700</td><td> - </td><td>120</td><td>50</td><td>50</td><td>Shipping</td><td>121</td><td>1500</td></tr><tr><td>127</td><td>James</td><td>Landry</td><td>JLANDRY</td><td>650.124.1334</td><td>14-JAN-07</td><td>ST_CLERK</td><td>2400</td><td> - </td><td>120</td><td>50</td><td>50</td><td>Shipping</td><td>121</td><td>1500</td></tr><tr><td>128</td><td>Steven</td><td>Markle</td><td>SMARKLE</td><td>650.124.1434</td><td>08-MAR-08</td><td>ST_CLERK</td><td>2200</td><td> - </td><td>120</td><td>50</td><td>50</td><td>Shipping</td><td>121</td><td>1500</td></tr><tr><td>129</td><td>Laura</td><td>Bissot</td><td>LBISSOT</td><td>650.124.5234</td><td>20-AUG-05</td><td>ST_CLERK</td><td>3300</td><td> - </td><td>121</td><td>50</td><td>50</td><td>Shipping</td><td>121</td><td>1500</td></tr><tr><td>130</td><td>Mozhe</td><td>Atkinson</td><td>MATKINSO</td><td>650.124.6234</td><td>30-OCT-05</td><td>ST_CLERK</td><td>2800</td><td> - </td><td>121</td><td>50</td><td>50</td><td>Shipping</td><td>121</td><td>1500</td></tr><tr><td>131</td><td>James</td><td>Marlow</td><td>JAMRLOW</td><td>650.124.7234</td><td>16-FEB-05</td><td>ST_CLERK</td><td>2500</td><td> - </td><td>121</td><td>50</td><td>50</td><td>Shipping</td><td>121</td><td>1500</td></tr><tr><td>132</td><td>TJ</td><td>Olson</td><td>TJOLSON</td><td>650.124.8234</td><td>10-APR-07</td><td>ST_CLERK</td><td>2100</td><td> - </td><td>121</td><td>50</td><td>50</td><td>Shipping</td><td>121</td><td>1500</td></tr><tr><td>133</td><td>Jason</td><td>Mallin</td><td>JMALLIN</td><td>650.127.1934</td><td>14-JUN-04</td><td>ST_CLERK</td><td>3300</td><td> - </td><td>122</td><td>50</td><td>50</td><td>Shipping</td><td>121</td><td>1500</td></tr><tr><td>134</td><td>Michael</td><td>Rogers</td><td>MROGERS</td><td>650.127.1834</td><td>26-AUG-06</td><td>ST_CLERK</td><td>2900</td><td> - </td><td>122</td><td>50</td><td>50</td><td>Shipping</td><td>121</td><td>1500</td></tr><tr><td>135</td><td>Ki</td><td>Gee</td><td>KGEE</td><td>650.127.1734</td><td>12-DEC-07</td><td>ST_CLERK</td><td>2400</td><td> - </td><td>122</td><td>50</td><td>50</td><td>Shipping</td><td>121</td><td>1500</td></tr><tr><td>136</td><td>Hazel</td><td>Philtanker</td><td>HPHILTAN</td><td>650.127.1634</td><td>06-FEB-08</td><td>ST_CLERK</td><td>2200</td><td> - </td><td>122</td><td>50</td><td>50</td><td>Shipping</td><td>121</td><td>1500</td></tr><tr><td>137</td><td>Renske</td><td>Ladwig</td><td>RLADWIG</td><td>650.121.1234</td><td>14-JUL-03</td><td>ST_CLERK</td><td>3600</td><td> - </td><td>123</td><td>50</td><td>50</td><td>Shipping</td><td>121</td><td>1500</td></tr><tr><td>138</td><td>Stephen</td><td>Stiles</td><td>SSTILES</td><td>650.121.2034</td><td>26-OCT-05</td><td>ST_CLERK</td><td>3200</td><td> - </td><td>123</td><td>50</td><td>50</td><td>Shipping</td><td>121</td><td>1500</td></tr><tr><td>139</td><td>John</td><td>Seo</td><td>JSEO</td><td>650.121.2019</td><td>12-FEB-06</td><td>ST_CLERK</td><td>2700</td><td> - </td><td>123</td><td>50</td><td>50</td><td>Shipping</td><td>121</td><td>1500</td></tr><tr><td>140</td><td>Joshua</td><td>Patel</td><td>JPATEL</td><td>650.121.1834</td><td>06-APR-06</td><td>ST_CLERK</td><td>2500</td><td> - </td><td>123</td><td>50</td><td>50</td><td>Shipping</td><td>121</td><td>1500</td></tr></tbody></table></div>"
      ]
     },
     "metadata": {
      "application/vnd.databricks.v1+output": {
       "addedWidgets": {},
       "aggData": [],
       "aggError": "",
       "aggOverflow": false,
       "aggSchema": [],
       "aggSeriesLimitReached": false,
       "aggType": "",
       "arguments": {},
       "columnCustomDisplayInfos": {},
       "data": [
        [
         198,
         "Donald",
         "OConnell",
         "DOCONNEL",
         "650.507.9833",
         "21-JUN-07",
         "SH_CLERK",
         2600,
         " - ",
         "124",
         50,
         50,
         "Shipping",
         "121",
         1500
        ],
        [
         199,
         "Douglas",
         "Grant",
         "DGRANT",
         "650.507.9844",
         "13-JAN-08",
         "SH_CLERK",
         2600,
         " - ",
         "124",
         50,
         50,
         "Shipping",
         "121",
         1500
        ],
        [
         200,
         "Jennifer",
         "Whalen",
         "JWHALEN",
         "515.123.4444",
         "17-SEP-03",
         "AD_ASST",
         4400,
         " - ",
         "101",
         10,
         10,
         "Administration",
         "200",
         1700
        ],
        [
         201,
         "Michael",
         "Hartstein",
         "MHARTSTE",
         "515.123.5555",
         "17-FEB-04",
         "MK_MAN",
         13000,
         " - ",
         "100",
         20,
         20,
         "Marketing",
         "201",
         1800
        ],
        [
         202,
         "Pat",
         "Fay",
         "PFAY",
         "603.123.6666",
         "17-AUG-05",
         "MK_REP",
         6000,
         " - ",
         "201",
         20,
         20,
         "Marketing",
         "201",
         1800
        ],
        [
         203,
         "Susan",
         "Mavris",
         "SMAVRIS",
         "515.123.7777",
         "07-JUN-02",
         "HR_REP",
         6500,
         " - ",
         "101",
         40,
         40,
         "Human Resources",
         "203",
         2400
        ],
        [
         204,
         "Hermann",
         "Baer",
         "HBAER",
         "515.123.8888",
         "07-JUN-02",
         "PR_REP",
         10000,
         " - ",
         "101",
         70,
         70,
         "Public Relations",
         "204",
         2700
        ],
        [
         205,
         "Shelley",
         "Higgins",
         "SHIGGINS",
         "515.123.8080",
         "07-JUN-02",
         "AC_MGR",
         12008,
         " - ",
         "101",
         110,
         110,
         "Accounting",
         "205",
         1700
        ],
        [
         206,
         "William",
         "Gietz",
         "WGIETZ",
         "515.123.8181",
         "07-JUN-02",
         "AC_ACCOUNT",
         8300,
         " - ",
         "205",
         110,
         110,
         "Accounting",
         "205",
         1700
        ],
        [
         100,
         "Steven",
         "King",
         "SKING",
         "515.123.4567",
         "17-JUN-03",
         "AD_PRES",
         24000,
         " - ",
         " - ",
         90,
         90,
         "Executive",
         "100",
         1700
        ],
        [
         101,
         "Neena",
         "Kochhar",
         "NKOCHHAR",
         "515.123.4568",
         "21-SEP-05",
         "AD_VP",
         17000,
         " - ",
         "100",
         90,
         90,
         "Executive",
         "100",
         1700
        ],
        [
         102,
         "Lex",
         "De Haan",
         "LDEHAAN",
         "515.123.4569",
         "13-JAN-01",
         "AD_VP",
         17000,
         " - ",
         "100",
         90,
         90,
         "Executive",
         "100",
         1700
        ],
        [
         103,
         "Alexander",
         "Hunold",
         "AHUNOLD",
         "590.423.4567",
         "03-JAN-06",
         "IT_PROG",
         9000,
         " - ",
         "102",
         60,
         60,
         "IT",
         "103",
         1400
        ],
        [
         104,
         "Bruce",
         "Ernst",
         "BERNST",
         "590.423.4568",
         "21-MAY-07",
         "IT_PROG",
         6000,
         " - ",
         "103",
         60,
         60,
         "IT",
         "103",
         1400
        ],
        [
         105,
         "David",
         "Austin",
         "DAUSTIN",
         "590.423.4569",
         "25-JUN-05",
         "IT_PROG",
         4800,
         " - ",
         "103",
         60,
         60,
         "IT",
         "103",
         1400
        ],
        [
         106,
         "Valli",
         "Pataballa",
         "VPATABAL",
         "590.423.4560",
         "05-FEB-06",
         "IT_PROG",
         4800,
         " - ",
         "103",
         60,
         60,
         "IT",
         "103",
         1400
        ],
        [
         107,
         "Diana",
         "Lorentz",
         "DLORENTZ",
         "590.423.5567",
         "07-FEB-07",
         "IT_PROG",
         4200,
         " - ",
         "103",
         60,
         60,
         "IT",
         "103",
         1400
        ],
        [
         108,
         "Nancy",
         "Greenberg",
         "NGREENBE",
         "515.124.4569",
         "17-AUG-02",
         "FI_MGR",
         12008,
         " - ",
         "101",
         100,
         100,
         "Finance",
         "108",
         1700
        ],
        [
         109,
         "Daniel",
         "Faviet",
         "DFAVIET",
         "515.124.4169",
         "16-AUG-02",
         "FI_ACCOUNT",
         9000,
         " - ",
         "108",
         100,
         100,
         "Finance",
         "108",
         1700
        ],
        [
         110,
         "John",
         "Chen",
         "JCHEN",
         "515.124.4269",
         "28-SEP-05",
         "FI_ACCOUNT",
         8200,
         " - ",
         "108",
         100,
         100,
         "Finance",
         "108",
         1700
        ],
        [
         111,
         "Ismael",
         "Sciarra",
         "ISCIARRA",
         "515.124.4369",
         "30-SEP-05",
         "FI_ACCOUNT",
         7700,
         " - ",
         "108",
         100,
         100,
         "Finance",
         "108",
         1700
        ],
        [
         112,
         "Jose Manuel",
         "Urman",
         "JMURMAN",
         "515.124.4469",
         "07-MAR-06",
         "FI_ACCOUNT",
         7800,
         " - ",
         "108",
         100,
         100,
         "Finance",
         "108",
         1700
        ],
        [
         113,
         "Luis",
         "Popp",
         "LPOPP",
         "515.124.4567",
         "07-DEC-07",
         "FI_ACCOUNT",
         6900,
         " - ",
         "108",
         100,
         100,
         "Finance",
         "108",
         1700
        ],
        [
         114,
         "Den",
         "Raphaely",
         "DRAPHEAL",
         "515.127.4561",
         "07-DEC-02",
         "PU_MAN",
         11000,
         " - ",
         "100",
         30,
         30,
         "Purchasing",
         "114",
         1700
        ],
        [
         115,
         "Alexander",
         "Khoo",
         "AKHOO",
         "515.127.4562",
         "18-MAY-03",
         "PU_CLERK",
         3100,
         " - ",
         "114",
         30,
         30,
         "Purchasing",
         "114",
         1700
        ],
        [
         116,
         "Shelli",
         "Baida",
         "SBAIDA",
         "515.127.4563",
         "24-DEC-05",
         "PU_CLERK",
         2900,
         " - ",
         "114",
         30,
         30,
         "Purchasing",
         "114",
         1700
        ],
        [
         117,
         "Sigal",
         "Tobias",
         "STOBIAS",
         "515.127.4564",
         "24-JUL-05",
         "PU_CLERK",
         2800,
         " - ",
         "114",
         30,
         30,
         "Purchasing",
         "114",
         1700
        ],
        [
         118,
         "Guy",
         "Himuro",
         "GHIMURO",
         "515.127.4565",
         "15-NOV-06",
         "PU_CLERK",
         2600,
         " - ",
         "114",
         30,
         30,
         "Purchasing",
         "114",
         1700
        ],
        [
         119,
         "Karen",
         "Colmenares",
         "KCOLMENA",
         "515.127.4566",
         "10-AUG-07",
         "PU_CLERK",
         2500,
         " - ",
         "114",
         30,
         30,
         "Purchasing",
         "114",
         1700
        ],
        [
         120,
         "Matthew",
         "Weiss",
         "MWEISS",
         "650.123.1234",
         "18-JUL-04",
         "ST_MAN",
         8000,
         " - ",
         "100",
         50,
         50,
         "Shipping",
         "121",
         1500
        ],
        [
         121,
         "Adam",
         "Fripp",
         "AFRIPP",
         "650.123.2234",
         "10-APR-05",
         "ST_MAN",
         8200,
         " - ",
         "100",
         50,
         50,
         "Shipping",
         "121",
         1500
        ],
        [
         122,
         "Payam",
         "Kaufling",
         "PKAUFLIN",
         "650.123.3234",
         "01-MAY-03",
         "ST_MAN",
         7900,
         " - ",
         "100",
         50,
         50,
         "Shipping",
         "121",
         1500
        ],
        [
         123,
         "Shanta",
         "Vollman",
         "SVOLLMAN",
         "650.123.4234",
         "10-OCT-05",
         "ST_MAN",
         6500,
         " - ",
         "100",
         50,
         50,
         "Shipping",
         "121",
         1500
        ],
        [
         124,
         "Kevin",
         "Mourgos",
         "KMOURGOS",
         "650.123.5234",
         "16-NOV-07",
         "ST_MAN",
         5800,
         " - ",
         "100",
         50,
         50,
         "Shipping",
         "121",
         1500
        ],
        [
         125,
         "Julia",
         "Nayer",
         "JNAYER",
         "650.124.1214",
         "16-JUL-05",
         "ST_CLERK",
         3200,
         " - ",
         "120",
         50,
         50,
         "Shipping",
         "121",
         1500
        ],
        [
         126,
         "Irene",
         "Mikkilineni",
         "IMIKKILI",
         "650.124.1224",
         "28-SEP-06",
         "ST_CLERK",
         2700,
         " - ",
         "120",
         50,
         50,
         "Shipping",
         "121",
         1500
        ],
        [
         127,
         "James",
         "Landry",
         "JLANDRY",
         "650.124.1334",
         "14-JAN-07",
         "ST_CLERK",
         2400,
         " - ",
         "120",
         50,
         50,
         "Shipping",
         "121",
         1500
        ],
        [
         128,
         "Steven",
         "Markle",
         "SMARKLE",
         "650.124.1434",
         "08-MAR-08",
         "ST_CLERK",
         2200,
         " - ",
         "120",
         50,
         50,
         "Shipping",
         "121",
         1500
        ],
        [
         129,
         "Laura",
         "Bissot",
         "LBISSOT",
         "650.124.5234",
         "20-AUG-05",
         "ST_CLERK",
         3300,
         " - ",
         "121",
         50,
         50,
         "Shipping",
         "121",
         1500
        ],
        [
         130,
         "Mozhe",
         "Atkinson",
         "MATKINSO",
         "650.124.6234",
         "30-OCT-05",
         "ST_CLERK",
         2800,
         " - ",
         "121",
         50,
         50,
         "Shipping",
         "121",
         1500
        ],
        [
         131,
         "James",
         "Marlow",
         "JAMRLOW",
         "650.124.7234",
         "16-FEB-05",
         "ST_CLERK",
         2500,
         " - ",
         "121",
         50,
         50,
         "Shipping",
         "121",
         1500
        ],
        [
         132,
         "TJ",
         "Olson",
         "TJOLSON",
         "650.124.8234",
         "10-APR-07",
         "ST_CLERK",
         2100,
         " - ",
         "121",
         50,
         50,
         "Shipping",
         "121",
         1500
        ],
        [
         133,
         "Jason",
         "Mallin",
         "JMALLIN",
         "650.127.1934",
         "14-JUN-04",
         "ST_CLERK",
         3300,
         " - ",
         "122",
         50,
         50,
         "Shipping",
         "121",
         1500
        ],
        [
         134,
         "Michael",
         "Rogers",
         "MROGERS",
         "650.127.1834",
         "26-AUG-06",
         "ST_CLERK",
         2900,
         " - ",
         "122",
         50,
         50,
         "Shipping",
         "121",
         1500
        ],
        [
         135,
         "Ki",
         "Gee",
         "KGEE",
         "650.127.1734",
         "12-DEC-07",
         "ST_CLERK",
         2400,
         " - ",
         "122",
         50,
         50,
         "Shipping",
         "121",
         1500
        ],
        [
         136,
         "Hazel",
         "Philtanker",
         "HPHILTAN",
         "650.127.1634",
         "06-FEB-08",
         "ST_CLERK",
         2200,
         " - ",
         "122",
         50,
         50,
         "Shipping",
         "121",
         1500
        ],
        [
         137,
         "Renske",
         "Ladwig",
         "RLADWIG",
         "650.121.1234",
         "14-JUL-03",
         "ST_CLERK",
         3600,
         " - ",
         "123",
         50,
         50,
         "Shipping",
         "121",
         1500
        ],
        [
         138,
         "Stephen",
         "Stiles",
         "SSTILES",
         "650.121.2034",
         "26-OCT-05",
         "ST_CLERK",
         3200,
         " - ",
         "123",
         50,
         50,
         "Shipping",
         "121",
         1500
        ],
        [
         139,
         "John",
         "Seo",
         "JSEO",
         "650.121.2019",
         "12-FEB-06",
         "ST_CLERK",
         2700,
         " - ",
         "123",
         50,
         50,
         "Shipping",
         "121",
         1500
        ],
        [
         140,
         "Joshua",
         "Patel",
         "JPATEL",
         "650.121.1834",
         "06-APR-06",
         "ST_CLERK",
         2500,
         " - ",
         "123",
         50,
         50,
         "Shipping",
         "121",
         1500
        ]
       ],
       "datasetInfos": [],
       "dbfsResultPath": null,
       "isJsonSchema": true,
       "metadata": {},
       "overflow": false,
       "plotOptions": {
        "customPlotOptions": {},
        "displayType": "table",
        "pivotAggregation": null,
        "pivotColumns": null,
        "xColumns": null,
        "yColumns": null
       },
       "removedWidgets": [],
       "schema": [
        {
         "metadata": "{}",
         "name": "EMPLOYEE_ID",
         "type": "\"integer\""
        },
        {
         "metadata": "{}",
         "name": "FIRST_NAME",
         "type": "\"string\""
        },
        {
         "metadata": "{}",
         "name": "LAST_NAME",
         "type": "\"string\""
        },
        {
         "metadata": "{}",
         "name": "EMAIL",
         "type": "\"string\""
        },
        {
         "metadata": "{}",
         "name": "PHONE_NUMBER",
         "type": "\"string\""
        },
        {
         "metadata": "{}",
         "name": "HIRE_DATE",
         "type": "\"string\""
        },
        {
         "metadata": "{}",
         "name": "JOB_ID",
         "type": "\"string\""
        },
        {
         "metadata": "{}",
         "name": "SALARY",
         "type": "\"integer\""
        },
        {
         "metadata": "{}",
         "name": "COMMISSION_PCT",
         "type": "\"string\""
        },
        {
         "metadata": "{}",
         "name": "MANAGER_ID",
         "type": "\"string\""
        },
        {
         "metadata": "{}",
         "name": "DEPARTMENT_ID",
         "type": "\"integer\""
        },
        {
         "metadata": "{}",
         "name": "DEPARTMENT_ID",
         "type": "\"integer\""
        },
        {
         "metadata": "{}",
         "name": "DEPARTMENT_NAME",
         "type": "\"string\""
        },
        {
         "metadata": "{}",
         "name": "MANAGER_ID",
         "type": "\"string\""
        },
        {
         "metadata": "{}",
         "name": "LOCATION_ID",
         "type": "\"integer\""
        }
       ],
       "type": "table"
      }
     },
     "output_type": "display_data"
    }
   ],
   "source": [
    "emp_df.join(dept_df, emp_df.DEPARTMENT_ID == dept_df.DEPARTMENT_ID ).display()"
   ]
  },
  {
   "cell_type": "code",
   "execution_count": 0,
   "metadata": {
    "application/vnd.databricks.v1+cell": {
     "cellMetadata": {
      "byteLimit": 2048000,
      "rowLimit": 10000
     },
     "inputWidgets": {},
     "nuid": "97367f89-9cbf-41fa-82f5-103163010b86",
     "showTitle": false,
     "tableResultSettingsMap": {},
     "title": ""
    }
   },
   "outputs": [
    {
     "output_type": "display_data",
     "data": {
      "text/html": [
       "<style scoped>\n",
       "  .table-result-container {\n",
       "    max-height: 300px;\n",
       "    overflow: auto;\n",
       "  }\n",
       "  table, th, td {\n",
       "    border: 1px solid black;\n",
       "    border-collapse: collapse;\n",
       "  }\n",
       "  th, td {\n",
       "    padding: 5px;\n",
       "  }\n",
       "  th {\n",
       "    text-align: left;\n",
       "  }\n",
       "</style><div class='table-result-container'><table class='table-result'><thead style='background-color: white'><tr><th>EMPLOYEE_ID</th><th>FIRST_NAME</th><th>LAST_NAME</th><th>EMAIL</th><th>PHONE_NUMBER</th><th>HIRE_DATE</th><th>JOB_ID</th><th>SALARY</th><th>COMMISSION_PCT</th><th>MANAGER_ID</th><th>DEPARTMENT_ID</th></tr></thead><tbody></tbody></table></div>"
      ]
     },
     "metadata": {
      "application/vnd.databricks.v1+output": {
       "addedWidgets": {},
       "aggData": [],
       "aggError": "",
       "aggOverflow": false,
       "aggSchema": [],
       "aggSeriesLimitReached": false,
       "aggType": "",
       "arguments": {},
       "columnCustomDisplayInfos": {},
       "data": [],
       "datasetInfos": [],
       "dbfsResultPath": null,
       "isJsonSchema": true,
       "metadata": {},
       "overflow": false,
       "plotOptions": {
        "customPlotOptions": {},
        "displayType": "table",
        "pivotAggregation": null,
        "pivotColumns": null,
        "xColumns": null,
        "yColumns": null
       },
       "removedWidgets": [],
       "schema": [
        {
         "metadata": "{}",
         "name": "EMPLOYEE_ID",
         "type": "\"integer\""
        },
        {
         "metadata": "{}",
         "name": "FIRST_NAME",
         "type": "\"string\""
        },
        {
         "metadata": "{}",
         "name": "LAST_NAME",
         "type": "\"string\""
        },
        {
         "metadata": "{}",
         "name": "EMAIL",
         "type": "\"string\""
        },
        {
         "metadata": "{}",
         "name": "PHONE_NUMBER",
         "type": "\"string\""
        },
        {
         "metadata": "{}",
         "name": "HIRE_DATE",
         "type": "\"string\""
        },
        {
         "metadata": "{}",
         "name": "JOB_ID",
         "type": "\"string\""
        },
        {
         "metadata": "{}",
         "name": "SALARY",
         "type": "\"integer\""
        },
        {
         "metadata": "{}",
         "name": "COMMISSION_PCT",
         "type": "\"string\""
        },
        {
         "metadata": "{}",
         "name": "MANAGER_ID",
         "type": "\"string\""
        },
        {
         "metadata": "{}",
         "name": "DEPARTMENT_ID",
         "type": "\"integer\""
        }
       ],
       "type": "table"
      }
     },
     "output_type": "display_data"
    }
   ],
   "source": [
    "emp_df.join(dept_df, emp_df.DEPARTMENT_ID == dept_df.DEPARTMENT_ID, how = 'leftanti' ).display()"
   ]
  },
  {
   "cell_type": "code",
   "execution_count": 0,
   "metadata": {
    "application/vnd.databricks.v1+cell": {
     "cellMetadata": {
      "byteLimit": 2048000,
      "rowLimit": 10000
     },
     "inputWidgets": {},
     "nuid": "fc804855-1915-4fcb-b4e4-a95d4a0de53b",
     "showTitle": false,
     "tableResultSettingsMap": {},
     "title": ""
    }
   },
   "outputs": [
    {
     "output_type": "display_data",
     "data": {
      "text/html": [
       "<style scoped>\n",
       "  .table-result-container {\n",
       "    max-height: 300px;\n",
       "    overflow: auto;\n",
       "  }\n",
       "  table, th, td {\n",
       "    border: 1px solid black;\n",
       "    border-collapse: collapse;\n",
       "  }\n",
       "  th, td {\n",
       "    padding: 5px;\n",
       "  }\n",
       "  th {\n",
       "    text-align: left;\n",
       "  }\n",
       "</style><div class='table-result-container'><table class='table-result'><thead style='background-color: white'><tr><th>EMPLOYEE_ID</th><th>FIRST_NAME</th><th>LAST_NAME</th><th>EMAIL</th><th>PHONE_NUMBER</th><th>HIRE_DATE</th><th>JOB_ID</th><th>SALARY</th><th>COMMISSION_PCT</th><th>MANAGER_ID</th><th>DEPARTMENT_ID</th></tr></thead><tbody><tr><td>198</td><td>Donald</td><td>OConnell</td><td>DOCONNEL</td><td>650.507.9833</td><td>21-JUN-07</td><td>SH_CLERK</td><td>2600</td><td> - </td><td>124</td><td>50</td></tr><tr><td>199</td><td>Douglas</td><td>Grant</td><td>DGRANT</td><td>650.507.9844</td><td>13-JAN-08</td><td>SH_CLERK</td><td>2600</td><td> - </td><td>124</td><td>50</td></tr><tr><td>200</td><td>Jennifer</td><td>Whalen</td><td>JWHALEN</td><td>515.123.4444</td><td>17-SEP-03</td><td>AD_ASST</td><td>4400</td><td> - </td><td>101</td><td>10</td></tr><tr><td>201</td><td>Michael</td><td>Hartstein</td><td>MHARTSTE</td><td>515.123.5555</td><td>17-FEB-04</td><td>MK_MAN</td><td>13000</td><td> - </td><td>100</td><td>20</td></tr><tr><td>202</td><td>Pat</td><td>Fay</td><td>PFAY</td><td>603.123.6666</td><td>17-AUG-05</td><td>MK_REP</td><td>6000</td><td> - </td><td>201</td><td>20</td></tr><tr><td>203</td><td>Susan</td><td>Mavris</td><td>SMAVRIS</td><td>515.123.7777</td><td>07-JUN-02</td><td>HR_REP</td><td>6500</td><td> - </td><td>101</td><td>40</td></tr><tr><td>204</td><td>Hermann</td><td>Baer</td><td>HBAER</td><td>515.123.8888</td><td>07-JUN-02</td><td>PR_REP</td><td>10000</td><td> - </td><td>101</td><td>70</td></tr><tr><td>205</td><td>Shelley</td><td>Higgins</td><td>SHIGGINS</td><td>515.123.8080</td><td>07-JUN-02</td><td>AC_MGR</td><td>12008</td><td> - </td><td>101</td><td>110</td></tr><tr><td>206</td><td>William</td><td>Gietz</td><td>WGIETZ</td><td>515.123.8181</td><td>07-JUN-02</td><td>AC_ACCOUNT</td><td>8300</td><td> - </td><td>205</td><td>110</td></tr><tr><td>100</td><td>Steven</td><td>King</td><td>SKING</td><td>515.123.4567</td><td>17-JUN-03</td><td>AD_PRES</td><td>24000</td><td> - </td><td> - </td><td>90</td></tr><tr><td>101</td><td>Neena</td><td>Kochhar</td><td>NKOCHHAR</td><td>515.123.4568</td><td>21-SEP-05</td><td>AD_VP</td><td>17000</td><td> - </td><td>100</td><td>90</td></tr><tr><td>102</td><td>Lex</td><td>De Haan</td><td>LDEHAAN</td><td>515.123.4569</td><td>13-JAN-01</td><td>AD_VP</td><td>17000</td><td> - </td><td>100</td><td>90</td></tr><tr><td>103</td><td>Alexander</td><td>Hunold</td><td>AHUNOLD</td><td>590.423.4567</td><td>03-JAN-06</td><td>IT_PROG</td><td>9000</td><td> - </td><td>102</td><td>60</td></tr><tr><td>104</td><td>Bruce</td><td>Ernst</td><td>BERNST</td><td>590.423.4568</td><td>21-MAY-07</td><td>IT_PROG</td><td>6000</td><td> - </td><td>103</td><td>60</td></tr><tr><td>105</td><td>David</td><td>Austin</td><td>DAUSTIN</td><td>590.423.4569</td><td>25-JUN-05</td><td>IT_PROG</td><td>4800</td><td> - </td><td>103</td><td>60</td></tr><tr><td>106</td><td>Valli</td><td>Pataballa</td><td>VPATABAL</td><td>590.423.4560</td><td>05-FEB-06</td><td>IT_PROG</td><td>4800</td><td> - </td><td>103</td><td>60</td></tr><tr><td>107</td><td>Diana</td><td>Lorentz</td><td>DLORENTZ</td><td>590.423.5567</td><td>07-FEB-07</td><td>IT_PROG</td><td>4200</td><td> - </td><td>103</td><td>60</td></tr><tr><td>108</td><td>Nancy</td><td>Greenberg</td><td>NGREENBE</td><td>515.124.4569</td><td>17-AUG-02</td><td>FI_MGR</td><td>12008</td><td> - </td><td>101</td><td>100</td></tr><tr><td>109</td><td>Daniel</td><td>Faviet</td><td>DFAVIET</td><td>515.124.4169</td><td>16-AUG-02</td><td>FI_ACCOUNT</td><td>9000</td><td> - </td><td>108</td><td>100</td></tr><tr><td>110</td><td>John</td><td>Chen</td><td>JCHEN</td><td>515.124.4269</td><td>28-SEP-05</td><td>FI_ACCOUNT</td><td>8200</td><td> - </td><td>108</td><td>100</td></tr><tr><td>111</td><td>Ismael</td><td>Sciarra</td><td>ISCIARRA</td><td>515.124.4369</td><td>30-SEP-05</td><td>FI_ACCOUNT</td><td>7700</td><td> - </td><td>108</td><td>100</td></tr><tr><td>112</td><td>Jose Manuel</td><td>Urman</td><td>JMURMAN</td><td>515.124.4469</td><td>07-MAR-06</td><td>FI_ACCOUNT</td><td>7800</td><td> - </td><td>108</td><td>100</td></tr><tr><td>113</td><td>Luis</td><td>Popp</td><td>LPOPP</td><td>515.124.4567</td><td>07-DEC-07</td><td>FI_ACCOUNT</td><td>6900</td><td> - </td><td>108</td><td>100</td></tr><tr><td>114</td><td>Den</td><td>Raphaely</td><td>DRAPHEAL</td><td>515.127.4561</td><td>07-DEC-02</td><td>PU_MAN</td><td>11000</td><td> - </td><td>100</td><td>30</td></tr><tr><td>115</td><td>Alexander</td><td>Khoo</td><td>AKHOO</td><td>515.127.4562</td><td>18-MAY-03</td><td>PU_CLERK</td><td>3100</td><td> - </td><td>114</td><td>30</td></tr><tr><td>116</td><td>Shelli</td><td>Baida</td><td>SBAIDA</td><td>515.127.4563</td><td>24-DEC-05</td><td>PU_CLERK</td><td>2900</td><td> - </td><td>114</td><td>30</td></tr><tr><td>117</td><td>Sigal</td><td>Tobias</td><td>STOBIAS</td><td>515.127.4564</td><td>24-JUL-05</td><td>PU_CLERK</td><td>2800</td><td> - </td><td>114</td><td>30</td></tr><tr><td>118</td><td>Guy</td><td>Himuro</td><td>GHIMURO</td><td>515.127.4565</td><td>15-NOV-06</td><td>PU_CLERK</td><td>2600</td><td> - </td><td>114</td><td>30</td></tr><tr><td>119</td><td>Karen</td><td>Colmenares</td><td>KCOLMENA</td><td>515.127.4566</td><td>10-AUG-07</td><td>PU_CLERK</td><td>2500</td><td> - </td><td>114</td><td>30</td></tr><tr><td>120</td><td>Matthew</td><td>Weiss</td><td>MWEISS</td><td>650.123.1234</td><td>18-JUL-04</td><td>ST_MAN</td><td>8000</td><td> - </td><td>100</td><td>50</td></tr><tr><td>121</td><td>Adam</td><td>Fripp</td><td>AFRIPP</td><td>650.123.2234</td><td>10-APR-05</td><td>ST_MAN</td><td>8200</td><td> - </td><td>100</td><td>50</td></tr><tr><td>122</td><td>Payam</td><td>Kaufling</td><td>PKAUFLIN</td><td>650.123.3234</td><td>01-MAY-03</td><td>ST_MAN</td><td>7900</td><td> - </td><td>100</td><td>50</td></tr><tr><td>123</td><td>Shanta</td><td>Vollman</td><td>SVOLLMAN</td><td>650.123.4234</td><td>10-OCT-05</td><td>ST_MAN</td><td>6500</td><td> - </td><td>100</td><td>50</td></tr><tr><td>124</td><td>Kevin</td><td>Mourgos</td><td>KMOURGOS</td><td>650.123.5234</td><td>16-NOV-07</td><td>ST_MAN</td><td>5800</td><td> - </td><td>100</td><td>50</td></tr><tr><td>125</td><td>Julia</td><td>Nayer</td><td>JNAYER</td><td>650.124.1214</td><td>16-JUL-05</td><td>ST_CLERK</td><td>3200</td><td> - </td><td>120</td><td>50</td></tr><tr><td>126</td><td>Irene</td><td>Mikkilineni</td><td>IMIKKILI</td><td>650.124.1224</td><td>28-SEP-06</td><td>ST_CLERK</td><td>2700</td><td> - </td><td>120</td><td>50</td></tr><tr><td>127</td><td>James</td><td>Landry</td><td>JLANDRY</td><td>650.124.1334</td><td>14-JAN-07</td><td>ST_CLERK</td><td>2400</td><td> - </td><td>120</td><td>50</td></tr><tr><td>128</td><td>Steven</td><td>Markle</td><td>SMARKLE</td><td>650.124.1434</td><td>08-MAR-08</td><td>ST_CLERK</td><td>2200</td><td> - </td><td>120</td><td>50</td></tr><tr><td>129</td><td>Laura</td><td>Bissot</td><td>LBISSOT</td><td>650.124.5234</td><td>20-AUG-05</td><td>ST_CLERK</td><td>3300</td><td> - </td><td>121</td><td>50</td></tr><tr><td>130</td><td>Mozhe</td><td>Atkinson</td><td>MATKINSO</td><td>650.124.6234</td><td>30-OCT-05</td><td>ST_CLERK</td><td>2800</td><td> - </td><td>121</td><td>50</td></tr><tr><td>131</td><td>James</td><td>Marlow</td><td>JAMRLOW</td><td>650.124.7234</td><td>16-FEB-05</td><td>ST_CLERK</td><td>2500</td><td> - </td><td>121</td><td>50</td></tr><tr><td>132</td><td>TJ</td><td>Olson</td><td>TJOLSON</td><td>650.124.8234</td><td>10-APR-07</td><td>ST_CLERK</td><td>2100</td><td> - </td><td>121</td><td>50</td></tr><tr><td>133</td><td>Jason</td><td>Mallin</td><td>JMALLIN</td><td>650.127.1934</td><td>14-JUN-04</td><td>ST_CLERK</td><td>3300</td><td> - </td><td>122</td><td>50</td></tr><tr><td>134</td><td>Michael</td><td>Rogers</td><td>MROGERS</td><td>650.127.1834</td><td>26-AUG-06</td><td>ST_CLERK</td><td>2900</td><td> - </td><td>122</td><td>50</td></tr><tr><td>135</td><td>Ki</td><td>Gee</td><td>KGEE</td><td>650.127.1734</td><td>12-DEC-07</td><td>ST_CLERK</td><td>2400</td><td> - </td><td>122</td><td>50</td></tr><tr><td>136</td><td>Hazel</td><td>Philtanker</td><td>HPHILTAN</td><td>650.127.1634</td><td>06-FEB-08</td><td>ST_CLERK</td><td>2200</td><td> - </td><td>122</td><td>50</td></tr><tr><td>137</td><td>Renske</td><td>Ladwig</td><td>RLADWIG</td><td>650.121.1234</td><td>14-JUL-03</td><td>ST_CLERK</td><td>3600</td><td> - </td><td>123</td><td>50</td></tr><tr><td>138</td><td>Stephen</td><td>Stiles</td><td>SSTILES</td><td>650.121.2034</td><td>26-OCT-05</td><td>ST_CLERK</td><td>3200</td><td> - </td><td>123</td><td>50</td></tr><tr><td>139</td><td>John</td><td>Seo</td><td>JSEO</td><td>650.121.2019</td><td>12-FEB-06</td><td>ST_CLERK</td><td>2700</td><td> - </td><td>123</td><td>50</td></tr><tr><td>140</td><td>Joshua</td><td>Patel</td><td>JPATEL</td><td>650.121.1834</td><td>06-APR-06</td><td>ST_CLERK</td><td>2500</td><td> - </td><td>123</td><td>50</td></tr></tbody></table></div>"
      ]
     },
     "metadata": {
      "application/vnd.databricks.v1+output": {
       "addedWidgets": {},
       "aggData": [],
       "aggError": "",
       "aggOverflow": false,
       "aggSchema": [],
       "aggSeriesLimitReached": false,
       "aggType": "",
       "arguments": {},
       "columnCustomDisplayInfos": {},
       "data": [
        [
         198,
         "Donald",
         "OConnell",
         "DOCONNEL",
         "650.507.9833",
         "21-JUN-07",
         "SH_CLERK",
         2600,
         " - ",
         "124",
         50
        ],
        [
         199,
         "Douglas",
         "Grant",
         "DGRANT",
         "650.507.9844",
         "13-JAN-08",
         "SH_CLERK",
         2600,
         " - ",
         "124",
         50
        ],
        [
         200,
         "Jennifer",
         "Whalen",
         "JWHALEN",
         "515.123.4444",
         "17-SEP-03",
         "AD_ASST",
         4400,
         " - ",
         "101",
         10
        ],
        [
         201,
         "Michael",
         "Hartstein",
         "MHARTSTE",
         "515.123.5555",
         "17-FEB-04",
         "MK_MAN",
         13000,
         " - ",
         "100",
         20
        ],
        [
         202,
         "Pat",
         "Fay",
         "PFAY",
         "603.123.6666",
         "17-AUG-05",
         "MK_REP",
         6000,
         " - ",
         "201",
         20
        ],
        [
         203,
         "Susan",
         "Mavris",
         "SMAVRIS",
         "515.123.7777",
         "07-JUN-02",
         "HR_REP",
         6500,
         " - ",
         "101",
         40
        ],
        [
         204,
         "Hermann",
         "Baer",
         "HBAER",
         "515.123.8888",
         "07-JUN-02",
         "PR_REP",
         10000,
         " - ",
         "101",
         70
        ],
        [
         205,
         "Shelley",
         "Higgins",
         "SHIGGINS",
         "515.123.8080",
         "07-JUN-02",
         "AC_MGR",
         12008,
         " - ",
         "101",
         110
        ],
        [
         206,
         "William",
         "Gietz",
         "WGIETZ",
         "515.123.8181",
         "07-JUN-02",
         "AC_ACCOUNT",
         8300,
         " - ",
         "205",
         110
        ],
        [
         100,
         "Steven",
         "King",
         "SKING",
         "515.123.4567",
         "17-JUN-03",
         "AD_PRES",
         24000,
         " - ",
         " - ",
         90
        ],
        [
         101,
         "Neena",
         "Kochhar",
         "NKOCHHAR",
         "515.123.4568",
         "21-SEP-05",
         "AD_VP",
         17000,
         " - ",
         "100",
         90
        ],
        [
         102,
         "Lex",
         "De Haan",
         "LDEHAAN",
         "515.123.4569",
         "13-JAN-01",
         "AD_VP",
         17000,
         " - ",
         "100",
         90
        ],
        [
         103,
         "Alexander",
         "Hunold",
         "AHUNOLD",
         "590.423.4567",
         "03-JAN-06",
         "IT_PROG",
         9000,
         " - ",
         "102",
         60
        ],
        [
         104,
         "Bruce",
         "Ernst",
         "BERNST",
         "590.423.4568",
         "21-MAY-07",
         "IT_PROG",
         6000,
         " - ",
         "103",
         60
        ],
        [
         105,
         "David",
         "Austin",
         "DAUSTIN",
         "590.423.4569",
         "25-JUN-05",
         "IT_PROG",
         4800,
         " - ",
         "103",
         60
        ],
        [
         106,
         "Valli",
         "Pataballa",
         "VPATABAL",
         "590.423.4560",
         "05-FEB-06",
         "IT_PROG",
         4800,
         " - ",
         "103",
         60
        ],
        [
         107,
         "Diana",
         "Lorentz",
         "DLORENTZ",
         "590.423.5567",
         "07-FEB-07",
         "IT_PROG",
         4200,
         " - ",
         "103",
         60
        ],
        [
         108,
         "Nancy",
         "Greenberg",
         "NGREENBE",
         "515.124.4569",
         "17-AUG-02",
         "FI_MGR",
         12008,
         " - ",
         "101",
         100
        ],
        [
         109,
         "Daniel",
         "Faviet",
         "DFAVIET",
         "515.124.4169",
         "16-AUG-02",
         "FI_ACCOUNT",
         9000,
         " - ",
         "108",
         100
        ],
        [
         110,
         "John",
         "Chen",
         "JCHEN",
         "515.124.4269",
         "28-SEP-05",
         "FI_ACCOUNT",
         8200,
         " - ",
         "108",
         100
        ],
        [
         111,
         "Ismael",
         "Sciarra",
         "ISCIARRA",
         "515.124.4369",
         "30-SEP-05",
         "FI_ACCOUNT",
         7700,
         " - ",
         "108",
         100
        ],
        [
         112,
         "Jose Manuel",
         "Urman",
         "JMURMAN",
         "515.124.4469",
         "07-MAR-06",
         "FI_ACCOUNT",
         7800,
         " - ",
         "108",
         100
        ],
        [
         113,
         "Luis",
         "Popp",
         "LPOPP",
         "515.124.4567",
         "07-DEC-07",
         "FI_ACCOUNT",
         6900,
         " - ",
         "108",
         100
        ],
        [
         114,
         "Den",
         "Raphaely",
         "DRAPHEAL",
         "515.127.4561",
         "07-DEC-02",
         "PU_MAN",
         11000,
         " - ",
         "100",
         30
        ],
        [
         115,
         "Alexander",
         "Khoo",
         "AKHOO",
         "515.127.4562",
         "18-MAY-03",
         "PU_CLERK",
         3100,
         " - ",
         "114",
         30
        ],
        [
         116,
         "Shelli",
         "Baida",
         "SBAIDA",
         "515.127.4563",
         "24-DEC-05",
         "PU_CLERK",
         2900,
         " - ",
         "114",
         30
        ],
        [
         117,
         "Sigal",
         "Tobias",
         "STOBIAS",
         "515.127.4564",
         "24-JUL-05",
         "PU_CLERK",
         2800,
         " - ",
         "114",
         30
        ],
        [
         118,
         "Guy",
         "Himuro",
         "GHIMURO",
         "515.127.4565",
         "15-NOV-06",
         "PU_CLERK",
         2600,
         " - ",
         "114",
         30
        ],
        [
         119,
         "Karen",
         "Colmenares",
         "KCOLMENA",
         "515.127.4566",
         "10-AUG-07",
         "PU_CLERK",
         2500,
         " - ",
         "114",
         30
        ],
        [
         120,
         "Matthew",
         "Weiss",
         "MWEISS",
         "650.123.1234",
         "18-JUL-04",
         "ST_MAN",
         8000,
         " - ",
         "100",
         50
        ],
        [
         121,
         "Adam",
         "Fripp",
         "AFRIPP",
         "650.123.2234",
         "10-APR-05",
         "ST_MAN",
         8200,
         " - ",
         "100",
         50
        ],
        [
         122,
         "Payam",
         "Kaufling",
         "PKAUFLIN",
         "650.123.3234",
         "01-MAY-03",
         "ST_MAN",
         7900,
         " - ",
         "100",
         50
        ],
        [
         123,
         "Shanta",
         "Vollman",
         "SVOLLMAN",
         "650.123.4234",
         "10-OCT-05",
         "ST_MAN",
         6500,
         " - ",
         "100",
         50
        ],
        [
         124,
         "Kevin",
         "Mourgos",
         "KMOURGOS",
         "650.123.5234",
         "16-NOV-07",
         "ST_MAN",
         5800,
         " - ",
         "100",
         50
        ],
        [
         125,
         "Julia",
         "Nayer",
         "JNAYER",
         "650.124.1214",
         "16-JUL-05",
         "ST_CLERK",
         3200,
         " - ",
         "120",
         50
        ],
        [
         126,
         "Irene",
         "Mikkilineni",
         "IMIKKILI",
         "650.124.1224",
         "28-SEP-06",
         "ST_CLERK",
         2700,
         " - ",
         "120",
         50
        ],
        [
         127,
         "James",
         "Landry",
         "JLANDRY",
         "650.124.1334",
         "14-JAN-07",
         "ST_CLERK",
         2400,
         " - ",
         "120",
         50
        ],
        [
         128,
         "Steven",
         "Markle",
         "SMARKLE",
         "650.124.1434",
         "08-MAR-08",
         "ST_CLERK",
         2200,
         " - ",
         "120",
         50
        ],
        [
         129,
         "Laura",
         "Bissot",
         "LBISSOT",
         "650.124.5234",
         "20-AUG-05",
         "ST_CLERK",
         3300,
         " - ",
         "121",
         50
        ],
        [
         130,
         "Mozhe",
         "Atkinson",
         "MATKINSO",
         "650.124.6234",
         "30-OCT-05",
         "ST_CLERK",
         2800,
         " - ",
         "121",
         50
        ],
        [
         131,
         "James",
         "Marlow",
         "JAMRLOW",
         "650.124.7234",
         "16-FEB-05",
         "ST_CLERK",
         2500,
         " - ",
         "121",
         50
        ],
        [
         132,
         "TJ",
         "Olson",
         "TJOLSON",
         "650.124.8234",
         "10-APR-07",
         "ST_CLERK",
         2100,
         " - ",
         "121",
         50
        ],
        [
         133,
         "Jason",
         "Mallin",
         "JMALLIN",
         "650.127.1934",
         "14-JUN-04",
         "ST_CLERK",
         3300,
         " - ",
         "122",
         50
        ],
        [
         134,
         "Michael",
         "Rogers",
         "MROGERS",
         "650.127.1834",
         "26-AUG-06",
         "ST_CLERK",
         2900,
         " - ",
         "122",
         50
        ],
        [
         135,
         "Ki",
         "Gee",
         "KGEE",
         "650.127.1734",
         "12-DEC-07",
         "ST_CLERK",
         2400,
         " - ",
         "122",
         50
        ],
        [
         136,
         "Hazel",
         "Philtanker",
         "HPHILTAN",
         "650.127.1634",
         "06-FEB-08",
         "ST_CLERK",
         2200,
         " - ",
         "122",
         50
        ],
        [
         137,
         "Renske",
         "Ladwig",
         "RLADWIG",
         "650.121.1234",
         "14-JUL-03",
         "ST_CLERK",
         3600,
         " - ",
         "123",
         50
        ],
        [
         138,
         "Stephen",
         "Stiles",
         "SSTILES",
         "650.121.2034",
         "26-OCT-05",
         "ST_CLERK",
         3200,
         " - ",
         "123",
         50
        ],
        [
         139,
         "John",
         "Seo",
         "JSEO",
         "650.121.2019",
         "12-FEB-06",
         "ST_CLERK",
         2700,
         " - ",
         "123",
         50
        ],
        [
         140,
         "Joshua",
         "Patel",
         "JPATEL",
         "650.121.1834",
         "06-APR-06",
         "ST_CLERK",
         2500,
         " - ",
         "123",
         50
        ]
       ],
       "datasetInfos": [],
       "dbfsResultPath": null,
       "isJsonSchema": true,
       "metadata": {},
       "overflow": false,
       "plotOptions": {
        "customPlotOptions": {},
        "displayType": "table",
        "pivotAggregation": null,
        "pivotColumns": null,
        "xColumns": null,
        "yColumns": null
       },
       "removedWidgets": [],
       "schema": [
        {
         "metadata": "{}",
         "name": "EMPLOYEE_ID",
         "type": "\"integer\""
        },
        {
         "metadata": "{}",
         "name": "FIRST_NAME",
         "type": "\"string\""
        },
        {
         "metadata": "{}",
         "name": "LAST_NAME",
         "type": "\"string\""
        },
        {
         "metadata": "{}",
         "name": "EMAIL",
         "type": "\"string\""
        },
        {
         "metadata": "{}",
         "name": "PHONE_NUMBER",
         "type": "\"string\""
        },
        {
         "metadata": "{}",
         "name": "HIRE_DATE",
         "type": "\"string\""
        },
        {
         "metadata": "{}",
         "name": "JOB_ID",
         "type": "\"string\""
        },
        {
         "metadata": "{}",
         "name": "SALARY",
         "type": "\"integer\""
        },
        {
         "metadata": "{}",
         "name": "COMMISSION_PCT",
         "type": "\"string\""
        },
        {
         "metadata": "{}",
         "name": "MANAGER_ID",
         "type": "\"string\""
        },
        {
         "metadata": "{}",
         "name": "DEPARTMENT_ID",
         "type": "\"integer\""
        }
       ],
       "type": "table"
      }
     },
     "output_type": "display_data"
    }
   ],
   "source": [
    "emp_df.join(dept_df, emp_df.DEPARTMENT_ID == dept_df.DEPARTMENT_ID, how = 'left_semi' ).display()"
   ]
  },
  {
   "cell_type": "code",
   "execution_count": 0,
   "metadata": {
    "application/vnd.databricks.v1+cell": {
     "cellMetadata": {},
     "inputWidgets": {},
     "nuid": "a7a0f685-7415-49db-9c8b-242f839e82c0",
     "showTitle": false,
     "tableResultSettingsMap": {},
     "title": ""
    }
   },
   "outputs": [],
   "source": [
    "# union \n",
    "# union all ----> in pyspark both behave same, it keeps duplicates also"
   ]
  },
  {
   "cell_type": "code",
   "execution_count": 0,
   "metadata": {
    "application/vnd.databricks.v1+cell": {
     "cellMetadata": {
      "byteLimit": 2048000,
      "rowLimit": 10000
     },
     "inputWidgets": {},
     "nuid": "23ffcf94-e9a2-4b47-b839-576a632dce6d",
     "showTitle": false,
     "tableResultSettingsMap": {},
     "title": ""
    }
   },
   "outputs": [
    {
     "output_type": "display_data",
     "data": {
      "text/html": [
       "<style scoped>\n",
       "  .table-result-container {\n",
       "    max-height: 300px;\n",
       "    overflow: auto;\n",
       "  }\n",
       "  table, th, td {\n",
       "    border: 1px solid black;\n",
       "    border-collapse: collapse;\n",
       "  }\n",
       "  th, td {\n",
       "    padding: 5px;\n",
       "  }\n",
       "  th {\n",
       "    text-align: left;\n",
       "  }\n",
       "</style><div class='table-result-container'><table class='table-result'><thead style='background-color: white'><tr><th>EMPLOYEE_ID</th><th>FIRST_NAME</th><th>LAST_NAME</th><th>EMAIL</th><th>PHONE_NUMBER</th><th>HIRE_DATE</th><th>JOB_ID</th><th>SALARY</th><th>COMMISSION_PCT</th><th>MANAGER_ID</th><th>DEPARTMENT_ID</th></tr></thead><tbody><tr><td>198</td><td>Donald</td><td>OConnell</td><td>DOCONNEL</td><td>650.507.9833</td><td>21-JUN-07</td><td>SH_CLERK</td><td>2600</td><td> - </td><td>124</td><td>50</td></tr><tr><td>199</td><td>Douglas</td><td>Grant</td><td>DGRANT</td><td>650.507.9844</td><td>13-JAN-08</td><td>SH_CLERK</td><td>2600</td><td> - </td><td>124</td><td>50</td></tr><tr><td>200</td><td>Jennifer</td><td>Whalen</td><td>JWHALEN</td><td>515.123.4444</td><td>17-SEP-03</td><td>AD_ASST</td><td>4400</td><td> - </td><td>101</td><td>10</td></tr><tr><td>201</td><td>Michael</td><td>Hartstein</td><td>MHARTSTE</td><td>515.123.5555</td><td>17-FEB-04</td><td>MK_MAN</td><td>13000</td><td> - </td><td>100</td><td>20</td></tr><tr><td>202</td><td>Pat</td><td>Fay</td><td>PFAY</td><td>603.123.6666</td><td>17-AUG-05</td><td>MK_REP</td><td>6000</td><td> - </td><td>201</td><td>20</td></tr><tr><td>203</td><td>Susan</td><td>Mavris</td><td>SMAVRIS</td><td>515.123.7777</td><td>07-JUN-02</td><td>HR_REP</td><td>6500</td><td> - </td><td>101</td><td>40</td></tr><tr><td>204</td><td>Hermann</td><td>Baer</td><td>HBAER</td><td>515.123.8888</td><td>07-JUN-02</td><td>PR_REP</td><td>10000</td><td> - </td><td>101</td><td>70</td></tr><tr><td>205</td><td>Shelley</td><td>Higgins</td><td>SHIGGINS</td><td>515.123.8080</td><td>07-JUN-02</td><td>AC_MGR</td><td>12008</td><td> - </td><td>101</td><td>110</td></tr><tr><td>206</td><td>William</td><td>Gietz</td><td>WGIETZ</td><td>515.123.8181</td><td>07-JUN-02</td><td>AC_ACCOUNT</td><td>8300</td><td> - </td><td>205</td><td>110</td></tr><tr><td>100</td><td>Steven</td><td>King</td><td>SKING</td><td>515.123.4567</td><td>17-JUN-03</td><td>AD_PRES</td><td>24000</td><td> - </td><td> - </td><td>90</td></tr><tr><td>101</td><td>Neena</td><td>Kochhar</td><td>NKOCHHAR</td><td>515.123.4568</td><td>21-SEP-05</td><td>AD_VP</td><td>17000</td><td> - </td><td>100</td><td>90</td></tr><tr><td>102</td><td>Lex</td><td>De Haan</td><td>LDEHAAN</td><td>515.123.4569</td><td>13-JAN-01</td><td>AD_VP</td><td>17000</td><td> - </td><td>100</td><td>90</td></tr><tr><td>103</td><td>Alexander</td><td>Hunold</td><td>AHUNOLD</td><td>590.423.4567</td><td>03-JAN-06</td><td>IT_PROG</td><td>9000</td><td> - </td><td>102</td><td>60</td></tr><tr><td>104</td><td>Bruce</td><td>Ernst</td><td>BERNST</td><td>590.423.4568</td><td>21-MAY-07</td><td>IT_PROG</td><td>6000</td><td> - </td><td>103</td><td>60</td></tr><tr><td>105</td><td>David</td><td>Austin</td><td>DAUSTIN</td><td>590.423.4569</td><td>25-JUN-05</td><td>IT_PROG</td><td>4800</td><td> - </td><td>103</td><td>60</td></tr><tr><td>106</td><td>Valli</td><td>Pataballa</td><td>VPATABAL</td><td>590.423.4560</td><td>05-FEB-06</td><td>IT_PROG</td><td>4800</td><td> - </td><td>103</td><td>60</td></tr><tr><td>107</td><td>Diana</td><td>Lorentz</td><td>DLORENTZ</td><td>590.423.5567</td><td>07-FEB-07</td><td>IT_PROG</td><td>4200</td><td> - </td><td>103</td><td>60</td></tr><tr><td>108</td><td>Nancy</td><td>Greenberg</td><td>NGREENBE</td><td>515.124.4569</td><td>17-AUG-02</td><td>FI_MGR</td><td>12008</td><td> - </td><td>101</td><td>100</td></tr><tr><td>109</td><td>Daniel</td><td>Faviet</td><td>DFAVIET</td><td>515.124.4169</td><td>16-AUG-02</td><td>FI_ACCOUNT</td><td>9000</td><td> - </td><td>108</td><td>100</td></tr><tr><td>110</td><td>John</td><td>Chen</td><td>JCHEN</td><td>515.124.4269</td><td>28-SEP-05</td><td>FI_ACCOUNT</td><td>8200</td><td> - </td><td>108</td><td>100</td></tr><tr><td>111</td><td>Ismael</td><td>Sciarra</td><td>ISCIARRA</td><td>515.124.4369</td><td>30-SEP-05</td><td>FI_ACCOUNT</td><td>7700</td><td> - </td><td>108</td><td>100</td></tr><tr><td>112</td><td>Jose Manuel</td><td>Urman</td><td>JMURMAN</td><td>515.124.4469</td><td>07-MAR-06</td><td>FI_ACCOUNT</td><td>7800</td><td> - </td><td>108</td><td>100</td></tr><tr><td>113</td><td>Luis</td><td>Popp</td><td>LPOPP</td><td>515.124.4567</td><td>07-DEC-07</td><td>FI_ACCOUNT</td><td>6900</td><td> - </td><td>108</td><td>100</td></tr><tr><td>114</td><td>Den</td><td>Raphaely</td><td>DRAPHEAL</td><td>515.127.4561</td><td>07-DEC-02</td><td>PU_MAN</td><td>11000</td><td> - </td><td>100</td><td>30</td></tr><tr><td>115</td><td>Alexander</td><td>Khoo</td><td>AKHOO</td><td>515.127.4562</td><td>18-MAY-03</td><td>PU_CLERK</td><td>3100</td><td> - </td><td>114</td><td>30</td></tr><tr><td>116</td><td>Shelli</td><td>Baida</td><td>SBAIDA</td><td>515.127.4563</td><td>24-DEC-05</td><td>PU_CLERK</td><td>2900</td><td> - </td><td>114</td><td>30</td></tr><tr><td>117</td><td>Sigal</td><td>Tobias</td><td>STOBIAS</td><td>515.127.4564</td><td>24-JUL-05</td><td>PU_CLERK</td><td>2800</td><td> - </td><td>114</td><td>30</td></tr><tr><td>118</td><td>Guy</td><td>Himuro</td><td>GHIMURO</td><td>515.127.4565</td><td>15-NOV-06</td><td>PU_CLERK</td><td>2600</td><td> - </td><td>114</td><td>30</td></tr><tr><td>119</td><td>Karen</td><td>Colmenares</td><td>KCOLMENA</td><td>515.127.4566</td><td>10-AUG-07</td><td>PU_CLERK</td><td>2500</td><td> - </td><td>114</td><td>30</td></tr><tr><td>120</td><td>Matthew</td><td>Weiss</td><td>MWEISS</td><td>650.123.1234</td><td>18-JUL-04</td><td>ST_MAN</td><td>8000</td><td> - </td><td>100</td><td>50</td></tr><tr><td>121</td><td>Adam</td><td>Fripp</td><td>AFRIPP</td><td>650.123.2234</td><td>10-APR-05</td><td>ST_MAN</td><td>8200</td><td> - </td><td>100</td><td>50</td></tr><tr><td>122</td><td>Payam</td><td>Kaufling</td><td>PKAUFLIN</td><td>650.123.3234</td><td>01-MAY-03</td><td>ST_MAN</td><td>7900</td><td> - </td><td>100</td><td>50</td></tr><tr><td>123</td><td>Shanta</td><td>Vollman</td><td>SVOLLMAN</td><td>650.123.4234</td><td>10-OCT-05</td><td>ST_MAN</td><td>6500</td><td> - </td><td>100</td><td>50</td></tr><tr><td>124</td><td>Kevin</td><td>Mourgos</td><td>KMOURGOS</td><td>650.123.5234</td><td>16-NOV-07</td><td>ST_MAN</td><td>5800</td><td> - </td><td>100</td><td>50</td></tr><tr><td>125</td><td>Julia</td><td>Nayer</td><td>JNAYER</td><td>650.124.1214</td><td>16-JUL-05</td><td>ST_CLERK</td><td>3200</td><td> - </td><td>120</td><td>50</td></tr><tr><td>126</td><td>Irene</td><td>Mikkilineni</td><td>IMIKKILI</td><td>650.124.1224</td><td>28-SEP-06</td><td>ST_CLERK</td><td>2700</td><td> - </td><td>120</td><td>50</td></tr><tr><td>127</td><td>James</td><td>Landry</td><td>JLANDRY</td><td>650.124.1334</td><td>14-JAN-07</td><td>ST_CLERK</td><td>2400</td><td> - </td><td>120</td><td>50</td></tr><tr><td>128</td><td>Steven</td><td>Markle</td><td>SMARKLE</td><td>650.124.1434</td><td>08-MAR-08</td><td>ST_CLERK</td><td>2200</td><td> - </td><td>120</td><td>50</td></tr><tr><td>129</td><td>Laura</td><td>Bissot</td><td>LBISSOT</td><td>650.124.5234</td><td>20-AUG-05</td><td>ST_CLERK</td><td>3300</td><td> - </td><td>121</td><td>50</td></tr><tr><td>130</td><td>Mozhe</td><td>Atkinson</td><td>MATKINSO</td><td>650.124.6234</td><td>30-OCT-05</td><td>ST_CLERK</td><td>2800</td><td> - </td><td>121</td><td>50</td></tr><tr><td>131</td><td>James</td><td>Marlow</td><td>JAMRLOW</td><td>650.124.7234</td><td>16-FEB-05</td><td>ST_CLERK</td><td>2500</td><td> - </td><td>121</td><td>50</td></tr><tr><td>132</td><td>TJ</td><td>Olson</td><td>TJOLSON</td><td>650.124.8234</td><td>10-APR-07</td><td>ST_CLERK</td><td>2100</td><td> - </td><td>121</td><td>50</td></tr><tr><td>133</td><td>Jason</td><td>Mallin</td><td>JMALLIN</td><td>650.127.1934</td><td>14-JUN-04</td><td>ST_CLERK</td><td>3300</td><td> - </td><td>122</td><td>50</td></tr><tr><td>134</td><td>Michael</td><td>Rogers</td><td>MROGERS</td><td>650.127.1834</td><td>26-AUG-06</td><td>ST_CLERK</td><td>2900</td><td> - </td><td>122</td><td>50</td></tr><tr><td>135</td><td>Ki</td><td>Gee</td><td>KGEE</td><td>650.127.1734</td><td>12-DEC-07</td><td>ST_CLERK</td><td>2400</td><td> - </td><td>122</td><td>50</td></tr><tr><td>136</td><td>Hazel</td><td>Philtanker</td><td>HPHILTAN</td><td>650.127.1634</td><td>06-FEB-08</td><td>ST_CLERK</td><td>2200</td><td> - </td><td>122</td><td>50</td></tr><tr><td>137</td><td>Renske</td><td>Ladwig</td><td>RLADWIG</td><td>650.121.1234</td><td>14-JUL-03</td><td>ST_CLERK</td><td>3600</td><td> - </td><td>123</td><td>50</td></tr><tr><td>138</td><td>Stephen</td><td>Stiles</td><td>SSTILES</td><td>650.121.2034</td><td>26-OCT-05</td><td>ST_CLERK</td><td>3200</td><td> - </td><td>123</td><td>50</td></tr><tr><td>139</td><td>John</td><td>Seo</td><td>JSEO</td><td>650.121.2019</td><td>12-FEB-06</td><td>ST_CLERK</td><td>2700</td><td> - </td><td>123</td><td>50</td></tr><tr><td>140</td><td>Joshua</td><td>Patel</td><td>JPATEL</td><td>650.121.1834</td><td>06-APR-06</td><td>ST_CLERK</td><td>2500</td><td> - </td><td>123</td><td>50</td></tr><tr><td>198</td><td>Donald</td><td>OConnell</td><td>DOCONNEL</td><td>650.507.9833</td><td>21-JUN-07</td><td>SH_CLERK</td><td>2600</td><td> - </td><td>124</td><td>50</td></tr><tr><td>199</td><td>Douglas</td><td>Grant</td><td>DGRANT</td><td>650.507.9844</td><td>13-JAN-08</td><td>SH_CLERK</td><td>2600</td><td> - </td><td>124</td><td>50</td></tr><tr><td>200</td><td>Jennifer</td><td>Whalen</td><td>JWHALEN</td><td>515.123.4444</td><td>17-SEP-03</td><td>AD_ASST</td><td>4400</td><td> - </td><td>101</td><td>10</td></tr><tr><td>201</td><td>Michael</td><td>Hartstein</td><td>MHARTSTE</td><td>515.123.5555</td><td>17-FEB-04</td><td>MK_MAN</td><td>13000</td><td> - </td><td>100</td><td>20</td></tr><tr><td>202</td><td>Pat</td><td>Fay</td><td>PFAY</td><td>603.123.6666</td><td>17-AUG-05</td><td>MK_REP</td><td>6000</td><td> - </td><td>201</td><td>20</td></tr><tr><td>203</td><td>Susan</td><td>Mavris</td><td>SMAVRIS</td><td>515.123.7777</td><td>07-JUN-02</td><td>HR_REP</td><td>6500</td><td> - </td><td>101</td><td>40</td></tr><tr><td>204</td><td>Hermann</td><td>Baer</td><td>HBAER</td><td>515.123.8888</td><td>07-JUN-02</td><td>PR_REP</td><td>10000</td><td> - </td><td>101</td><td>70</td></tr><tr><td>205</td><td>Shelley</td><td>Higgins</td><td>SHIGGINS</td><td>515.123.8080</td><td>07-JUN-02</td><td>AC_MGR</td><td>12008</td><td> - </td><td>101</td><td>110</td></tr><tr><td>206</td><td>William</td><td>Gietz</td><td>WGIETZ</td><td>515.123.8181</td><td>07-JUN-02</td><td>AC_ACCOUNT</td><td>8300</td><td> - </td><td>205</td><td>110</td></tr><tr><td>100</td><td>Steven</td><td>King</td><td>SKING</td><td>515.123.4567</td><td>17-JUN-03</td><td>AD_PRES</td><td>24000</td><td> - </td><td> - </td><td>90</td></tr><tr><td>101</td><td>Neena</td><td>Kochhar</td><td>NKOCHHAR</td><td>515.123.4568</td><td>21-SEP-05</td><td>AD_VP</td><td>17000</td><td> - </td><td>100</td><td>90</td></tr><tr><td>102</td><td>Lex</td><td>De Haan</td><td>LDEHAAN</td><td>515.123.4569</td><td>13-JAN-01</td><td>AD_VP</td><td>17000</td><td> - </td><td>100</td><td>90</td></tr><tr><td>103</td><td>Alexander</td><td>Hunold</td><td>AHUNOLD</td><td>590.423.4567</td><td>03-JAN-06</td><td>IT_PROG</td><td>9000</td><td> - </td><td>102</td><td>60</td></tr><tr><td>104</td><td>Bruce</td><td>Ernst</td><td>BERNST</td><td>590.423.4568</td><td>21-MAY-07</td><td>IT_PROG</td><td>6000</td><td> - </td><td>103</td><td>60</td></tr><tr><td>105</td><td>David</td><td>Austin</td><td>DAUSTIN</td><td>590.423.4569</td><td>25-JUN-05</td><td>IT_PROG</td><td>4800</td><td> - </td><td>103</td><td>60</td></tr><tr><td>106</td><td>Valli</td><td>Pataballa</td><td>VPATABAL</td><td>590.423.4560</td><td>05-FEB-06</td><td>IT_PROG</td><td>4800</td><td> - </td><td>103</td><td>60</td></tr><tr><td>107</td><td>Diana</td><td>Lorentz</td><td>DLORENTZ</td><td>590.423.5567</td><td>07-FEB-07</td><td>IT_PROG</td><td>4200</td><td> - </td><td>103</td><td>60</td></tr><tr><td>108</td><td>Nancy</td><td>Greenberg</td><td>NGREENBE</td><td>515.124.4569</td><td>17-AUG-02</td><td>FI_MGR</td><td>12008</td><td> - </td><td>101</td><td>100</td></tr><tr><td>109</td><td>Daniel</td><td>Faviet</td><td>DFAVIET</td><td>515.124.4169</td><td>16-AUG-02</td><td>FI_ACCOUNT</td><td>9000</td><td> - </td><td>108</td><td>100</td></tr><tr><td>110</td><td>John</td><td>Chen</td><td>JCHEN</td><td>515.124.4269</td><td>28-SEP-05</td><td>FI_ACCOUNT</td><td>8200</td><td> - </td><td>108</td><td>100</td></tr><tr><td>111</td><td>Ismael</td><td>Sciarra</td><td>ISCIARRA</td><td>515.124.4369</td><td>30-SEP-05</td><td>FI_ACCOUNT</td><td>7700</td><td> - </td><td>108</td><td>100</td></tr><tr><td>112</td><td>Jose Manuel</td><td>Urman</td><td>JMURMAN</td><td>515.124.4469</td><td>07-MAR-06</td><td>FI_ACCOUNT</td><td>7800</td><td> - </td><td>108</td><td>100</td></tr><tr><td>113</td><td>Luis</td><td>Popp</td><td>LPOPP</td><td>515.124.4567</td><td>07-DEC-07</td><td>FI_ACCOUNT</td><td>6900</td><td> - </td><td>108</td><td>100</td></tr><tr><td>114</td><td>Den</td><td>Raphaely</td><td>DRAPHEAL</td><td>515.127.4561</td><td>07-DEC-02</td><td>PU_MAN</td><td>11000</td><td> - </td><td>100</td><td>30</td></tr><tr><td>115</td><td>Alexander</td><td>Khoo</td><td>AKHOO</td><td>515.127.4562</td><td>18-MAY-03</td><td>PU_CLERK</td><td>3100</td><td> - </td><td>114</td><td>30</td></tr><tr><td>116</td><td>Shelli</td><td>Baida</td><td>SBAIDA</td><td>515.127.4563</td><td>24-DEC-05</td><td>PU_CLERK</td><td>2900</td><td> - </td><td>114</td><td>30</td></tr><tr><td>117</td><td>Sigal</td><td>Tobias</td><td>STOBIAS</td><td>515.127.4564</td><td>24-JUL-05</td><td>PU_CLERK</td><td>2800</td><td> - </td><td>114</td><td>30</td></tr><tr><td>118</td><td>Guy</td><td>Himuro</td><td>GHIMURO</td><td>515.127.4565</td><td>15-NOV-06</td><td>PU_CLERK</td><td>2600</td><td> - </td><td>114</td><td>30</td></tr><tr><td>119</td><td>Karen</td><td>Colmenares</td><td>KCOLMENA</td><td>515.127.4566</td><td>10-AUG-07</td><td>PU_CLERK</td><td>2500</td><td> - </td><td>114</td><td>30</td></tr><tr><td>120</td><td>Matthew</td><td>Weiss</td><td>MWEISS</td><td>650.123.1234</td><td>18-JUL-04</td><td>ST_MAN</td><td>8000</td><td> - </td><td>100</td><td>50</td></tr><tr><td>121</td><td>Adam</td><td>Fripp</td><td>AFRIPP</td><td>650.123.2234</td><td>10-APR-05</td><td>ST_MAN</td><td>8200</td><td> - </td><td>100</td><td>50</td></tr><tr><td>122</td><td>Payam</td><td>Kaufling</td><td>PKAUFLIN</td><td>650.123.3234</td><td>01-MAY-03</td><td>ST_MAN</td><td>7900</td><td> - </td><td>100</td><td>50</td></tr><tr><td>123</td><td>Shanta</td><td>Vollman</td><td>SVOLLMAN</td><td>650.123.4234</td><td>10-OCT-05</td><td>ST_MAN</td><td>6500</td><td> - </td><td>100</td><td>50</td></tr><tr><td>124</td><td>Kevin</td><td>Mourgos</td><td>KMOURGOS</td><td>650.123.5234</td><td>16-NOV-07</td><td>ST_MAN</td><td>5800</td><td> - </td><td>100</td><td>50</td></tr><tr><td>125</td><td>Julia</td><td>Nayer</td><td>JNAYER</td><td>650.124.1214</td><td>16-JUL-05</td><td>ST_CLERK</td><td>3200</td><td> - </td><td>120</td><td>50</td></tr><tr><td>126</td><td>Irene</td><td>Mikkilineni</td><td>IMIKKILI</td><td>650.124.1224</td><td>28-SEP-06</td><td>ST_CLERK</td><td>2700</td><td> - </td><td>120</td><td>50</td></tr><tr><td>127</td><td>James</td><td>Landry</td><td>JLANDRY</td><td>650.124.1334</td><td>14-JAN-07</td><td>ST_CLERK</td><td>2400</td><td> - </td><td>120</td><td>50</td></tr><tr><td>128</td><td>Steven</td><td>Markle</td><td>SMARKLE</td><td>650.124.1434</td><td>08-MAR-08</td><td>ST_CLERK</td><td>2200</td><td> - </td><td>120</td><td>50</td></tr><tr><td>129</td><td>Laura</td><td>Bissot</td><td>LBISSOT</td><td>650.124.5234</td><td>20-AUG-05</td><td>ST_CLERK</td><td>3300</td><td> - </td><td>121</td><td>50</td></tr><tr><td>130</td><td>Mozhe</td><td>Atkinson</td><td>MATKINSO</td><td>650.124.6234</td><td>30-OCT-05</td><td>ST_CLERK</td><td>2800</td><td> - </td><td>121</td><td>50</td></tr><tr><td>131</td><td>James</td><td>Marlow</td><td>JAMRLOW</td><td>650.124.7234</td><td>16-FEB-05</td><td>ST_CLERK</td><td>2500</td><td> - </td><td>121</td><td>50</td></tr><tr><td>132</td><td>TJ</td><td>Olson</td><td>TJOLSON</td><td>650.124.8234</td><td>10-APR-07</td><td>ST_CLERK</td><td>2100</td><td> - </td><td>121</td><td>50</td></tr><tr><td>133</td><td>Jason</td><td>Mallin</td><td>JMALLIN</td><td>650.127.1934</td><td>14-JUN-04</td><td>ST_CLERK</td><td>3300</td><td> - </td><td>122</td><td>50</td></tr><tr><td>134</td><td>Michael</td><td>Rogers</td><td>MROGERS</td><td>650.127.1834</td><td>26-AUG-06</td><td>ST_CLERK</td><td>2900</td><td> - </td><td>122</td><td>50</td></tr><tr><td>135</td><td>Ki</td><td>Gee</td><td>KGEE</td><td>650.127.1734</td><td>12-DEC-07</td><td>ST_CLERK</td><td>2400</td><td> - </td><td>122</td><td>50</td></tr><tr><td>136</td><td>Hazel</td><td>Philtanker</td><td>HPHILTAN</td><td>650.127.1634</td><td>06-FEB-08</td><td>ST_CLERK</td><td>2200</td><td> - </td><td>122</td><td>50</td></tr><tr><td>137</td><td>Renske</td><td>Ladwig</td><td>RLADWIG</td><td>650.121.1234</td><td>14-JUL-03</td><td>ST_CLERK</td><td>3600</td><td> - </td><td>123</td><td>50</td></tr><tr><td>138</td><td>Stephen</td><td>Stiles</td><td>SSTILES</td><td>650.121.2034</td><td>26-OCT-05</td><td>ST_CLERK</td><td>3200</td><td> - </td><td>123</td><td>50</td></tr><tr><td>139</td><td>John</td><td>Seo</td><td>JSEO</td><td>650.121.2019</td><td>12-FEB-06</td><td>ST_CLERK</td><td>2700</td><td> - </td><td>123</td><td>50</td></tr><tr><td>140</td><td>Joshua</td><td>Patel</td><td>JPATEL</td><td>650.121.1834</td><td>06-APR-06</td><td>ST_CLERK</td><td>2500</td><td> - </td><td>123</td><td>50</td></tr></tbody></table></div>"
      ]
     },
     "metadata": {
      "application/vnd.databricks.v1+output": {
       "addedWidgets": {},
       "aggData": [],
       "aggError": "",
       "aggOverflow": false,
       "aggSchema": [],
       "aggSeriesLimitReached": false,
       "aggType": "",
       "arguments": {},
       "columnCustomDisplayInfos": {},
       "data": [
        [
         198,
         "Donald",
         "OConnell",
         "DOCONNEL",
         "650.507.9833",
         "21-JUN-07",
         "SH_CLERK",
         2600,
         " - ",
         "124",
         50
        ],
        [
         199,
         "Douglas",
         "Grant",
         "DGRANT",
         "650.507.9844",
         "13-JAN-08",
         "SH_CLERK",
         2600,
         " - ",
         "124",
         50
        ],
        [
         200,
         "Jennifer",
         "Whalen",
         "JWHALEN",
         "515.123.4444",
         "17-SEP-03",
         "AD_ASST",
         4400,
         " - ",
         "101",
         10
        ],
        [
         201,
         "Michael",
         "Hartstein",
         "MHARTSTE",
         "515.123.5555",
         "17-FEB-04",
         "MK_MAN",
         13000,
         " - ",
         "100",
         20
        ],
        [
         202,
         "Pat",
         "Fay",
         "PFAY",
         "603.123.6666",
         "17-AUG-05",
         "MK_REP",
         6000,
         " - ",
         "201",
         20
        ],
        [
         203,
         "Susan",
         "Mavris",
         "SMAVRIS",
         "515.123.7777",
         "07-JUN-02",
         "HR_REP",
         6500,
         " - ",
         "101",
         40
        ],
        [
         204,
         "Hermann",
         "Baer",
         "HBAER",
         "515.123.8888",
         "07-JUN-02",
         "PR_REP",
         10000,
         " - ",
         "101",
         70
        ],
        [
         205,
         "Shelley",
         "Higgins",
         "SHIGGINS",
         "515.123.8080",
         "07-JUN-02",
         "AC_MGR",
         12008,
         " - ",
         "101",
         110
        ],
        [
         206,
         "William",
         "Gietz",
         "WGIETZ",
         "515.123.8181",
         "07-JUN-02",
         "AC_ACCOUNT",
         8300,
         " - ",
         "205",
         110
        ],
        [
         100,
         "Steven",
         "King",
         "SKING",
         "515.123.4567",
         "17-JUN-03",
         "AD_PRES",
         24000,
         " - ",
         " - ",
         90
        ],
        [
         101,
         "Neena",
         "Kochhar",
         "NKOCHHAR",
         "515.123.4568",
         "21-SEP-05",
         "AD_VP",
         17000,
         " - ",
         "100",
         90
        ],
        [
         102,
         "Lex",
         "De Haan",
         "LDEHAAN",
         "515.123.4569",
         "13-JAN-01",
         "AD_VP",
         17000,
         " - ",
         "100",
         90
        ],
        [
         103,
         "Alexander",
         "Hunold",
         "AHUNOLD",
         "590.423.4567",
         "03-JAN-06",
         "IT_PROG",
         9000,
         " - ",
         "102",
         60
        ],
        [
         104,
         "Bruce",
         "Ernst",
         "BERNST",
         "590.423.4568",
         "21-MAY-07",
         "IT_PROG",
         6000,
         " - ",
         "103",
         60
        ],
        [
         105,
         "David",
         "Austin",
         "DAUSTIN",
         "590.423.4569",
         "25-JUN-05",
         "IT_PROG",
         4800,
         " - ",
         "103",
         60
        ],
        [
         106,
         "Valli",
         "Pataballa",
         "VPATABAL",
         "590.423.4560",
         "05-FEB-06",
         "IT_PROG",
         4800,
         " - ",
         "103",
         60
        ],
        [
         107,
         "Diana",
         "Lorentz",
         "DLORENTZ",
         "590.423.5567",
         "07-FEB-07",
         "IT_PROG",
         4200,
         " - ",
         "103",
         60
        ],
        [
         108,
         "Nancy",
         "Greenberg",
         "NGREENBE",
         "515.124.4569",
         "17-AUG-02",
         "FI_MGR",
         12008,
         " - ",
         "101",
         100
        ],
        [
         109,
         "Daniel",
         "Faviet",
         "DFAVIET",
         "515.124.4169",
         "16-AUG-02",
         "FI_ACCOUNT",
         9000,
         " - ",
         "108",
         100
        ],
        [
         110,
         "John",
         "Chen",
         "JCHEN",
         "515.124.4269",
         "28-SEP-05",
         "FI_ACCOUNT",
         8200,
         " - ",
         "108",
         100
        ],
        [
         111,
         "Ismael",
         "Sciarra",
         "ISCIARRA",
         "515.124.4369",
         "30-SEP-05",
         "FI_ACCOUNT",
         7700,
         " - ",
         "108",
         100
        ],
        [
         112,
         "Jose Manuel",
         "Urman",
         "JMURMAN",
         "515.124.4469",
         "07-MAR-06",
         "FI_ACCOUNT",
         7800,
         " - ",
         "108",
         100
        ],
        [
         113,
         "Luis",
         "Popp",
         "LPOPP",
         "515.124.4567",
         "07-DEC-07",
         "FI_ACCOUNT",
         6900,
         " - ",
         "108",
         100
        ],
        [
         114,
         "Den",
         "Raphaely",
         "DRAPHEAL",
         "515.127.4561",
         "07-DEC-02",
         "PU_MAN",
         11000,
         " - ",
         "100",
         30
        ],
        [
         115,
         "Alexander",
         "Khoo",
         "AKHOO",
         "515.127.4562",
         "18-MAY-03",
         "PU_CLERK",
         3100,
         " - ",
         "114",
         30
        ],
        [
         116,
         "Shelli",
         "Baida",
         "SBAIDA",
         "515.127.4563",
         "24-DEC-05",
         "PU_CLERK",
         2900,
         " - ",
         "114",
         30
        ],
        [
         117,
         "Sigal",
         "Tobias",
         "STOBIAS",
         "515.127.4564",
         "24-JUL-05",
         "PU_CLERK",
         2800,
         " - ",
         "114",
         30
        ],
        [
         118,
         "Guy",
         "Himuro",
         "GHIMURO",
         "515.127.4565",
         "15-NOV-06",
         "PU_CLERK",
         2600,
         " - ",
         "114",
         30
        ],
        [
         119,
         "Karen",
         "Colmenares",
         "KCOLMENA",
         "515.127.4566",
         "10-AUG-07",
         "PU_CLERK",
         2500,
         " - ",
         "114",
         30
        ],
        [
         120,
         "Matthew",
         "Weiss",
         "MWEISS",
         "650.123.1234",
         "18-JUL-04",
         "ST_MAN",
         8000,
         " - ",
         "100",
         50
        ],
        [
         121,
         "Adam",
         "Fripp",
         "AFRIPP",
         "650.123.2234",
         "10-APR-05",
         "ST_MAN",
         8200,
         " - ",
         "100",
         50
        ],
        [
         122,
         "Payam",
         "Kaufling",
         "PKAUFLIN",
         "650.123.3234",
         "01-MAY-03",
         "ST_MAN",
         7900,
         " - ",
         "100",
         50
        ],
        [
         123,
         "Shanta",
         "Vollman",
         "SVOLLMAN",
         "650.123.4234",
         "10-OCT-05",
         "ST_MAN",
         6500,
         " - ",
         "100",
         50
        ],
        [
         124,
         "Kevin",
         "Mourgos",
         "KMOURGOS",
         "650.123.5234",
         "16-NOV-07",
         "ST_MAN",
         5800,
         " - ",
         "100",
         50
        ],
        [
         125,
         "Julia",
         "Nayer",
         "JNAYER",
         "650.124.1214",
         "16-JUL-05",
         "ST_CLERK",
         3200,
         " - ",
         "120",
         50
        ],
        [
         126,
         "Irene",
         "Mikkilineni",
         "IMIKKILI",
         "650.124.1224",
         "28-SEP-06",
         "ST_CLERK",
         2700,
         " - ",
         "120",
         50
        ],
        [
         127,
         "James",
         "Landry",
         "JLANDRY",
         "650.124.1334",
         "14-JAN-07",
         "ST_CLERK",
         2400,
         " - ",
         "120",
         50
        ],
        [
         128,
         "Steven",
         "Markle",
         "SMARKLE",
         "650.124.1434",
         "08-MAR-08",
         "ST_CLERK",
         2200,
         " - ",
         "120",
         50
        ],
        [
         129,
         "Laura",
         "Bissot",
         "LBISSOT",
         "650.124.5234",
         "20-AUG-05",
         "ST_CLERK",
         3300,
         " - ",
         "121",
         50
        ],
        [
         130,
         "Mozhe",
         "Atkinson",
         "MATKINSO",
         "650.124.6234",
         "30-OCT-05",
         "ST_CLERK",
         2800,
         " - ",
         "121",
         50
        ],
        [
         131,
         "James",
         "Marlow",
         "JAMRLOW",
         "650.124.7234",
         "16-FEB-05",
         "ST_CLERK",
         2500,
         " - ",
         "121",
         50
        ],
        [
         132,
         "TJ",
         "Olson",
         "TJOLSON",
         "650.124.8234",
         "10-APR-07",
         "ST_CLERK",
         2100,
         " - ",
         "121",
         50
        ],
        [
         133,
         "Jason",
         "Mallin",
         "JMALLIN",
         "650.127.1934",
         "14-JUN-04",
         "ST_CLERK",
         3300,
         " - ",
         "122",
         50
        ],
        [
         134,
         "Michael",
         "Rogers",
         "MROGERS",
         "650.127.1834",
         "26-AUG-06",
         "ST_CLERK",
         2900,
         " - ",
         "122",
         50
        ],
        [
         135,
         "Ki",
         "Gee",
         "KGEE",
         "650.127.1734",
         "12-DEC-07",
         "ST_CLERK",
         2400,
         " - ",
         "122",
         50
        ],
        [
         136,
         "Hazel",
         "Philtanker",
         "HPHILTAN",
         "650.127.1634",
         "06-FEB-08",
         "ST_CLERK",
         2200,
         " - ",
         "122",
         50
        ],
        [
         137,
         "Renske",
         "Ladwig",
         "RLADWIG",
         "650.121.1234",
         "14-JUL-03",
         "ST_CLERK",
         3600,
         " - ",
         "123",
         50
        ],
        [
         138,
         "Stephen",
         "Stiles",
         "SSTILES",
         "650.121.2034",
         "26-OCT-05",
         "ST_CLERK",
         3200,
         " - ",
         "123",
         50
        ],
        [
         139,
         "John",
         "Seo",
         "JSEO",
         "650.121.2019",
         "12-FEB-06",
         "ST_CLERK",
         2700,
         " - ",
         "123",
         50
        ],
        [
         140,
         "Joshua",
         "Patel",
         "JPATEL",
         "650.121.1834",
         "06-APR-06",
         "ST_CLERK",
         2500,
         " - ",
         "123",
         50
        ],
        [
         198,
         "Donald",
         "OConnell",
         "DOCONNEL",
         "650.507.9833",
         "21-JUN-07",
         "SH_CLERK",
         2600,
         " - ",
         "124",
         50
        ],
        [
         199,
         "Douglas",
         "Grant",
         "DGRANT",
         "650.507.9844",
         "13-JAN-08",
         "SH_CLERK",
         2600,
         " - ",
         "124",
         50
        ],
        [
         200,
         "Jennifer",
         "Whalen",
         "JWHALEN",
         "515.123.4444",
         "17-SEP-03",
         "AD_ASST",
         4400,
         " - ",
         "101",
         10
        ],
        [
         201,
         "Michael",
         "Hartstein",
         "MHARTSTE",
         "515.123.5555",
         "17-FEB-04",
         "MK_MAN",
         13000,
         " - ",
         "100",
         20
        ],
        [
         202,
         "Pat",
         "Fay",
         "PFAY",
         "603.123.6666",
         "17-AUG-05",
         "MK_REP",
         6000,
         " - ",
         "201",
         20
        ],
        [
         203,
         "Susan",
         "Mavris",
         "SMAVRIS",
         "515.123.7777",
         "07-JUN-02",
         "HR_REP",
         6500,
         " - ",
         "101",
         40
        ],
        [
         204,
         "Hermann",
         "Baer",
         "HBAER",
         "515.123.8888",
         "07-JUN-02",
         "PR_REP",
         10000,
         " - ",
         "101",
         70
        ],
        [
         205,
         "Shelley",
         "Higgins",
         "SHIGGINS",
         "515.123.8080",
         "07-JUN-02",
         "AC_MGR",
         12008,
         " - ",
         "101",
         110
        ],
        [
         206,
         "William",
         "Gietz",
         "WGIETZ",
         "515.123.8181",
         "07-JUN-02",
         "AC_ACCOUNT",
         8300,
         " - ",
         "205",
         110
        ],
        [
         100,
         "Steven",
         "King",
         "SKING",
         "515.123.4567",
         "17-JUN-03",
         "AD_PRES",
         24000,
         " - ",
         " - ",
         90
        ],
        [
         101,
         "Neena",
         "Kochhar",
         "NKOCHHAR",
         "515.123.4568",
         "21-SEP-05",
         "AD_VP",
         17000,
         " - ",
         "100",
         90
        ],
        [
         102,
         "Lex",
         "De Haan",
         "LDEHAAN",
         "515.123.4569",
         "13-JAN-01",
         "AD_VP",
         17000,
         " - ",
         "100",
         90
        ],
        [
         103,
         "Alexander",
         "Hunold",
         "AHUNOLD",
         "590.423.4567",
         "03-JAN-06",
         "IT_PROG",
         9000,
         " - ",
         "102",
         60
        ],
        [
         104,
         "Bruce",
         "Ernst",
         "BERNST",
         "590.423.4568",
         "21-MAY-07",
         "IT_PROG",
         6000,
         " - ",
         "103",
         60
        ],
        [
         105,
         "David",
         "Austin",
         "DAUSTIN",
         "590.423.4569",
         "25-JUN-05",
         "IT_PROG",
         4800,
         " - ",
         "103",
         60
        ],
        [
         106,
         "Valli",
         "Pataballa",
         "VPATABAL",
         "590.423.4560",
         "05-FEB-06",
         "IT_PROG",
         4800,
         " - ",
         "103",
         60
        ],
        [
         107,
         "Diana",
         "Lorentz",
         "DLORENTZ",
         "590.423.5567",
         "07-FEB-07",
         "IT_PROG",
         4200,
         " - ",
         "103",
         60
        ],
        [
         108,
         "Nancy",
         "Greenberg",
         "NGREENBE",
         "515.124.4569",
         "17-AUG-02",
         "FI_MGR",
         12008,
         " - ",
         "101",
         100
        ],
        [
         109,
         "Daniel",
         "Faviet",
         "DFAVIET",
         "515.124.4169",
         "16-AUG-02",
         "FI_ACCOUNT",
         9000,
         " - ",
         "108",
         100
        ],
        [
         110,
         "John",
         "Chen",
         "JCHEN",
         "515.124.4269",
         "28-SEP-05",
         "FI_ACCOUNT",
         8200,
         " - ",
         "108",
         100
        ],
        [
         111,
         "Ismael",
         "Sciarra",
         "ISCIARRA",
         "515.124.4369",
         "30-SEP-05",
         "FI_ACCOUNT",
         7700,
         " - ",
         "108",
         100
        ],
        [
         112,
         "Jose Manuel",
         "Urman",
         "JMURMAN",
         "515.124.4469",
         "07-MAR-06",
         "FI_ACCOUNT",
         7800,
         " - ",
         "108",
         100
        ],
        [
         113,
         "Luis",
         "Popp",
         "LPOPP",
         "515.124.4567",
         "07-DEC-07",
         "FI_ACCOUNT",
         6900,
         " - ",
         "108",
         100
        ],
        [
         114,
         "Den",
         "Raphaely",
         "DRAPHEAL",
         "515.127.4561",
         "07-DEC-02",
         "PU_MAN",
         11000,
         " - ",
         "100",
         30
        ],
        [
         115,
         "Alexander",
         "Khoo",
         "AKHOO",
         "515.127.4562",
         "18-MAY-03",
         "PU_CLERK",
         3100,
         " - ",
         "114",
         30
        ],
        [
         116,
         "Shelli",
         "Baida",
         "SBAIDA",
         "515.127.4563",
         "24-DEC-05",
         "PU_CLERK",
         2900,
         " - ",
         "114",
         30
        ],
        [
         117,
         "Sigal",
         "Tobias",
         "STOBIAS",
         "515.127.4564",
         "24-JUL-05",
         "PU_CLERK",
         2800,
         " - ",
         "114",
         30
        ],
        [
         118,
         "Guy",
         "Himuro",
         "GHIMURO",
         "515.127.4565",
         "15-NOV-06",
         "PU_CLERK",
         2600,
         " - ",
         "114",
         30
        ],
        [
         119,
         "Karen",
         "Colmenares",
         "KCOLMENA",
         "515.127.4566",
         "10-AUG-07",
         "PU_CLERK",
         2500,
         " - ",
         "114",
         30
        ],
        [
         120,
         "Matthew",
         "Weiss",
         "MWEISS",
         "650.123.1234",
         "18-JUL-04",
         "ST_MAN",
         8000,
         " - ",
         "100",
         50
        ],
        [
         121,
         "Adam",
         "Fripp",
         "AFRIPP",
         "650.123.2234",
         "10-APR-05",
         "ST_MAN",
         8200,
         " - ",
         "100",
         50
        ],
        [
         122,
         "Payam",
         "Kaufling",
         "PKAUFLIN",
         "650.123.3234",
         "01-MAY-03",
         "ST_MAN",
         7900,
         " - ",
         "100",
         50
        ],
        [
         123,
         "Shanta",
         "Vollman",
         "SVOLLMAN",
         "650.123.4234",
         "10-OCT-05",
         "ST_MAN",
         6500,
         " - ",
         "100",
         50
        ],
        [
         124,
         "Kevin",
         "Mourgos",
         "KMOURGOS",
         "650.123.5234",
         "16-NOV-07",
         "ST_MAN",
         5800,
         " - ",
         "100",
         50
        ],
        [
         125,
         "Julia",
         "Nayer",
         "JNAYER",
         "650.124.1214",
         "16-JUL-05",
         "ST_CLERK",
         3200,
         " - ",
         "120",
         50
        ],
        [
         126,
         "Irene",
         "Mikkilineni",
         "IMIKKILI",
         "650.124.1224",
         "28-SEP-06",
         "ST_CLERK",
         2700,
         " - ",
         "120",
         50
        ],
        [
         127,
         "James",
         "Landry",
         "JLANDRY",
         "650.124.1334",
         "14-JAN-07",
         "ST_CLERK",
         2400,
         " - ",
         "120",
         50
        ],
        [
         128,
         "Steven",
         "Markle",
         "SMARKLE",
         "650.124.1434",
         "08-MAR-08",
         "ST_CLERK",
         2200,
         " - ",
         "120",
         50
        ],
        [
         129,
         "Laura",
         "Bissot",
         "LBISSOT",
         "650.124.5234",
         "20-AUG-05",
         "ST_CLERK",
         3300,
         " - ",
         "121",
         50
        ],
        [
         130,
         "Mozhe",
         "Atkinson",
         "MATKINSO",
         "650.124.6234",
         "30-OCT-05",
         "ST_CLERK",
         2800,
         " - ",
         "121",
         50
        ],
        [
         131,
         "James",
         "Marlow",
         "JAMRLOW",
         "650.124.7234",
         "16-FEB-05",
         "ST_CLERK",
         2500,
         " - ",
         "121",
         50
        ],
        [
         132,
         "TJ",
         "Olson",
         "TJOLSON",
         "650.124.8234",
         "10-APR-07",
         "ST_CLERK",
         2100,
         " - ",
         "121",
         50
        ],
        [
         133,
         "Jason",
         "Mallin",
         "JMALLIN",
         "650.127.1934",
         "14-JUN-04",
         "ST_CLERK",
         3300,
         " - ",
         "122",
         50
        ],
        [
         134,
         "Michael",
         "Rogers",
         "MROGERS",
         "650.127.1834",
         "26-AUG-06",
         "ST_CLERK",
         2900,
         " - ",
         "122",
         50
        ],
        [
         135,
         "Ki",
         "Gee",
         "KGEE",
         "650.127.1734",
         "12-DEC-07",
         "ST_CLERK",
         2400,
         " - ",
         "122",
         50
        ],
        [
         136,
         "Hazel",
         "Philtanker",
         "HPHILTAN",
         "650.127.1634",
         "06-FEB-08",
         "ST_CLERK",
         2200,
         " - ",
         "122",
         50
        ],
        [
         137,
         "Renske",
         "Ladwig",
         "RLADWIG",
         "650.121.1234",
         "14-JUL-03",
         "ST_CLERK",
         3600,
         " - ",
         "123",
         50
        ],
        [
         138,
         "Stephen",
         "Stiles",
         "SSTILES",
         "650.121.2034",
         "26-OCT-05",
         "ST_CLERK",
         3200,
         " - ",
         "123",
         50
        ],
        [
         139,
         "John",
         "Seo",
         "JSEO",
         "650.121.2019",
         "12-FEB-06",
         "ST_CLERK",
         2700,
         " - ",
         "123",
         50
        ],
        [
         140,
         "Joshua",
         "Patel",
         "JPATEL",
         "650.121.1834",
         "06-APR-06",
         "ST_CLERK",
         2500,
         " - ",
         "123",
         50
        ]
       ],
       "datasetInfos": [],
       "dbfsResultPath": null,
       "isJsonSchema": true,
       "metadata": {},
       "overflow": false,
       "plotOptions": {
        "customPlotOptions": {},
        "displayType": "table",
        "pivotAggregation": null,
        "pivotColumns": null,
        "xColumns": null,
        "yColumns": null
       },
       "removedWidgets": [],
       "schema": [
        {
         "metadata": "{}",
         "name": "EMPLOYEE_ID",
         "type": "\"integer\""
        },
        {
         "metadata": "{}",
         "name": "FIRST_NAME",
         "type": "\"string\""
        },
        {
         "metadata": "{}",
         "name": "LAST_NAME",
         "type": "\"string\""
        },
        {
         "metadata": "{}",
         "name": "EMAIL",
         "type": "\"string\""
        },
        {
         "metadata": "{}",
         "name": "PHONE_NUMBER",
         "type": "\"string\""
        },
        {
         "metadata": "{}",
         "name": "HIRE_DATE",
         "type": "\"string\""
        },
        {
         "metadata": "{}",
         "name": "JOB_ID",
         "type": "\"string\""
        },
        {
         "metadata": "{}",
         "name": "SALARY",
         "type": "\"integer\""
        },
        {
         "metadata": "{}",
         "name": "COMMISSION_PCT",
         "type": "\"string\""
        },
        {
         "metadata": "{}",
         "name": "MANAGER_ID",
         "type": "\"string\""
        },
        {
         "metadata": "{}",
         "name": "DEPARTMENT_ID",
         "type": "\"integer\""
        }
       ],
       "type": "table"
      }
     },
     "output_type": "display_data"
    }
   ],
   "source": [
    "emp_df.unionAll(emp_df).display()"
   ]
  },
  {
   "cell_type": "code",
   "execution_count": 0,
   "metadata": {
    "application/vnd.databricks.v1+cell": {
     "cellMetadata": {
      "byteLimit": 2048000,
      "rowLimit": 10000
     },
     "inputWidgets": {},
     "nuid": "44b9c2f1-7727-4031-960c-a6d4d6cd30cd",
     "showTitle": false,
     "tableResultSettingsMap": {},
     "title": ""
    }
   },
   "outputs": [
    {
     "output_type": "display_data",
     "data": {
      "text/html": [
       "<style scoped>\n",
       "  .table-result-container {\n",
       "    max-height: 300px;\n",
       "    overflow: auto;\n",
       "  }\n",
       "  table, th, td {\n",
       "    border: 1px solid black;\n",
       "    border-collapse: collapse;\n",
       "  }\n",
       "  th, td {\n",
       "    padding: 5px;\n",
       "  }\n",
       "  th {\n",
       "    text-align: left;\n",
       "  }\n",
       "</style><div class='table-result-container'><table class='table-result'><thead style='background-color: white'><tr><th>EMPLOYEE_ID</th><th>FIRST_NAME</th><th>LAST_NAME</th><th>EMAIL</th><th>PHONE_NUMBER</th><th>HIRE_DATE</th><th>JOB_ID</th><th>SALARY</th><th>COMMISSION_PCT</th><th>MANAGER_ID</th><th>DEPARTMENT_ID</th></tr></thead><tbody><tr><td>198</td><td>Donald</td><td>OConnell</td><td>DOCONNEL</td><td>650.507.9833</td><td>21-JUN-07</td><td>SH_CLERK</td><td>2600</td><td> - </td><td>124</td><td>50</td></tr><tr><td>199</td><td>Douglas</td><td>Grant</td><td>DGRANT</td><td>650.507.9844</td><td>13-JAN-08</td><td>SH_CLERK</td><td>2600</td><td> - </td><td>124</td><td>50</td></tr><tr><td>200</td><td>Jennifer</td><td>Whalen</td><td>JWHALEN</td><td>515.123.4444</td><td>17-SEP-03</td><td>AD_ASST</td><td>4400</td><td> - </td><td>101</td><td>10</td></tr><tr><td>201</td><td>Michael</td><td>Hartstein</td><td>MHARTSTE</td><td>515.123.5555</td><td>17-FEB-04</td><td>MK_MAN</td><td>13000</td><td> - </td><td>100</td><td>20</td></tr><tr><td>202</td><td>Pat</td><td>Fay</td><td>PFAY</td><td>603.123.6666</td><td>17-AUG-05</td><td>MK_REP</td><td>6000</td><td> - </td><td>201</td><td>20</td></tr><tr><td>203</td><td>Susan</td><td>Mavris</td><td>SMAVRIS</td><td>515.123.7777</td><td>07-JUN-02</td><td>HR_REP</td><td>6500</td><td> - </td><td>101</td><td>40</td></tr><tr><td>204</td><td>Hermann</td><td>Baer</td><td>HBAER</td><td>515.123.8888</td><td>07-JUN-02</td><td>PR_REP</td><td>10000</td><td> - </td><td>101</td><td>70</td></tr><tr><td>205</td><td>Shelley</td><td>Higgins</td><td>SHIGGINS</td><td>515.123.8080</td><td>07-JUN-02</td><td>AC_MGR</td><td>12008</td><td> - </td><td>101</td><td>110</td></tr><tr><td>206</td><td>William</td><td>Gietz</td><td>WGIETZ</td><td>515.123.8181</td><td>07-JUN-02</td><td>AC_ACCOUNT</td><td>8300</td><td> - </td><td>205</td><td>110</td></tr><tr><td>100</td><td>Steven</td><td>King</td><td>SKING</td><td>515.123.4567</td><td>17-JUN-03</td><td>AD_PRES</td><td>24000</td><td> - </td><td> - </td><td>90</td></tr><tr><td>101</td><td>Neena</td><td>Kochhar</td><td>NKOCHHAR</td><td>515.123.4568</td><td>21-SEP-05</td><td>AD_VP</td><td>17000</td><td> - </td><td>100</td><td>90</td></tr><tr><td>102</td><td>Lex</td><td>De Haan</td><td>LDEHAAN</td><td>515.123.4569</td><td>13-JAN-01</td><td>AD_VP</td><td>17000</td><td> - </td><td>100</td><td>90</td></tr><tr><td>103</td><td>Alexander</td><td>Hunold</td><td>AHUNOLD</td><td>590.423.4567</td><td>03-JAN-06</td><td>IT_PROG</td><td>9000</td><td> - </td><td>102</td><td>60</td></tr><tr><td>104</td><td>Bruce</td><td>Ernst</td><td>BERNST</td><td>590.423.4568</td><td>21-MAY-07</td><td>IT_PROG</td><td>6000</td><td> - </td><td>103</td><td>60</td></tr><tr><td>105</td><td>David</td><td>Austin</td><td>DAUSTIN</td><td>590.423.4569</td><td>25-JUN-05</td><td>IT_PROG</td><td>4800</td><td> - </td><td>103</td><td>60</td></tr><tr><td>106</td><td>Valli</td><td>Pataballa</td><td>VPATABAL</td><td>590.423.4560</td><td>05-FEB-06</td><td>IT_PROG</td><td>4800</td><td> - </td><td>103</td><td>60</td></tr><tr><td>107</td><td>Diana</td><td>Lorentz</td><td>DLORENTZ</td><td>590.423.5567</td><td>07-FEB-07</td><td>IT_PROG</td><td>4200</td><td> - </td><td>103</td><td>60</td></tr><tr><td>108</td><td>Nancy</td><td>Greenberg</td><td>NGREENBE</td><td>515.124.4569</td><td>17-AUG-02</td><td>FI_MGR</td><td>12008</td><td> - </td><td>101</td><td>100</td></tr><tr><td>109</td><td>Daniel</td><td>Faviet</td><td>DFAVIET</td><td>515.124.4169</td><td>16-AUG-02</td><td>FI_ACCOUNT</td><td>9000</td><td> - </td><td>108</td><td>100</td></tr><tr><td>110</td><td>John</td><td>Chen</td><td>JCHEN</td><td>515.124.4269</td><td>28-SEP-05</td><td>FI_ACCOUNT</td><td>8200</td><td> - </td><td>108</td><td>100</td></tr><tr><td>111</td><td>Ismael</td><td>Sciarra</td><td>ISCIARRA</td><td>515.124.4369</td><td>30-SEP-05</td><td>FI_ACCOUNT</td><td>7700</td><td> - </td><td>108</td><td>100</td></tr><tr><td>112</td><td>Jose Manuel</td><td>Urman</td><td>JMURMAN</td><td>515.124.4469</td><td>07-MAR-06</td><td>FI_ACCOUNT</td><td>7800</td><td> - </td><td>108</td><td>100</td></tr><tr><td>113</td><td>Luis</td><td>Popp</td><td>LPOPP</td><td>515.124.4567</td><td>07-DEC-07</td><td>FI_ACCOUNT</td><td>6900</td><td> - </td><td>108</td><td>100</td></tr><tr><td>114</td><td>Den</td><td>Raphaely</td><td>DRAPHEAL</td><td>515.127.4561</td><td>07-DEC-02</td><td>PU_MAN</td><td>11000</td><td> - </td><td>100</td><td>30</td></tr><tr><td>115</td><td>Alexander</td><td>Khoo</td><td>AKHOO</td><td>515.127.4562</td><td>18-MAY-03</td><td>PU_CLERK</td><td>3100</td><td> - </td><td>114</td><td>30</td></tr><tr><td>116</td><td>Shelli</td><td>Baida</td><td>SBAIDA</td><td>515.127.4563</td><td>24-DEC-05</td><td>PU_CLERK</td><td>2900</td><td> - </td><td>114</td><td>30</td></tr><tr><td>117</td><td>Sigal</td><td>Tobias</td><td>STOBIAS</td><td>515.127.4564</td><td>24-JUL-05</td><td>PU_CLERK</td><td>2800</td><td> - </td><td>114</td><td>30</td></tr><tr><td>118</td><td>Guy</td><td>Himuro</td><td>GHIMURO</td><td>515.127.4565</td><td>15-NOV-06</td><td>PU_CLERK</td><td>2600</td><td> - </td><td>114</td><td>30</td></tr><tr><td>119</td><td>Karen</td><td>Colmenares</td><td>KCOLMENA</td><td>515.127.4566</td><td>10-AUG-07</td><td>PU_CLERK</td><td>2500</td><td> - </td><td>114</td><td>30</td></tr><tr><td>120</td><td>Matthew</td><td>Weiss</td><td>MWEISS</td><td>650.123.1234</td><td>18-JUL-04</td><td>ST_MAN</td><td>8000</td><td> - </td><td>100</td><td>50</td></tr><tr><td>121</td><td>Adam</td><td>Fripp</td><td>AFRIPP</td><td>650.123.2234</td><td>10-APR-05</td><td>ST_MAN</td><td>8200</td><td> - </td><td>100</td><td>50</td></tr><tr><td>122</td><td>Payam</td><td>Kaufling</td><td>PKAUFLIN</td><td>650.123.3234</td><td>01-MAY-03</td><td>ST_MAN</td><td>7900</td><td> - </td><td>100</td><td>50</td></tr><tr><td>123</td><td>Shanta</td><td>Vollman</td><td>SVOLLMAN</td><td>650.123.4234</td><td>10-OCT-05</td><td>ST_MAN</td><td>6500</td><td> - </td><td>100</td><td>50</td></tr><tr><td>124</td><td>Kevin</td><td>Mourgos</td><td>KMOURGOS</td><td>650.123.5234</td><td>16-NOV-07</td><td>ST_MAN</td><td>5800</td><td> - </td><td>100</td><td>50</td></tr><tr><td>125</td><td>Julia</td><td>Nayer</td><td>JNAYER</td><td>650.124.1214</td><td>16-JUL-05</td><td>ST_CLERK</td><td>3200</td><td> - </td><td>120</td><td>50</td></tr><tr><td>126</td><td>Irene</td><td>Mikkilineni</td><td>IMIKKILI</td><td>650.124.1224</td><td>28-SEP-06</td><td>ST_CLERK</td><td>2700</td><td> - </td><td>120</td><td>50</td></tr><tr><td>127</td><td>James</td><td>Landry</td><td>JLANDRY</td><td>650.124.1334</td><td>14-JAN-07</td><td>ST_CLERK</td><td>2400</td><td> - </td><td>120</td><td>50</td></tr><tr><td>128</td><td>Steven</td><td>Markle</td><td>SMARKLE</td><td>650.124.1434</td><td>08-MAR-08</td><td>ST_CLERK</td><td>2200</td><td> - </td><td>120</td><td>50</td></tr><tr><td>129</td><td>Laura</td><td>Bissot</td><td>LBISSOT</td><td>650.124.5234</td><td>20-AUG-05</td><td>ST_CLERK</td><td>3300</td><td> - </td><td>121</td><td>50</td></tr><tr><td>130</td><td>Mozhe</td><td>Atkinson</td><td>MATKINSO</td><td>650.124.6234</td><td>30-OCT-05</td><td>ST_CLERK</td><td>2800</td><td> - </td><td>121</td><td>50</td></tr><tr><td>131</td><td>James</td><td>Marlow</td><td>JAMRLOW</td><td>650.124.7234</td><td>16-FEB-05</td><td>ST_CLERK</td><td>2500</td><td> - </td><td>121</td><td>50</td></tr><tr><td>132</td><td>TJ</td><td>Olson</td><td>TJOLSON</td><td>650.124.8234</td><td>10-APR-07</td><td>ST_CLERK</td><td>2100</td><td> - </td><td>121</td><td>50</td></tr><tr><td>133</td><td>Jason</td><td>Mallin</td><td>JMALLIN</td><td>650.127.1934</td><td>14-JUN-04</td><td>ST_CLERK</td><td>3300</td><td> - </td><td>122</td><td>50</td></tr><tr><td>134</td><td>Michael</td><td>Rogers</td><td>MROGERS</td><td>650.127.1834</td><td>26-AUG-06</td><td>ST_CLERK</td><td>2900</td><td> - </td><td>122</td><td>50</td></tr><tr><td>135</td><td>Ki</td><td>Gee</td><td>KGEE</td><td>650.127.1734</td><td>12-DEC-07</td><td>ST_CLERK</td><td>2400</td><td> - </td><td>122</td><td>50</td></tr><tr><td>136</td><td>Hazel</td><td>Philtanker</td><td>HPHILTAN</td><td>650.127.1634</td><td>06-FEB-08</td><td>ST_CLERK</td><td>2200</td><td> - </td><td>122</td><td>50</td></tr><tr><td>137</td><td>Renske</td><td>Ladwig</td><td>RLADWIG</td><td>650.121.1234</td><td>14-JUL-03</td><td>ST_CLERK</td><td>3600</td><td> - </td><td>123</td><td>50</td></tr><tr><td>138</td><td>Stephen</td><td>Stiles</td><td>SSTILES</td><td>650.121.2034</td><td>26-OCT-05</td><td>ST_CLERK</td><td>3200</td><td> - </td><td>123</td><td>50</td></tr><tr><td>139</td><td>John</td><td>Seo</td><td>JSEO</td><td>650.121.2019</td><td>12-FEB-06</td><td>ST_CLERK</td><td>2700</td><td> - </td><td>123</td><td>50</td></tr><tr><td>140</td><td>Joshua</td><td>Patel</td><td>JPATEL</td><td>650.121.1834</td><td>06-APR-06</td><td>ST_CLERK</td><td>2500</td><td> - </td><td>123</td><td>50</td></tr><tr><td>198</td><td>Donald</td><td>OConnell</td><td>DOCONNEL</td><td>650.507.9833</td><td>21-JUN-07</td><td>SH_CLERK</td><td>2600</td><td> - </td><td>124</td><td>50</td></tr><tr><td>199</td><td>Douglas</td><td>Grant</td><td>DGRANT</td><td>650.507.9844</td><td>13-JAN-08</td><td>SH_CLERK</td><td>2600</td><td> - </td><td>124</td><td>50</td></tr><tr><td>200</td><td>Jennifer</td><td>Whalen</td><td>JWHALEN</td><td>515.123.4444</td><td>17-SEP-03</td><td>AD_ASST</td><td>4400</td><td> - </td><td>101</td><td>10</td></tr><tr><td>201</td><td>Michael</td><td>Hartstein</td><td>MHARTSTE</td><td>515.123.5555</td><td>17-FEB-04</td><td>MK_MAN</td><td>13000</td><td> - </td><td>100</td><td>20</td></tr><tr><td>202</td><td>Pat</td><td>Fay</td><td>PFAY</td><td>603.123.6666</td><td>17-AUG-05</td><td>MK_REP</td><td>6000</td><td> - </td><td>201</td><td>20</td></tr><tr><td>203</td><td>Susan</td><td>Mavris</td><td>SMAVRIS</td><td>515.123.7777</td><td>07-JUN-02</td><td>HR_REP</td><td>6500</td><td> - </td><td>101</td><td>40</td></tr><tr><td>204</td><td>Hermann</td><td>Baer</td><td>HBAER</td><td>515.123.8888</td><td>07-JUN-02</td><td>PR_REP</td><td>10000</td><td> - </td><td>101</td><td>70</td></tr><tr><td>205</td><td>Shelley</td><td>Higgins</td><td>SHIGGINS</td><td>515.123.8080</td><td>07-JUN-02</td><td>AC_MGR</td><td>12008</td><td> - </td><td>101</td><td>110</td></tr><tr><td>206</td><td>William</td><td>Gietz</td><td>WGIETZ</td><td>515.123.8181</td><td>07-JUN-02</td><td>AC_ACCOUNT</td><td>8300</td><td> - </td><td>205</td><td>110</td></tr><tr><td>100</td><td>Steven</td><td>King</td><td>SKING</td><td>515.123.4567</td><td>17-JUN-03</td><td>AD_PRES</td><td>24000</td><td> - </td><td> - </td><td>90</td></tr><tr><td>101</td><td>Neena</td><td>Kochhar</td><td>NKOCHHAR</td><td>515.123.4568</td><td>21-SEP-05</td><td>AD_VP</td><td>17000</td><td> - </td><td>100</td><td>90</td></tr><tr><td>102</td><td>Lex</td><td>De Haan</td><td>LDEHAAN</td><td>515.123.4569</td><td>13-JAN-01</td><td>AD_VP</td><td>17000</td><td> - </td><td>100</td><td>90</td></tr><tr><td>103</td><td>Alexander</td><td>Hunold</td><td>AHUNOLD</td><td>590.423.4567</td><td>03-JAN-06</td><td>IT_PROG</td><td>9000</td><td> - </td><td>102</td><td>60</td></tr><tr><td>104</td><td>Bruce</td><td>Ernst</td><td>BERNST</td><td>590.423.4568</td><td>21-MAY-07</td><td>IT_PROG</td><td>6000</td><td> - </td><td>103</td><td>60</td></tr><tr><td>105</td><td>David</td><td>Austin</td><td>DAUSTIN</td><td>590.423.4569</td><td>25-JUN-05</td><td>IT_PROG</td><td>4800</td><td> - </td><td>103</td><td>60</td></tr><tr><td>106</td><td>Valli</td><td>Pataballa</td><td>VPATABAL</td><td>590.423.4560</td><td>05-FEB-06</td><td>IT_PROG</td><td>4800</td><td> - </td><td>103</td><td>60</td></tr><tr><td>107</td><td>Diana</td><td>Lorentz</td><td>DLORENTZ</td><td>590.423.5567</td><td>07-FEB-07</td><td>IT_PROG</td><td>4200</td><td> - </td><td>103</td><td>60</td></tr><tr><td>108</td><td>Nancy</td><td>Greenberg</td><td>NGREENBE</td><td>515.124.4569</td><td>17-AUG-02</td><td>FI_MGR</td><td>12008</td><td> - </td><td>101</td><td>100</td></tr><tr><td>109</td><td>Daniel</td><td>Faviet</td><td>DFAVIET</td><td>515.124.4169</td><td>16-AUG-02</td><td>FI_ACCOUNT</td><td>9000</td><td> - </td><td>108</td><td>100</td></tr><tr><td>110</td><td>John</td><td>Chen</td><td>JCHEN</td><td>515.124.4269</td><td>28-SEP-05</td><td>FI_ACCOUNT</td><td>8200</td><td> - </td><td>108</td><td>100</td></tr><tr><td>111</td><td>Ismael</td><td>Sciarra</td><td>ISCIARRA</td><td>515.124.4369</td><td>30-SEP-05</td><td>FI_ACCOUNT</td><td>7700</td><td> - </td><td>108</td><td>100</td></tr><tr><td>112</td><td>Jose Manuel</td><td>Urman</td><td>JMURMAN</td><td>515.124.4469</td><td>07-MAR-06</td><td>FI_ACCOUNT</td><td>7800</td><td> - </td><td>108</td><td>100</td></tr><tr><td>113</td><td>Luis</td><td>Popp</td><td>LPOPP</td><td>515.124.4567</td><td>07-DEC-07</td><td>FI_ACCOUNT</td><td>6900</td><td> - </td><td>108</td><td>100</td></tr><tr><td>114</td><td>Den</td><td>Raphaely</td><td>DRAPHEAL</td><td>515.127.4561</td><td>07-DEC-02</td><td>PU_MAN</td><td>11000</td><td> - </td><td>100</td><td>30</td></tr><tr><td>115</td><td>Alexander</td><td>Khoo</td><td>AKHOO</td><td>515.127.4562</td><td>18-MAY-03</td><td>PU_CLERK</td><td>3100</td><td> - </td><td>114</td><td>30</td></tr><tr><td>116</td><td>Shelli</td><td>Baida</td><td>SBAIDA</td><td>515.127.4563</td><td>24-DEC-05</td><td>PU_CLERK</td><td>2900</td><td> - </td><td>114</td><td>30</td></tr><tr><td>117</td><td>Sigal</td><td>Tobias</td><td>STOBIAS</td><td>515.127.4564</td><td>24-JUL-05</td><td>PU_CLERK</td><td>2800</td><td> - </td><td>114</td><td>30</td></tr><tr><td>118</td><td>Guy</td><td>Himuro</td><td>GHIMURO</td><td>515.127.4565</td><td>15-NOV-06</td><td>PU_CLERK</td><td>2600</td><td> - </td><td>114</td><td>30</td></tr><tr><td>119</td><td>Karen</td><td>Colmenares</td><td>KCOLMENA</td><td>515.127.4566</td><td>10-AUG-07</td><td>PU_CLERK</td><td>2500</td><td> - </td><td>114</td><td>30</td></tr><tr><td>120</td><td>Matthew</td><td>Weiss</td><td>MWEISS</td><td>650.123.1234</td><td>18-JUL-04</td><td>ST_MAN</td><td>8000</td><td> - </td><td>100</td><td>50</td></tr><tr><td>121</td><td>Adam</td><td>Fripp</td><td>AFRIPP</td><td>650.123.2234</td><td>10-APR-05</td><td>ST_MAN</td><td>8200</td><td> - </td><td>100</td><td>50</td></tr><tr><td>122</td><td>Payam</td><td>Kaufling</td><td>PKAUFLIN</td><td>650.123.3234</td><td>01-MAY-03</td><td>ST_MAN</td><td>7900</td><td> - </td><td>100</td><td>50</td></tr><tr><td>123</td><td>Shanta</td><td>Vollman</td><td>SVOLLMAN</td><td>650.123.4234</td><td>10-OCT-05</td><td>ST_MAN</td><td>6500</td><td> - </td><td>100</td><td>50</td></tr><tr><td>124</td><td>Kevin</td><td>Mourgos</td><td>KMOURGOS</td><td>650.123.5234</td><td>16-NOV-07</td><td>ST_MAN</td><td>5800</td><td> - </td><td>100</td><td>50</td></tr><tr><td>125</td><td>Julia</td><td>Nayer</td><td>JNAYER</td><td>650.124.1214</td><td>16-JUL-05</td><td>ST_CLERK</td><td>3200</td><td> - </td><td>120</td><td>50</td></tr><tr><td>126</td><td>Irene</td><td>Mikkilineni</td><td>IMIKKILI</td><td>650.124.1224</td><td>28-SEP-06</td><td>ST_CLERK</td><td>2700</td><td> - </td><td>120</td><td>50</td></tr><tr><td>127</td><td>James</td><td>Landry</td><td>JLANDRY</td><td>650.124.1334</td><td>14-JAN-07</td><td>ST_CLERK</td><td>2400</td><td> - </td><td>120</td><td>50</td></tr><tr><td>128</td><td>Steven</td><td>Markle</td><td>SMARKLE</td><td>650.124.1434</td><td>08-MAR-08</td><td>ST_CLERK</td><td>2200</td><td> - </td><td>120</td><td>50</td></tr><tr><td>129</td><td>Laura</td><td>Bissot</td><td>LBISSOT</td><td>650.124.5234</td><td>20-AUG-05</td><td>ST_CLERK</td><td>3300</td><td> - </td><td>121</td><td>50</td></tr><tr><td>130</td><td>Mozhe</td><td>Atkinson</td><td>MATKINSO</td><td>650.124.6234</td><td>30-OCT-05</td><td>ST_CLERK</td><td>2800</td><td> - </td><td>121</td><td>50</td></tr><tr><td>131</td><td>James</td><td>Marlow</td><td>JAMRLOW</td><td>650.124.7234</td><td>16-FEB-05</td><td>ST_CLERK</td><td>2500</td><td> - </td><td>121</td><td>50</td></tr><tr><td>132</td><td>TJ</td><td>Olson</td><td>TJOLSON</td><td>650.124.8234</td><td>10-APR-07</td><td>ST_CLERK</td><td>2100</td><td> - </td><td>121</td><td>50</td></tr><tr><td>133</td><td>Jason</td><td>Mallin</td><td>JMALLIN</td><td>650.127.1934</td><td>14-JUN-04</td><td>ST_CLERK</td><td>3300</td><td> - </td><td>122</td><td>50</td></tr><tr><td>134</td><td>Michael</td><td>Rogers</td><td>MROGERS</td><td>650.127.1834</td><td>26-AUG-06</td><td>ST_CLERK</td><td>2900</td><td> - </td><td>122</td><td>50</td></tr><tr><td>135</td><td>Ki</td><td>Gee</td><td>KGEE</td><td>650.127.1734</td><td>12-DEC-07</td><td>ST_CLERK</td><td>2400</td><td> - </td><td>122</td><td>50</td></tr><tr><td>136</td><td>Hazel</td><td>Philtanker</td><td>HPHILTAN</td><td>650.127.1634</td><td>06-FEB-08</td><td>ST_CLERK</td><td>2200</td><td> - </td><td>122</td><td>50</td></tr><tr><td>137</td><td>Renske</td><td>Ladwig</td><td>RLADWIG</td><td>650.121.1234</td><td>14-JUL-03</td><td>ST_CLERK</td><td>3600</td><td> - </td><td>123</td><td>50</td></tr><tr><td>138</td><td>Stephen</td><td>Stiles</td><td>SSTILES</td><td>650.121.2034</td><td>26-OCT-05</td><td>ST_CLERK</td><td>3200</td><td> - </td><td>123</td><td>50</td></tr><tr><td>139</td><td>John</td><td>Seo</td><td>JSEO</td><td>650.121.2019</td><td>12-FEB-06</td><td>ST_CLERK</td><td>2700</td><td> - </td><td>123</td><td>50</td></tr><tr><td>140</td><td>Joshua</td><td>Patel</td><td>JPATEL</td><td>650.121.1834</td><td>06-APR-06</td><td>ST_CLERK</td><td>2500</td><td> - </td><td>123</td><td>50</td></tr></tbody></table></div>"
      ]
     },
     "metadata": {
      "application/vnd.databricks.v1+output": {
       "addedWidgets": {},
       "aggData": [],
       "aggError": "",
       "aggOverflow": false,
       "aggSchema": [],
       "aggSeriesLimitReached": false,
       "aggType": "",
       "arguments": {},
       "columnCustomDisplayInfos": {},
       "data": [
        [
         198,
         "Donald",
         "OConnell",
         "DOCONNEL",
         "650.507.9833",
         "21-JUN-07",
         "SH_CLERK",
         2600,
         " - ",
         "124",
         50
        ],
        [
         199,
         "Douglas",
         "Grant",
         "DGRANT",
         "650.507.9844",
         "13-JAN-08",
         "SH_CLERK",
         2600,
         " - ",
         "124",
         50
        ],
        [
         200,
         "Jennifer",
         "Whalen",
         "JWHALEN",
         "515.123.4444",
         "17-SEP-03",
         "AD_ASST",
         4400,
         " - ",
         "101",
         10
        ],
        [
         201,
         "Michael",
         "Hartstein",
         "MHARTSTE",
         "515.123.5555",
         "17-FEB-04",
         "MK_MAN",
         13000,
         " - ",
         "100",
         20
        ],
        [
         202,
         "Pat",
         "Fay",
         "PFAY",
         "603.123.6666",
         "17-AUG-05",
         "MK_REP",
         6000,
         " - ",
         "201",
         20
        ],
        [
         203,
         "Susan",
         "Mavris",
         "SMAVRIS",
         "515.123.7777",
         "07-JUN-02",
         "HR_REP",
         6500,
         " - ",
         "101",
         40
        ],
        [
         204,
         "Hermann",
         "Baer",
         "HBAER",
         "515.123.8888",
         "07-JUN-02",
         "PR_REP",
         10000,
         " - ",
         "101",
         70
        ],
        [
         205,
         "Shelley",
         "Higgins",
         "SHIGGINS",
         "515.123.8080",
         "07-JUN-02",
         "AC_MGR",
         12008,
         " - ",
         "101",
         110
        ],
        [
         206,
         "William",
         "Gietz",
         "WGIETZ",
         "515.123.8181",
         "07-JUN-02",
         "AC_ACCOUNT",
         8300,
         " - ",
         "205",
         110
        ],
        [
         100,
         "Steven",
         "King",
         "SKING",
         "515.123.4567",
         "17-JUN-03",
         "AD_PRES",
         24000,
         " - ",
         " - ",
         90
        ],
        [
         101,
         "Neena",
         "Kochhar",
         "NKOCHHAR",
         "515.123.4568",
         "21-SEP-05",
         "AD_VP",
         17000,
         " - ",
         "100",
         90
        ],
        [
         102,
         "Lex",
         "De Haan",
         "LDEHAAN",
         "515.123.4569",
         "13-JAN-01",
         "AD_VP",
         17000,
         " - ",
         "100",
         90
        ],
        [
         103,
         "Alexander",
         "Hunold",
         "AHUNOLD",
         "590.423.4567",
         "03-JAN-06",
         "IT_PROG",
         9000,
         " - ",
         "102",
         60
        ],
        [
         104,
         "Bruce",
         "Ernst",
         "BERNST",
         "590.423.4568",
         "21-MAY-07",
         "IT_PROG",
         6000,
         " - ",
         "103",
         60
        ],
        [
         105,
         "David",
         "Austin",
         "DAUSTIN",
         "590.423.4569",
         "25-JUN-05",
         "IT_PROG",
         4800,
         " - ",
         "103",
         60
        ],
        [
         106,
         "Valli",
         "Pataballa",
         "VPATABAL",
         "590.423.4560",
         "05-FEB-06",
         "IT_PROG",
         4800,
         " - ",
         "103",
         60
        ],
        [
         107,
         "Diana",
         "Lorentz",
         "DLORENTZ",
         "590.423.5567",
         "07-FEB-07",
         "IT_PROG",
         4200,
         " - ",
         "103",
         60
        ],
        [
         108,
         "Nancy",
         "Greenberg",
         "NGREENBE",
         "515.124.4569",
         "17-AUG-02",
         "FI_MGR",
         12008,
         " - ",
         "101",
         100
        ],
        [
         109,
         "Daniel",
         "Faviet",
         "DFAVIET",
         "515.124.4169",
         "16-AUG-02",
         "FI_ACCOUNT",
         9000,
         " - ",
         "108",
         100
        ],
        [
         110,
         "John",
         "Chen",
         "JCHEN",
         "515.124.4269",
         "28-SEP-05",
         "FI_ACCOUNT",
         8200,
         " - ",
         "108",
         100
        ],
        [
         111,
         "Ismael",
         "Sciarra",
         "ISCIARRA",
         "515.124.4369",
         "30-SEP-05",
         "FI_ACCOUNT",
         7700,
         " - ",
         "108",
         100
        ],
        [
         112,
         "Jose Manuel",
         "Urman",
         "JMURMAN",
         "515.124.4469",
         "07-MAR-06",
         "FI_ACCOUNT",
         7800,
         " - ",
         "108",
         100
        ],
        [
         113,
         "Luis",
         "Popp",
         "LPOPP",
         "515.124.4567",
         "07-DEC-07",
         "FI_ACCOUNT",
         6900,
         " - ",
         "108",
         100
        ],
        [
         114,
         "Den",
         "Raphaely",
         "DRAPHEAL",
         "515.127.4561",
         "07-DEC-02",
         "PU_MAN",
         11000,
         " - ",
         "100",
         30
        ],
        [
         115,
         "Alexander",
         "Khoo",
         "AKHOO",
         "515.127.4562",
         "18-MAY-03",
         "PU_CLERK",
         3100,
         " - ",
         "114",
         30
        ],
        [
         116,
         "Shelli",
         "Baida",
         "SBAIDA",
         "515.127.4563",
         "24-DEC-05",
         "PU_CLERK",
         2900,
         " - ",
         "114",
         30
        ],
        [
         117,
         "Sigal",
         "Tobias",
         "STOBIAS",
         "515.127.4564",
         "24-JUL-05",
         "PU_CLERK",
         2800,
         " - ",
         "114",
         30
        ],
        [
         118,
         "Guy",
         "Himuro",
         "GHIMURO",
         "515.127.4565",
         "15-NOV-06",
         "PU_CLERK",
         2600,
         " - ",
         "114",
         30
        ],
        [
         119,
         "Karen",
         "Colmenares",
         "KCOLMENA",
         "515.127.4566",
         "10-AUG-07",
         "PU_CLERK",
         2500,
         " - ",
         "114",
         30
        ],
        [
         120,
         "Matthew",
         "Weiss",
         "MWEISS",
         "650.123.1234",
         "18-JUL-04",
         "ST_MAN",
         8000,
         " - ",
         "100",
         50
        ],
        [
         121,
         "Adam",
         "Fripp",
         "AFRIPP",
         "650.123.2234",
         "10-APR-05",
         "ST_MAN",
         8200,
         " - ",
         "100",
         50
        ],
        [
         122,
         "Payam",
         "Kaufling",
         "PKAUFLIN",
         "650.123.3234",
         "01-MAY-03",
         "ST_MAN",
         7900,
         " - ",
         "100",
         50
        ],
        [
         123,
         "Shanta",
         "Vollman",
         "SVOLLMAN",
         "650.123.4234",
         "10-OCT-05",
         "ST_MAN",
         6500,
         " - ",
         "100",
         50
        ],
        [
         124,
         "Kevin",
         "Mourgos",
         "KMOURGOS",
         "650.123.5234",
         "16-NOV-07",
         "ST_MAN",
         5800,
         " - ",
         "100",
         50
        ],
        [
         125,
         "Julia",
         "Nayer",
         "JNAYER",
         "650.124.1214",
         "16-JUL-05",
         "ST_CLERK",
         3200,
         " - ",
         "120",
         50
        ],
        [
         126,
         "Irene",
         "Mikkilineni",
         "IMIKKILI",
         "650.124.1224",
         "28-SEP-06",
         "ST_CLERK",
         2700,
         " - ",
         "120",
         50
        ],
        [
         127,
         "James",
         "Landry",
         "JLANDRY",
         "650.124.1334",
         "14-JAN-07",
         "ST_CLERK",
         2400,
         " - ",
         "120",
         50
        ],
        [
         128,
         "Steven",
         "Markle",
         "SMARKLE",
         "650.124.1434",
         "08-MAR-08",
         "ST_CLERK",
         2200,
         " - ",
         "120",
         50
        ],
        [
         129,
         "Laura",
         "Bissot",
         "LBISSOT",
         "650.124.5234",
         "20-AUG-05",
         "ST_CLERK",
         3300,
         " - ",
         "121",
         50
        ],
        [
         130,
         "Mozhe",
         "Atkinson",
         "MATKINSO",
         "650.124.6234",
         "30-OCT-05",
         "ST_CLERK",
         2800,
         " - ",
         "121",
         50
        ],
        [
         131,
         "James",
         "Marlow",
         "JAMRLOW",
         "650.124.7234",
         "16-FEB-05",
         "ST_CLERK",
         2500,
         " - ",
         "121",
         50
        ],
        [
         132,
         "TJ",
         "Olson",
         "TJOLSON",
         "650.124.8234",
         "10-APR-07",
         "ST_CLERK",
         2100,
         " - ",
         "121",
         50
        ],
        [
         133,
         "Jason",
         "Mallin",
         "JMALLIN",
         "650.127.1934",
         "14-JUN-04",
         "ST_CLERK",
         3300,
         " - ",
         "122",
         50
        ],
        [
         134,
         "Michael",
         "Rogers",
         "MROGERS",
         "650.127.1834",
         "26-AUG-06",
         "ST_CLERK",
         2900,
         " - ",
         "122",
         50
        ],
        [
         135,
         "Ki",
         "Gee",
         "KGEE",
         "650.127.1734",
         "12-DEC-07",
         "ST_CLERK",
         2400,
         " - ",
         "122",
         50
        ],
        [
         136,
         "Hazel",
         "Philtanker",
         "HPHILTAN",
         "650.127.1634",
         "06-FEB-08",
         "ST_CLERK",
         2200,
         " - ",
         "122",
         50
        ],
        [
         137,
         "Renske",
         "Ladwig",
         "RLADWIG",
         "650.121.1234",
         "14-JUL-03",
         "ST_CLERK",
         3600,
         " - ",
         "123",
         50
        ],
        [
         138,
         "Stephen",
         "Stiles",
         "SSTILES",
         "650.121.2034",
         "26-OCT-05",
         "ST_CLERK",
         3200,
         " - ",
         "123",
         50
        ],
        [
         139,
         "John",
         "Seo",
         "JSEO",
         "650.121.2019",
         "12-FEB-06",
         "ST_CLERK",
         2700,
         " - ",
         "123",
         50
        ],
        [
         140,
         "Joshua",
         "Patel",
         "JPATEL",
         "650.121.1834",
         "06-APR-06",
         "ST_CLERK",
         2500,
         " - ",
         "123",
         50
        ],
        [
         198,
         "Donald",
         "OConnell",
         "DOCONNEL",
         "650.507.9833",
         "21-JUN-07",
         "SH_CLERK",
         2600,
         " - ",
         "124",
         50
        ],
        [
         199,
         "Douglas",
         "Grant",
         "DGRANT",
         "650.507.9844",
         "13-JAN-08",
         "SH_CLERK",
         2600,
         " - ",
         "124",
         50
        ],
        [
         200,
         "Jennifer",
         "Whalen",
         "JWHALEN",
         "515.123.4444",
         "17-SEP-03",
         "AD_ASST",
         4400,
         " - ",
         "101",
         10
        ],
        [
         201,
         "Michael",
         "Hartstein",
         "MHARTSTE",
         "515.123.5555",
         "17-FEB-04",
         "MK_MAN",
         13000,
         " - ",
         "100",
         20
        ],
        [
         202,
         "Pat",
         "Fay",
         "PFAY",
         "603.123.6666",
         "17-AUG-05",
         "MK_REP",
         6000,
         " - ",
         "201",
         20
        ],
        [
         203,
         "Susan",
         "Mavris",
         "SMAVRIS",
         "515.123.7777",
         "07-JUN-02",
         "HR_REP",
         6500,
         " - ",
         "101",
         40
        ],
        [
         204,
         "Hermann",
         "Baer",
         "HBAER",
         "515.123.8888",
         "07-JUN-02",
         "PR_REP",
         10000,
         " - ",
         "101",
         70
        ],
        [
         205,
         "Shelley",
         "Higgins",
         "SHIGGINS",
         "515.123.8080",
         "07-JUN-02",
         "AC_MGR",
         12008,
         " - ",
         "101",
         110
        ],
        [
         206,
         "William",
         "Gietz",
         "WGIETZ",
         "515.123.8181",
         "07-JUN-02",
         "AC_ACCOUNT",
         8300,
         " - ",
         "205",
         110
        ],
        [
         100,
         "Steven",
         "King",
         "SKING",
         "515.123.4567",
         "17-JUN-03",
         "AD_PRES",
         24000,
         " - ",
         " - ",
         90
        ],
        [
         101,
         "Neena",
         "Kochhar",
         "NKOCHHAR",
         "515.123.4568",
         "21-SEP-05",
         "AD_VP",
         17000,
         " - ",
         "100",
         90
        ],
        [
         102,
         "Lex",
         "De Haan",
         "LDEHAAN",
         "515.123.4569",
         "13-JAN-01",
         "AD_VP",
         17000,
         " - ",
         "100",
         90
        ],
        [
         103,
         "Alexander",
         "Hunold",
         "AHUNOLD",
         "590.423.4567",
         "03-JAN-06",
         "IT_PROG",
         9000,
         " - ",
         "102",
         60
        ],
        [
         104,
         "Bruce",
         "Ernst",
         "BERNST",
         "590.423.4568",
         "21-MAY-07",
         "IT_PROG",
         6000,
         " - ",
         "103",
         60
        ],
        [
         105,
         "David",
         "Austin",
         "DAUSTIN",
         "590.423.4569",
         "25-JUN-05",
         "IT_PROG",
         4800,
         " - ",
         "103",
         60
        ],
        [
         106,
         "Valli",
         "Pataballa",
         "VPATABAL",
         "590.423.4560",
         "05-FEB-06",
         "IT_PROG",
         4800,
         " - ",
         "103",
         60
        ],
        [
         107,
         "Diana",
         "Lorentz",
         "DLORENTZ",
         "590.423.5567",
         "07-FEB-07",
         "IT_PROG",
         4200,
         " - ",
         "103",
         60
        ],
        [
         108,
         "Nancy",
         "Greenberg",
         "NGREENBE",
         "515.124.4569",
         "17-AUG-02",
         "FI_MGR",
         12008,
         " - ",
         "101",
         100
        ],
        [
         109,
         "Daniel",
         "Faviet",
         "DFAVIET",
         "515.124.4169",
         "16-AUG-02",
         "FI_ACCOUNT",
         9000,
         " - ",
         "108",
         100
        ],
        [
         110,
         "John",
         "Chen",
         "JCHEN",
         "515.124.4269",
         "28-SEP-05",
         "FI_ACCOUNT",
         8200,
         " - ",
         "108",
         100
        ],
        [
         111,
         "Ismael",
         "Sciarra",
         "ISCIARRA",
         "515.124.4369",
         "30-SEP-05",
         "FI_ACCOUNT",
         7700,
         " - ",
         "108",
         100
        ],
        [
         112,
         "Jose Manuel",
         "Urman",
         "JMURMAN",
         "515.124.4469",
         "07-MAR-06",
         "FI_ACCOUNT",
         7800,
         " - ",
         "108",
         100
        ],
        [
         113,
         "Luis",
         "Popp",
         "LPOPP",
         "515.124.4567",
         "07-DEC-07",
         "FI_ACCOUNT",
         6900,
         " - ",
         "108",
         100
        ],
        [
         114,
         "Den",
         "Raphaely",
         "DRAPHEAL",
         "515.127.4561",
         "07-DEC-02",
         "PU_MAN",
         11000,
         " - ",
         "100",
         30
        ],
        [
         115,
         "Alexander",
         "Khoo",
         "AKHOO",
         "515.127.4562",
         "18-MAY-03",
         "PU_CLERK",
         3100,
         " - ",
         "114",
         30
        ],
        [
         116,
         "Shelli",
         "Baida",
         "SBAIDA",
         "515.127.4563",
         "24-DEC-05",
         "PU_CLERK",
         2900,
         " - ",
         "114",
         30
        ],
        [
         117,
         "Sigal",
         "Tobias",
         "STOBIAS",
         "515.127.4564",
         "24-JUL-05",
         "PU_CLERK",
         2800,
         " - ",
         "114",
         30
        ],
        [
         118,
         "Guy",
         "Himuro",
         "GHIMURO",
         "515.127.4565",
         "15-NOV-06",
         "PU_CLERK",
         2600,
         " - ",
         "114",
         30
        ],
        [
         119,
         "Karen",
         "Colmenares",
         "KCOLMENA",
         "515.127.4566",
         "10-AUG-07",
         "PU_CLERK",
         2500,
         " - ",
         "114",
         30
        ],
        [
         120,
         "Matthew",
         "Weiss",
         "MWEISS",
         "650.123.1234",
         "18-JUL-04",
         "ST_MAN",
         8000,
         " - ",
         "100",
         50
        ],
        [
         121,
         "Adam",
         "Fripp",
         "AFRIPP",
         "650.123.2234",
         "10-APR-05",
         "ST_MAN",
         8200,
         " - ",
         "100",
         50
        ],
        [
         122,
         "Payam",
         "Kaufling",
         "PKAUFLIN",
         "650.123.3234",
         "01-MAY-03",
         "ST_MAN",
         7900,
         " - ",
         "100",
         50
        ],
        [
         123,
         "Shanta",
         "Vollman",
         "SVOLLMAN",
         "650.123.4234",
         "10-OCT-05",
         "ST_MAN",
         6500,
         " - ",
         "100",
         50
        ],
        [
         124,
         "Kevin",
         "Mourgos",
         "KMOURGOS",
         "650.123.5234",
         "16-NOV-07",
         "ST_MAN",
         5800,
         " - ",
         "100",
         50
        ],
        [
         125,
         "Julia",
         "Nayer",
         "JNAYER",
         "650.124.1214",
         "16-JUL-05",
         "ST_CLERK",
         3200,
         " - ",
         "120",
         50
        ],
        [
         126,
         "Irene",
         "Mikkilineni",
         "IMIKKILI",
         "650.124.1224",
         "28-SEP-06",
         "ST_CLERK",
         2700,
         " - ",
         "120",
         50
        ],
        [
         127,
         "James",
         "Landry",
         "JLANDRY",
         "650.124.1334",
         "14-JAN-07",
         "ST_CLERK",
         2400,
         " - ",
         "120",
         50
        ],
        [
         128,
         "Steven",
         "Markle",
         "SMARKLE",
         "650.124.1434",
         "08-MAR-08",
         "ST_CLERK",
         2200,
         " - ",
         "120",
         50
        ],
        [
         129,
         "Laura",
         "Bissot",
         "LBISSOT",
         "650.124.5234",
         "20-AUG-05",
         "ST_CLERK",
         3300,
         " - ",
         "121",
         50
        ],
        [
         130,
         "Mozhe",
         "Atkinson",
         "MATKINSO",
         "650.124.6234",
         "30-OCT-05",
         "ST_CLERK",
         2800,
         " - ",
         "121",
         50
        ],
        [
         131,
         "James",
         "Marlow",
         "JAMRLOW",
         "650.124.7234",
         "16-FEB-05",
         "ST_CLERK",
         2500,
         " - ",
         "121",
         50
        ],
        [
         132,
         "TJ",
         "Olson",
         "TJOLSON",
         "650.124.8234",
         "10-APR-07",
         "ST_CLERK",
         2100,
         " - ",
         "121",
         50
        ],
        [
         133,
         "Jason",
         "Mallin",
         "JMALLIN",
         "650.127.1934",
         "14-JUN-04",
         "ST_CLERK",
         3300,
         " - ",
         "122",
         50
        ],
        [
         134,
         "Michael",
         "Rogers",
         "MROGERS",
         "650.127.1834",
         "26-AUG-06",
         "ST_CLERK",
         2900,
         " - ",
         "122",
         50
        ],
        [
         135,
         "Ki",
         "Gee",
         "KGEE",
         "650.127.1734",
         "12-DEC-07",
         "ST_CLERK",
         2400,
         " - ",
         "122",
         50
        ],
        [
         136,
         "Hazel",
         "Philtanker",
         "HPHILTAN",
         "650.127.1634",
         "06-FEB-08",
         "ST_CLERK",
         2200,
         " - ",
         "122",
         50
        ],
        [
         137,
         "Renske",
         "Ladwig",
         "RLADWIG",
         "650.121.1234",
         "14-JUL-03",
         "ST_CLERK",
         3600,
         " - ",
         "123",
         50
        ],
        [
         138,
         "Stephen",
         "Stiles",
         "SSTILES",
         "650.121.2034",
         "26-OCT-05",
         "ST_CLERK",
         3200,
         " - ",
         "123",
         50
        ],
        [
         139,
         "John",
         "Seo",
         "JSEO",
         "650.121.2019",
         "12-FEB-06",
         "ST_CLERK",
         2700,
         " - ",
         "123",
         50
        ],
        [
         140,
         "Joshua",
         "Patel",
         "JPATEL",
         "650.121.1834",
         "06-APR-06",
         "ST_CLERK",
         2500,
         " - ",
         "123",
         50
        ]
       ],
       "datasetInfos": [],
       "dbfsResultPath": null,
       "isJsonSchema": true,
       "metadata": {},
       "overflow": false,
       "plotOptions": {
        "customPlotOptions": {},
        "displayType": "table",
        "pivotAggregation": null,
        "pivotColumns": null,
        "xColumns": null,
        "yColumns": null
       },
       "removedWidgets": [],
       "schema": [
        {
         "metadata": "{}",
         "name": "EMPLOYEE_ID",
         "type": "\"integer\""
        },
        {
         "metadata": "{}",
         "name": "FIRST_NAME",
         "type": "\"string\""
        },
        {
         "metadata": "{}",
         "name": "LAST_NAME",
         "type": "\"string\""
        },
        {
         "metadata": "{}",
         "name": "EMAIL",
         "type": "\"string\""
        },
        {
         "metadata": "{}",
         "name": "PHONE_NUMBER",
         "type": "\"string\""
        },
        {
         "metadata": "{}",
         "name": "HIRE_DATE",
         "type": "\"string\""
        },
        {
         "metadata": "{}",
         "name": "JOB_ID",
         "type": "\"string\""
        },
        {
         "metadata": "{}",
         "name": "SALARY",
         "type": "\"integer\""
        },
        {
         "metadata": "{}",
         "name": "COMMISSION_PCT",
         "type": "\"string\""
        },
        {
         "metadata": "{}",
         "name": "MANAGER_ID",
         "type": "\"string\""
        },
        {
         "metadata": "{}",
         "name": "DEPARTMENT_ID",
         "type": "\"integer\""
        }
       ],
       "type": "table"
      }
     },
     "output_type": "display_data"
    }
   ],
   "source": [
    "emp_df.union(emp_df).display()"
   ]
  },
  {
   "cell_type": "code",
   "execution_count": 0,
   "metadata": {
    "application/vnd.databricks.v1+cell": {
     "cellMetadata": {},
     "inputWidgets": {},
     "nuid": "72524093-2c1f-45c5-870f-a15c98204114",
     "showTitle": false,
     "tableResultSettingsMap": {},
     "title": ""
    }
   },
   "outputs": [],
   "source": [
    "# type cast in dataframes ===> changing datatype"
   ]
  },
  {
   "cell_type": "code",
   "execution_count": 0,
   "metadata": {
    "application/vnd.databricks.v1+cell": {
     "cellMetadata": {
      "byteLimit": 2048000,
      "rowLimit": 10000
     },
     "inputWidgets": {},
     "nuid": "f00a0684-4c5c-4ee5-bbce-a7b8cbc05370",
     "showTitle": false,
     "tableResultSettingsMap": {},
     "title": ""
    }
   },
   "outputs": [
    {
     "output_type": "display_data",
     "data": {
      "text/html": [
       "<style scoped>\n",
       "  .table-result-container {\n",
       "    max-height: 300px;\n",
       "    overflow: auto;\n",
       "  }\n",
       "  table, th, td {\n",
       "    border: 1px solid black;\n",
       "    border-collapse: collapse;\n",
       "  }\n",
       "  th, td {\n",
       "    padding: 5px;\n",
       "  }\n",
       "  th {\n",
       "    text-align: left;\n",
       "  }\n",
       "</style><div class='table-result-container'><table class='table-result'><thead style='background-color: white'><tr><th>EMPLOYEE_ID</th></tr></thead><tbody><tr><td>198</td></tr><tr><td>199</td></tr><tr><td>200</td></tr><tr><td>201</td></tr><tr><td>202</td></tr><tr><td>203</td></tr><tr><td>204</td></tr><tr><td>205</td></tr><tr><td>206</td></tr><tr><td>100</td></tr><tr><td>101</td></tr><tr><td>102</td></tr><tr><td>103</td></tr><tr><td>104</td></tr><tr><td>105</td></tr><tr><td>106</td></tr><tr><td>107</td></tr><tr><td>108</td></tr><tr><td>109</td></tr><tr><td>110</td></tr><tr><td>111</td></tr><tr><td>112</td></tr><tr><td>113</td></tr><tr><td>114</td></tr><tr><td>115</td></tr><tr><td>116</td></tr><tr><td>117</td></tr><tr><td>118</td></tr><tr><td>119</td></tr><tr><td>120</td></tr><tr><td>121</td></tr><tr><td>122</td></tr><tr><td>123</td></tr><tr><td>124</td></tr><tr><td>125</td></tr><tr><td>126</td></tr><tr><td>127</td></tr><tr><td>128</td></tr><tr><td>129</td></tr><tr><td>130</td></tr><tr><td>131</td></tr><tr><td>132</td></tr><tr><td>133</td></tr><tr><td>134</td></tr><tr><td>135</td></tr><tr><td>136</td></tr><tr><td>137</td></tr><tr><td>138</td></tr><tr><td>139</td></tr><tr><td>140</td></tr></tbody></table></div>"
      ]
     },
     "metadata": {
      "application/vnd.databricks.v1+output": {
       "addedWidgets": {},
       "aggData": [],
       "aggError": "",
       "aggOverflow": false,
       "aggSchema": [],
       "aggSeriesLimitReached": false,
       "aggType": "",
       "arguments": {},
       "columnCustomDisplayInfos": {},
       "data": [
        [
         "198"
        ],
        [
         "199"
        ],
        [
         "200"
        ],
        [
         "201"
        ],
        [
         "202"
        ],
        [
         "203"
        ],
        [
         "204"
        ],
        [
         "205"
        ],
        [
         "206"
        ],
        [
         "100"
        ],
        [
         "101"
        ],
        [
         "102"
        ],
        [
         "103"
        ],
        [
         "104"
        ],
        [
         "105"
        ],
        [
         "106"
        ],
        [
         "107"
        ],
        [
         "108"
        ],
        [
         "109"
        ],
        [
         "110"
        ],
        [
         "111"
        ],
        [
         "112"
        ],
        [
         "113"
        ],
        [
         "114"
        ],
        [
         "115"
        ],
        [
         "116"
        ],
        [
         "117"
        ],
        [
         "118"
        ],
        [
         "119"
        ],
        [
         "120"
        ],
        [
         "121"
        ],
        [
         "122"
        ],
        [
         "123"
        ],
        [
         "124"
        ],
        [
         "125"
        ],
        [
         "126"
        ],
        [
         "127"
        ],
        [
         "128"
        ],
        [
         "129"
        ],
        [
         "130"
        ],
        [
         "131"
        ],
        [
         "132"
        ],
        [
         "133"
        ],
        [
         "134"
        ],
        [
         "135"
        ],
        [
         "136"
        ],
        [
         "137"
        ],
        [
         "138"
        ],
        [
         "139"
        ],
        [
         "140"
        ]
       ],
       "datasetInfos": [],
       "dbfsResultPath": null,
       "isJsonSchema": true,
       "metadata": {},
       "overflow": false,
       "plotOptions": {
        "customPlotOptions": {},
        "displayType": "table",
        "pivotAggregation": null,
        "pivotColumns": null,
        "xColumns": null,
        "yColumns": null
       },
       "removedWidgets": [],
       "schema": [
        {
         "metadata": "{}",
         "name": "EMPLOYEE_ID",
         "type": "\"string\""
        }
       ],
       "type": "table"
      }
     },
     "output_type": "display_data"
    }
   ],
   "source": [
    "emp_df.select(col(\"EMPLOYEE_ID\").cast(\"String\")).display()"
   ]
  },
  {
   "cell_type": "code",
   "execution_count": 0,
   "metadata": {
    "application/vnd.databricks.v1+cell": {
     "cellMetadata": {},
     "inputWidgets": {},
     "nuid": "4e169a0d-52db-44dd-ad71-d71429a1feca",
     "showTitle": false,
     "tableResultSettingsMap": {},
     "title": ""
    }
   },
   "outputs": [],
   "source": [
    "emp table, dept table ----> sample_cat_name.same_schema_name.emp\n",
    "                            sample_cat_name.same_schema_name.dept"
   ]
  },
  {
   "cell_type": "code",
   "execution_count": 0,
   "metadata": {
    "application/vnd.databricks.v1+cell": {
     "cellMetadata": {},
     "inputWidgets": {},
     "nuid": "f2a50ec0-4a7c-47ce-86f1-301ac5795102",
     "showTitle": false,
     "tableResultSettingsMap": {},
     "title": ""
    }
   },
   "outputs": [],
   "source": [
    "catlog name ==> hcl_org\n",
    "shcema name ==> landing_emp\n",
    "tablename ---> emp, dept\n",
    "\n",
    "under the same catlog  ===> curated_emp\n",
    "table_name ==> emp_details   ( emp join dept on dept_id )\n",
    "\n",
    "hcl_org.landing_emp.emp\n",
    "hcl_org.landing_emp.dept\n",
    "\n",
    "hcl_org.curated_emp.emp_details  ( emp_id, full_name ( concat first_name + last_name (I need camel case - 1st letter should be upper case)), salary, email, dept_id, dept_name)\n"
   ]
  },
  {
   "cell_type": "code",
   "execution_count": 0,
   "metadata": {
    "application/vnd.databricks.v1+cell": {
     "cellMetadata": {},
     "inputWidgets": {},
     "nuid": "a4e165c6-3c80-4920-b299-4b71111681fe",
     "showTitle": false,
     "tableResultSettingsMap": {},
     "title": ""
    }
   },
   "outputs": [],
   "source": [
    "Assa Dffd"
   ]
  },
  {
   "cell_type": "code",
   "execution_count": 0,
   "metadata": {
    "application/vnd.databricks.v1+cell": {
     "cellMetadata": {},
     "inputWidgets": {},
     "nuid": "29ee1872-f5b0-4ec9-9635-ff1e06ae9e03",
     "showTitle": false,
     "tableResultSettingsMap": {},
     "title": ""
    }
   },
   "outputs": [],
   "source": [
    "sample_cat.flights.flights_data"
   ]
  }
 ],
 "metadata": {
  "application/vnd.databricks.v1+notebook": {
   "computePreferences": {
    "hardware": {
     "accelerator": null,
     "gpuPoolId": null,
     "memory": null
    }
   },
   "dashboards": [],
   "environmentMetadata": {
    "base_environment": "",
    "environment_version": "4"
   },
   "inputWidgetPreferences": null,
   "language": "python",
   "notebookMetadata": {
    "pythonIndentUnit": 4
   },
   "notebookName": "pyspark_session5",
   "widgets": {}
  },
  "language_info": {
   "name": "python"
  }
 },
 "nbformat": 4,
 "nbformat_minor": 0
}